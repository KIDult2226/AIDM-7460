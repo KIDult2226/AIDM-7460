{
 "cells": [
  {
   "attachments": {},
   "cell_type": "markdown",
   "metadata": {},
   "source": [
    "## **Model Training**"
   ]
  },
  {
   "cell_type": "code",
   "execution_count": null,
   "metadata": {},
   "outputs": [
    {
     "name": "stdout",
     "output_type": "stream",
     "text": [
      "lr: 0.0001; model name: mdfend; batchsize: 64; epoch: 50; gpu: 0; domain_num: 3\n",
      "{'lr': [0.0001, 0.0001, 0.0001, 0.0001, 0.0001, 0.0001, 0.0001, 0.0001, 0.0001, 0.0001]}\n"
     ]
    },
    {
     "name": "stderr",
     "output_type": "stream",
     "text": [
      "Some weights of the model checkpoint at hfl/chinese-bert-wwm-ext were not used when initializing BertModel: ['cls.predictions.transform.dense.bias', 'cls.seq_relationship.weight', 'cls.predictions.decoder.weight', 'cls.predictions.transform.LayerNorm.weight', 'cls.predictions.transform.LayerNorm.bias', 'cls.predictions.bias', 'cls.seq_relationship.bias', 'cls.predictions.transform.dense.weight']\n",
      "- This IS expected if you are initializing BertModel from the checkpoint of a model trained on another task or with another architecture (e.g. initializing a BertForSequenceClassification model from a BertForPreTraining model).\n",
      "- This IS NOT expected if you are initializing BertModel from the checkpoint of a model that you expect to be exactly identical (initializing a BertForSequenceClassification model from a BertForSequenceClassification model).\n",
      "100%|██████████| 31/31 [00:50<00:00,  1.62s/it]\n"
     ]
    },
    {
     "name": "stdout",
     "output_type": "stream",
     "text": [
      "Training Epoch 1; Loss 0.49425406705948616; \n"
     ]
    },
    {
     "name": "stderr",
     "output_type": "stream",
     "text": [
      "100%|██████████| 11/11 [00:26<00:00,  2.38s/it]\n"
     ]
    },
    {
     "name": "stdout",
     "output_type": "stream",
     "text": [
      "curent {'政治': {'precision': 0.8713, 'recall': 0.7531, 'fscore': 0.7706, 'auc': 0.9197, 'acc': 0.8118}, '医药健康': {'precision': 0.8327, 'recall': 0.8269, 'fscore': 0.8197, 'auc': 0.9343, 'acc': 0.82}, '文体娱乐': {'precision': 0.821, 'recall': 0.8723, 'fscore': 0.829, 'auc': 0.9547, 'acc': 0.8403}, 'auc': 0.9391887449871804, 'metric': 0.8267333136225885, 'recall': 0.8416277693774242, 'precision': 0.8433691722438807, 'acc': 0.8267477203647416}\n",
      "Max {'政治': {'precision': 0.8713, 'recall': 0.7531, 'fscore': 0.7706, 'auc': 0.9197, 'acc': 0.8118}, '医药健康': {'precision': 0.8327, 'recall': 0.8269, 'fscore': 0.8197, 'auc': 0.9343, 'acc': 0.82}, '文体娱乐': {'precision': 0.821, 'recall': 0.8723, 'fscore': 0.829, 'auc': 0.9547, 'acc': 0.8403}, 'auc': 0.9391887449871804, 'metric': 0.8267333136225885, 'recall': 0.8416277693774242, 'precision': 0.8433691722438807, 'acc': 0.8267477203647416}\n"
     ]
    },
    {
     "name": "stderr",
     "output_type": "stream",
     "text": [
      "100%|██████████| 31/31 [00:51<00:00,  1.67s/it]\n"
     ]
    },
    {
     "name": "stdout",
     "output_type": "stream",
     "text": [
      "Training Epoch 2; Loss 0.2742254671550567; \n"
     ]
    },
    {
     "name": "stderr",
     "output_type": "stream",
     "text": [
      "100%|██████████| 11/11 [00:23<00:00,  2.13s/it]\n"
     ]
    },
    {
     "name": "stdout",
     "output_type": "stream",
     "text": [
      "curent {'政治': {'precision': 0.8992, 'recall': 0.853, 'fscore': 0.868, 'auc': 0.9512, 'acc': 0.8824}, '医药健康': {'precision': 0.8927, 'recall': 0.8937, 'fscore': 0.89, 'auc': 0.9616, 'acc': 0.89}, '文体娱乐': {'precision': 0.8752, 'recall': 0.8989, 'fscore': 0.8852, 'auc': 0.9687, 'acc': 0.8993}, 'auc': 0.9661429228847545, 'metric': 0.8915439170758321, 'recall': 0.897606994937874, 'precision': 0.8912175648702595, 'acc': 0.89209726443769}\n",
      "Max {'政治': {'precision': 0.8992, 'recall': 0.853, 'fscore': 0.868, 'auc': 0.9512, 'acc': 0.8824}, '医药健康': {'precision': 0.8927, 'recall': 0.8937, 'fscore': 0.89, 'auc': 0.9616, 'acc': 0.89}, '文体娱乐': {'precision': 0.8752, 'recall': 0.8989, 'fscore': 0.8852, 'auc': 0.9687, 'acc': 0.8993}, 'auc': 0.9661429228847545, 'metric': 0.8915439170758321, 'recall': 0.897606994937874, 'precision': 0.8912175648702595, 'acc': 0.89209726443769}\n"
     ]
    },
    {
     "name": "stderr",
     "output_type": "stream",
     "text": [
      "100%|██████████| 31/31 [00:47<00:00,  1.52s/it]\n"
     ]
    },
    {
     "name": "stdout",
     "output_type": "stream",
     "text": [
      "Training Epoch 3; Loss 0.16593557163592307; \n"
     ]
    },
    {
     "name": "stderr",
     "output_type": "stream",
     "text": [
      "100%|██████████| 11/11 [00:22<00:00,  2.02s/it]\n"
     ]
    },
    {
     "name": "stdout",
     "output_type": "stream",
     "text": [
      "curent {'政治': {'precision': 0.9076, 'recall': 0.8687, 'fscore': 0.8822, 'auc': 0.9518, 'acc': 0.8941}, '医药健康': {'precision': 0.887, 'recall': 0.8883, 'fscore': 0.885, 'auc': 0.9702, 'acc': 0.885}, '文体娱乐': {'precision': 0.9069, 'recall': 0.9043, 'fscore': 0.9056, 'auc': 0.9787, 'acc': 0.9201}, 'auc': 0.9714492331677264, 'metric': 0.9018642803877703, 'recall': 0.9054631516665571, 'precision': 0.9003347520887233, 'acc': 0.9027355623100304}\n",
      "Max {'政治': {'precision': 0.9076, 'recall': 0.8687, 'fscore': 0.8822, 'auc': 0.9518, 'acc': 0.8941}, '医药健康': {'precision': 0.887, 'recall': 0.8883, 'fscore': 0.885, 'auc': 0.9702, 'acc': 0.885}, '文体娱乐': {'precision': 0.9069, 'recall': 0.9043, 'fscore': 0.9056, 'auc': 0.9787, 'acc': 0.9201}, 'auc': 0.9714492331677264, 'metric': 0.9018642803877703, 'recall': 0.9054631516665571, 'precision': 0.9003347520887233, 'acc': 0.9027355623100304}\n"
     ]
    },
    {
     "name": "stderr",
     "output_type": "stream",
     "text": [
      "100%|██████████| 31/31 [00:45<00:00,  1.47s/it]\n"
     ]
    },
    {
     "name": "stdout",
     "output_type": "stream",
     "text": [
      "Training Epoch 4; Loss 0.09414876468719975; \n"
     ]
    },
    {
     "name": "stderr",
     "output_type": "stream",
     "text": [
      "100%|██████████| 11/11 [00:22<00:00,  2.04s/it]\n"
     ]
    },
    {
     "name": "stdout",
     "output_type": "stream",
     "text": [
      "curent {'政治': {'precision': 0.9248, 'recall': 0.9248, 'fscore': 0.9248, 'auc': 0.9525, 'acc': 0.9294}, '医药健康': {'precision': 0.9102, 'recall': 0.8885, 'fscore': 0.8924, 'auc': 0.9737, 'acc': 0.895}, '文体娱乐': {'precision': 0.9352, 'recall': 0.8845, 'fscore': 0.9048, 'auc': 0.9799, 'acc': 0.9236}, 'auc': 0.9747738948317477, 'metric': 0.9136843360562877, 'recall': 0.9085201498915259, 'precision': 0.9238910111483589, 'acc': 0.9164133738601824}\n",
      "Max {'政治': {'precision': 0.9248, 'recall': 0.9248, 'fscore': 0.9248, 'auc': 0.9525, 'acc': 0.9294}, '医药健康': {'precision': 0.9102, 'recall': 0.8885, 'fscore': 0.8924, 'auc': 0.9737, 'acc': 0.895}, '文体娱乐': {'precision': 0.9352, 'recall': 0.8845, 'fscore': 0.9048, 'auc': 0.9799, 'acc': 0.9236}, 'auc': 0.9747738948317477, 'metric': 0.9136843360562877, 'recall': 0.9085201498915259, 'precision': 0.9238910111483589, 'acc': 0.9164133738601824}\n"
     ]
    },
    {
     "name": "stderr",
     "output_type": "stream",
     "text": [
      "100%|██████████| 31/31 [00:44<00:00,  1.43s/it]\n"
     ]
    },
    {
     "name": "stdout",
     "output_type": "stream",
     "text": [
      "Training Epoch 5; Loss 0.05856377883784233; \n"
     ]
    },
    {
     "name": "stderr",
     "output_type": "stream",
     "text": [
      "100%|██████████| 11/11 [00:23<00:00,  2.10s/it]\n"
     ]
    },
    {
     "name": "stdout",
     "output_type": "stream",
     "text": [
      "curent {'政治': {'precision': 0.9071, 'recall': 0.8796, 'fscore': 0.8901, 'auc': 0.9543, 'acc': 0.9}, '医药健康': {'precision': 0.9196, 'recall': 0.9196, 'fscore': 0.9196, 'auc': 0.9757, 'acc': 0.92}, '文体娱乐': {'precision': 0.923, 'recall': 0.9118, 'fscore': 0.9171, 'auc': 0.9818, 'acc': 0.9306}, 'auc': 0.9752434798125417, 'metric': 0.9182748527733449, 'recall': 0.9191045953586221, 'precision': 0.9175555805075231, 'acc': 0.9194528875379939}\n",
      "Max {'政治': {'precision': 0.9071, 'recall': 0.8796, 'fscore': 0.8901, 'auc': 0.9543, 'acc': 0.9}, '医药健康': {'precision': 0.9196, 'recall': 0.9196, 'fscore': 0.9196, 'auc': 0.9757, 'acc': 0.92}, '文体娱乐': {'precision': 0.923, 'recall': 0.9118, 'fscore': 0.9171, 'auc': 0.9818, 'acc': 0.9306}, 'auc': 0.9752434798125417, 'metric': 0.9182748527733449, 'recall': 0.9191045953586221, 'precision': 0.9175555805075231, 'acc': 0.9194528875379939}\n"
     ]
    },
    {
     "name": "stderr",
     "output_type": "stream",
     "text": [
      "100%|██████████| 31/31 [00:47<00:00,  1.53s/it]\n"
     ]
    },
    {
     "name": "stdout",
     "output_type": "stream",
     "text": [
      "Training Epoch 6; Loss 0.04058310269348083; \n"
     ]
    },
    {
     "name": "stderr",
     "output_type": "stream",
     "text": [
      "100%|██████████| 11/11 [00:25<00:00,  2.30s/it]\n"
     ]
    },
    {
     "name": "stdout",
     "output_type": "stream",
     "text": [
      "curent {'政治': {'precision': 0.9206, 'recall': 0.8921, 'fscore': 0.903, 'auc': 0.9575, 'acc': 0.9118}, '医药健康': {'precision': 0.9397, 'recall': 0.9397, 'fscore': 0.9397, 'auc': 0.9756, 'acc': 0.94}, '文体娱乐': {'precision': 0.9112, 'recall': 0.9189, 'fscore': 0.9149, 'auc': 0.9818, 'acc': 0.9271}, 'auc': 0.9765958845572283, 'metric': 0.9261676562719154, 'recall': 0.9282098481362172, 'precision': 0.924763138036724, 'acc': 0.9270516717325228}\n",
      "Max {'政治': {'precision': 0.9206, 'recall': 0.8921, 'fscore': 0.903, 'auc': 0.9575, 'acc': 0.9118}, '医药健康': {'precision': 0.9397, 'recall': 0.9397, 'fscore': 0.9397, 'auc': 0.9756, 'acc': 0.94}, '文体娱乐': {'precision': 0.9112, 'recall': 0.9189, 'fscore': 0.9149, 'auc': 0.9818, 'acc': 0.9271}, 'auc': 0.9765958845572283, 'metric': 0.9261676562719154, 'recall': 0.9282098481362172, 'precision': 0.924763138036724, 'acc': 0.9270516717325228}\n"
     ]
    },
    {
     "name": "stderr",
     "output_type": "stream",
     "text": [
      "100%|██████████| 31/31 [00:49<00:00,  1.61s/it]\n"
     ]
    },
    {
     "name": "stdout",
     "output_type": "stream",
     "text": [
      "Training Epoch 7; Loss 0.027184319952803272; \n"
     ]
    },
    {
     "name": "stderr",
     "output_type": "stream",
     "text": [
      "100%|██████████| 11/11 [00:25<00:00,  2.32s/it]\n"
     ]
    },
    {
     "name": "stdout",
     "output_type": "stream",
     "text": [
      "curent {'政治': {'precision': 0.9162, 'recall': 0.8843, 'fscore': 0.8962, 'auc': 0.9573, 'acc': 0.9059}, '医药健康': {'precision': 0.9293, 'recall': 0.9304, 'fscore': 0.9297, 'auc': 0.9781, 'acc': 0.93}, '文体娱乐': {'precision': 0.9182, 'recall': 0.9182, 'fscore': 0.9182, 'auc': 0.982, 'acc': 0.9306}, 'auc': 0.9769245940437841, 'metric': 0.9230913086165786, 'recall': 0.9251199789625928, 'precision': 0.9216981395738814, 'acc': 0.9240121580547113}\n",
      "Max {'政治': {'precision': 0.9206, 'recall': 0.8921, 'fscore': 0.903, 'auc': 0.9575, 'acc': 0.9118}, '医药健康': {'precision': 0.9397, 'recall': 0.9397, 'fscore': 0.9397, 'auc': 0.9756, 'acc': 0.94}, '文体娱乐': {'precision': 0.9112, 'recall': 0.9189, 'fscore': 0.9149, 'auc': 0.9818, 'acc': 0.9271}, 'auc': 0.9765958845572283, 'metric': 0.9261676562719154, 'recall': 0.9282098481362172, 'precision': 0.924763138036724, 'acc': 0.9270516717325228}\n"
     ]
    },
    {
     "name": "stderr",
     "output_type": "stream",
     "text": [
      "100%|██████████| 31/31 [00:49<00:00,  1.59s/it]\n"
     ]
    },
    {
     "name": "stdout",
     "output_type": "stream",
     "text": [
      "Training Epoch 8; Loss 0.020048987270603252; \n"
     ]
    },
    {
     "name": "stderr",
     "output_type": "stream",
     "text": [
      "100%|██████████| 11/11 [00:24<00:00,  2.23s/it]\n"
     ]
    },
    {
     "name": "stdout",
     "output_type": "stream",
     "text": [
      "curent {'政治': {'precision': 0.8983, 'recall': 0.8749, 'fscore': 0.8841, 'auc': 0.9578, 'acc': 0.8941}, '医药健康': {'precision': 0.9397, 'recall': 0.9397, 'fscore': 0.9397, 'auc': 0.9778, 'acc': 0.94}, '文体娱乐': {'precision': 0.9182, 'recall': 0.9182, 'fscore': 0.9182, 'auc': 0.9816, 'acc': 0.9306}, 'auc': 0.9774880960207368, 'metric': 0.9229847280354317, 'recall': 0.924331076194859, 'precision': 0.9219218377924079, 'acc': 0.9240121580547113}\n",
      "Max {'政治': {'precision': 0.9206, 'recall': 0.8921, 'fscore': 0.903, 'auc': 0.9575, 'acc': 0.9118}, '医药健康': {'precision': 0.9397, 'recall': 0.9397, 'fscore': 0.9397, 'auc': 0.9756, 'acc': 0.94}, '文体娱乐': {'precision': 0.9112, 'recall': 0.9189, 'fscore': 0.9149, 'auc': 0.9818, 'acc': 0.9271}, 'auc': 0.9765958845572283, 'metric': 0.9261676562719154, 'recall': 0.9282098481362172, 'precision': 0.924763138036724, 'acc': 0.9270516717325228}\n"
     ]
    },
    {
     "name": "stderr",
     "output_type": "stream",
     "text": [
      "100%|██████████| 31/31 [00:47<00:00,  1.53s/it]\n"
     ]
    },
    {
     "name": "stdout",
     "output_type": "stream",
     "text": [
      "Training Epoch 9; Loss 0.01797014120365343; \n"
     ]
    },
    {
     "name": "stderr",
     "output_type": "stream",
     "text": [
      "100%|██████████| 11/11 [00:24<00:00,  2.24s/it]\n"
     ]
    },
    {
     "name": "stdout",
     "output_type": "stream",
     "text": [
      "curent {'政治': {'precision': 0.9162, 'recall': 0.8843, 'fscore': 0.8962, 'auc': 0.958, 'acc': 0.9059}, '医药健康': {'precision': 0.9397, 'recall': 0.9397, 'fscore': 0.9397, 'auc': 0.9784, 'acc': 0.94}, '文体娱乐': {'precision': 0.9182, 'recall': 0.9182, 'fscore': 0.9182, 'auc': 0.9812, 'acc': 0.9306}, 'auc': 0.9771875616330287, 'metric': 0.9261172243431395, 'recall': 0.9278153967523503, 'precision': 0.9248626617047669, 'acc': 0.9270516717325228}\n",
      "Max {'政治': {'precision': 0.9206, 'recall': 0.8921, 'fscore': 0.903, 'auc': 0.9575, 'acc': 0.9118}, '医药健康': {'precision': 0.9397, 'recall': 0.9397, 'fscore': 0.9397, 'auc': 0.9756, 'acc': 0.94}, '文体娱乐': {'precision': 0.9112, 'recall': 0.9189, 'fscore': 0.9149, 'auc': 0.9818, 'acc': 0.9271}, 'auc': 0.9765958845572283, 'metric': 0.9261676562719154, 'recall': 0.9282098481362172, 'precision': 0.924763138036724, 'acc': 0.9270516717325228}\n"
     ]
    },
    {
     "name": "stderr",
     "output_type": "stream",
     "text": [
      "100%|██████████| 11/11 [00:25<00:00,  2.30s/it]\n"
     ]
    },
    {
     "name": "stdout",
     "output_type": "stream",
     "text": [
      "{'政治': {'precision': 0.9135, 'recall': 0.8378, 'fscore': 0.8643, 'auc': 0.932, 'acc': 0.8947}, '医药健康': {'precision': 0.931, 'recall': 0.9296, 'fscore': 0.9299, 'auc': 0.9864, 'acc': 0.93}, '文体娱乐': {'precision': 0.9107, 'recall': 0.9135, 'fscore': 0.9121, 'auc': 0.9803, 'acc': 0.9271}, 'auc': 0.9766138742243216, 'metric': 0.9194080958786841, 'recall': 0.921283689913865, 'precision': 0.9190713101160862, 'acc': 0.9195751138088012}\n"
     ]
    },
    {
     "name": "stderr",
     "output_type": "stream",
     "text": [
      "Some weights of the model checkpoint at hfl/chinese-bert-wwm-ext were not used when initializing BertModel: ['cls.predictions.transform.dense.bias', 'cls.seq_relationship.weight', 'cls.predictions.decoder.weight', 'cls.predictions.transform.LayerNorm.weight', 'cls.predictions.transform.LayerNorm.bias', 'cls.predictions.bias', 'cls.seq_relationship.bias', 'cls.predictions.transform.dense.weight']\n",
      "- This IS expected if you are initializing BertModel from the checkpoint of a model trained on another task or with another architecture (e.g. initializing a BertForSequenceClassification model from a BertForPreTraining model).\n",
      "- This IS NOT expected if you are initializing BertModel from the checkpoint of a model that you expect to be exactly identical (initializing a BertForSequenceClassification model from a BertForSequenceClassification model).\n",
      "100%|██████████| 31/31 [00:46<00:00,  1.49s/it]\n"
     ]
    },
    {
     "name": "stdout",
     "output_type": "stream",
     "text": [
      "Training Epoch 1; Loss 0.48174593717821196; \n"
     ]
    },
    {
     "name": "stderr",
     "output_type": "stream",
     "text": [
      "100%|██████████| 11/11 [00:24<00:00,  2.24s/it]\n"
     ]
    },
    {
     "name": "stdout",
     "output_type": "stream",
     "text": [
      "curent {'政治': {'precision': 0.8713, 'recall': 0.7531, 'fscore': 0.7706, 'auc': 0.9214, 'acc': 0.8118}, '医药健康': {'precision': 0.8076, 'recall': 0.7941, 'fscore': 0.7838, 'auc': 0.9198, 'acc': 0.785}, '文体娱乐': {'precision': 0.8562, 'recall': 0.8768, 'fscore': 0.865, 'auc': 0.9518, 'acc': 0.8819}, 'auc': 0.9357325995285366, 'metric': 0.8342603740360818, 'recall': 0.8452107027808823, 'precision': 0.8418874172185431, 'acc': 0.8343465045592705}\n",
      "Max {'政治': {'precision': 0.8713, 'recall': 0.7531, 'fscore': 0.7706, 'auc': 0.9214, 'acc': 0.8118}, '医药健康': {'precision': 0.8076, 'recall': 0.7941, 'fscore': 0.7838, 'auc': 0.9198, 'acc': 0.785}, '文体娱乐': {'precision': 0.8562, 'recall': 0.8768, 'fscore': 0.865, 'auc': 0.9518, 'acc': 0.8819}, 'auc': 0.9357325995285366, 'metric': 0.8342603740360818, 'recall': 0.8452107027808823, 'precision': 0.8418874172185431, 'acc': 0.8343465045592705}\n"
     ]
    },
    {
     "name": "stderr",
     "output_type": "stream",
     "text": [
      "100%|██████████| 31/31 [00:46<00:00,  1.49s/it]\n"
     ]
    },
    {
     "name": "stdout",
     "output_type": "stream",
     "text": [
      "Training Epoch 2; Loss 0.26936709736624065; \n"
     ]
    },
    {
     "name": "stderr",
     "output_type": "stream",
     "text": [
      "100%|██████████| 11/11 [00:24<00:00,  2.19s/it]\n"
     ]
    },
    {
     "name": "stdout",
     "output_type": "stream",
     "text": [
      "curent {'政治': {'precision': 0.8982, 'recall': 0.8639, 'fscore': 0.8762, 'auc': 0.9444, 'acc': 0.8882}, '医药健康': {'precision': 0.9149, 'recall': 0.9142, 'fscore': 0.9145, 'auc': 0.9601, 'acc': 0.915}, '文体娱乐': {'precision': 0.903, 'recall': 0.872, 'fscore': 0.8853, 'auc': 0.971, 'acc': 0.9062}, 'auc': 0.9629591367149712, 'metric': 0.9026304848745357, 'recall': 0.9024718953388995, 'precision': 0.9027934431160237, 'acc': 0.9042553191489362}\n",
      "Max {'政治': {'precision': 0.8982, 'recall': 0.8639, 'fscore': 0.8762, 'auc': 0.9444, 'acc': 0.8882}, '医药健康': {'precision': 0.9149, 'recall': 0.9142, 'fscore': 0.9145, 'auc': 0.9601, 'acc': 0.915}, '文体娱乐': {'precision': 0.903, 'recall': 0.872, 'fscore': 0.8853, 'auc': 0.971, 'acc': 0.9062}, 'auc': 0.9629591367149712, 'metric': 0.9026304848745357, 'recall': 0.9024718953388995, 'precision': 0.9027934431160237, 'acc': 0.9042553191489362}\n"
     ]
    },
    {
     "name": "stderr",
     "output_type": "stream",
     "text": [
      "100%|██████████| 31/31 [00:44<00:00,  1.43s/it]\n"
     ]
    },
    {
     "name": "stdout",
     "output_type": "stream",
     "text": [
      "Training Epoch 3; Loss 0.16344610337288148; \n"
     ]
    },
    {
     "name": "stderr",
     "output_type": "stream",
     "text": [
      "100%|██████████| 11/11 [00:22<00:00,  2.06s/it]\n"
     ]
    },
    {
     "name": "stdout",
     "output_type": "stream",
     "text": [
      "curent {'政治': {'precision': 0.903, 'recall': 0.8827, 'fscore': 0.8909, 'auc': 0.9521, 'acc': 0.9}, '医药健康': {'precision': 0.9048, 'recall': 0.9042, 'fscore': 0.9045, 'auc': 0.969, 'acc': 0.905}, '文体娱乐': {'precision': 0.9181, 'recall': 0.8827, 'fscore': 0.8977, 'auc': 0.9768, 'acc': 0.9167}, 'auc': 0.9697023770391727, 'metric': 0.9070761467198916, 'recall': 0.9061205706396687, 'precision': 0.9081907171243286, 'acc': 0.9088145896656535}\n",
      "Max {'政治': {'precision': 0.903, 'recall': 0.8827, 'fscore': 0.8909, 'auc': 0.9521, 'acc': 0.9}, '医药健康': {'precision': 0.9048, 'recall': 0.9042, 'fscore': 0.9045, 'auc': 0.969, 'acc': 0.905}, '文体娱乐': {'precision': 0.9181, 'recall': 0.8827, 'fscore': 0.8977, 'auc': 0.9768, 'acc': 0.9167}, 'auc': 0.9697023770391727, 'metric': 0.9070761467198916, 'recall': 0.9061205706396687, 'precision': 0.9081907171243286, 'acc': 0.9088145896656535}\n"
     ]
    },
    {
     "name": "stderr",
     "output_type": "stream",
     "text": [
      "100%|██████████| 31/31 [00:44<00:00,  1.42s/it]\n"
     ]
    },
    {
     "name": "stdout",
     "output_type": "stream",
     "text": [
      "Training Epoch 4; Loss 0.09832121215520366; \n"
     ]
    },
    {
     "name": "stderr",
     "output_type": "stream",
     "text": [
      "100%|██████████| 11/11 [00:22<00:00,  2.03s/it]\n"
     ]
    },
    {
     "name": "stdout",
     "output_type": "stream",
     "text": [
      "curent {'政治': {'precision': 0.9223, 'recall': 0.9139, 'fscore': 0.9178, 'auc': 0.9573, 'acc': 0.9235}, '医药健康': {'precision': 0.9033, 'recall': 0.8838, 'fscore': 0.8875, 'auc': 0.9731, 'acc': 0.89}, '文体娱乐': {'precision': 0.9234, 'recall': 0.8941, 'fscore': 0.9069, 'auc': 0.9803, 'acc': 0.9236}, 'auc': 0.9743324849498014, 'metric': 0.9110209601081811, 'recall': 0.9074025376372362, 'precision': 0.9170416089832334, 'acc': 0.9133738601823708}\n",
      "Max {'政治': {'precision': 0.9223, 'recall': 0.9139, 'fscore': 0.9178, 'auc': 0.9573, 'acc': 0.9235}, '医药健康': {'precision': 0.9033, 'recall': 0.8838, 'fscore': 0.8875, 'auc': 0.9731, 'acc': 0.89}, '文体娱乐': {'precision': 0.9234, 'recall': 0.8941, 'fscore': 0.9069, 'auc': 0.9803, 'acc': 0.9236}, 'auc': 0.9743324849498014, 'metric': 0.9110209601081811, 'recall': 0.9074025376372362, 'precision': 0.9170416089832334, 'acc': 0.9133738601823708}\n"
     ]
    },
    {
     "name": "stderr",
     "output_type": "stream",
     "text": [
      "100%|██████████| 31/31 [00:43<00:00,  1.42s/it]\n"
     ]
    },
    {
     "name": "stdout",
     "output_type": "stream",
     "text": [
      "Training Epoch 5; Loss 0.05817456964042879; \n"
     ]
    },
    {
     "name": "stderr",
     "output_type": "stream",
     "text": [
      "100%|██████████| 11/11 [00:22<00:00,  2.03s/it]\n"
     ]
    },
    {
     "name": "stdout",
     "output_type": "stream",
     "text": [
      "curent {'政治': {'precision': 0.9119, 'recall': 0.8765, 'fscore': 0.8892, 'auc': 0.9603, 'acc': 0.9}, '医药健康': {'precision': 0.9249, 'recall': 0.9243, 'fscore': 0.9246, 'auc': 0.9764, 'acc': 0.925}, '文体娱乐': {'precision': 0.9128, 'recall': 0.9277, 'fscore': 0.9197, 'auc': 0.9813, 'acc': 0.9306}, 'auc': 0.9765113592606854, 'metric': 0.920119531213522, 'recall': 0.9228190125567024, 'precision': 0.9185422767628875, 'acc': 0.9209726443768997}\n",
      "Max {'政治': {'precision': 0.9119, 'recall': 0.8765, 'fscore': 0.8892, 'auc': 0.9603, 'acc': 0.9}, '医药健康': {'precision': 0.9249, 'recall': 0.9243, 'fscore': 0.9246, 'auc': 0.9764, 'acc': 0.925}, '文体娱乐': {'precision': 0.9128, 'recall': 0.9277, 'fscore': 0.9197, 'auc': 0.9813, 'acc': 0.9306}, 'auc': 0.9765113592606854, 'metric': 0.920119531213522, 'recall': 0.9228190125567024, 'precision': 0.9185422767628875, 'acc': 0.9209726443768997}\n"
     ]
    },
    {
     "name": "stderr",
     "output_type": "stream",
     "text": [
      "100%|██████████| 31/31 [00:43<00:00,  1.41s/it]\n"
     ]
    },
    {
     "name": "stdout",
     "output_type": "stream",
     "text": [
      "Training Epoch 6; Loss 0.03935936351697291; \n"
     ]
    },
    {
     "name": "stderr",
     "output_type": "stream",
     "text": [
      "100%|██████████| 11/11 [00:23<00:00,  2.18s/it]\n"
     ]
    },
    {
     "name": "stdout",
     "output_type": "stream",
     "text": [
      "curent {'政治': {'precision': 0.9117, 'recall': 0.8874, 'fscore': 0.897, 'auc': 0.9575, 'acc': 0.9059}, '医药健康': {'precision': 0.9196, 'recall': 0.9196, 'fscore': 0.9196, 'auc': 0.975, 'acc': 0.92}, '文体娱乐': {'precision': 0.9152, 'recall': 0.9125, 'fscore': 0.9138, 'auc': 0.9823, 'acc': 0.9271}, 'auc': 0.9764080505649108, 'metric': 0.918334562740759, 'recall': 0.9194990467424891, 'precision': 0.917386185243328, 'acc': 0.9194528875379939}\n",
      "Max {'政治': {'precision': 0.9119, 'recall': 0.8765, 'fscore': 0.8892, 'auc': 0.9603, 'acc': 0.9}, '医药健康': {'precision': 0.9249, 'recall': 0.9243, 'fscore': 0.9246, 'auc': 0.9764, 'acc': 0.925}, '文体娱乐': {'precision': 0.9128, 'recall': 0.9277, 'fscore': 0.9197, 'auc': 0.9813, 'acc': 0.9306}, 'auc': 0.9765113592606854, 'metric': 0.920119531213522, 'recall': 0.9228190125567024, 'precision': 0.9185422767628875, 'acc': 0.9209726443768997}\n"
     ]
    },
    {
     "name": "stderr",
     "output_type": "stream",
     "text": [
      "100%|██████████| 31/31 [00:46<00:00,  1.49s/it]\n"
     ]
    },
    {
     "name": "stdout",
     "output_type": "stream",
     "text": [
      "Training Epoch 7; Loss 0.02645065725570725; \n"
     ]
    },
    {
     "name": "stderr",
     "output_type": "stream",
     "text": [
      "100%|██████████| 11/11 [00:25<00:00,  2.29s/it]\n"
     ]
    },
    {
     "name": "stdout",
     "output_type": "stream",
     "text": [
      "curent {'政治': {'precision': 0.903, 'recall': 0.8827, 'fscore': 0.8909, 'auc': 0.9564, 'acc': 0.9}, '医药健康': {'precision': 0.9269, 'recall': 0.9229, 'fscore': 0.9243, 'auc': 0.9753, 'acc': 0.925}, '文体娱乐': {'precision': 0.923, 'recall': 0.903, 'fscore': 0.9121, 'auc': 0.9838, 'acc': 0.9271}, 'auc': 0.9766616264545396, 'metric': 0.9179518307559471, 'recall': 0.9171323384392873, 'precision': 0.9188829787234043, 'acc': 0.9194528875379939}\n",
      "Max {'政治': {'precision': 0.9119, 'recall': 0.8765, 'fscore': 0.8892, 'auc': 0.9603, 'acc': 0.9}, '医药健康': {'precision': 0.9249, 'recall': 0.9243, 'fscore': 0.9246, 'auc': 0.9764, 'acc': 0.925}, '文体娱乐': {'precision': 0.9128, 'recall': 0.9277, 'fscore': 0.9197, 'auc': 0.9813, 'acc': 0.9306}, 'auc': 0.9765113592606854, 'metric': 0.920119531213522, 'recall': 0.9228190125567024, 'precision': 0.9185422767628875, 'acc': 0.9209726443768997}\n"
     ]
    },
    {
     "name": "stderr",
     "output_type": "stream",
     "text": [
      "100%|██████████| 31/31 [00:49<00:00,  1.59s/it]\n"
     ]
    },
    {
     "name": "stdout",
     "output_type": "stream",
     "text": [
      "Training Epoch 8; Loss 0.021135357178507314; \n"
     ]
    },
    {
     "name": "stderr",
     "output_type": "stream",
     "text": [
      "100%|██████████| 11/11 [00:25<00:00,  2.29s/it]\n"
     ]
    },
    {
     "name": "stdout",
     "output_type": "stream",
     "text": [
      "curent {'政治': {'precision': 0.9119, 'recall': 0.8765, 'fscore': 0.8892, 'auc': 0.9599, 'acc': 0.9}, '医药健康': {'precision': 0.9004, 'recall': 0.9023, 'fscore': 0.8999, 'auc': 0.9759, 'acc': 0.9}, '文体娱乐': {'precision': 0.9287, 'recall': 0.9232, 'fscore': 0.9259, 'auc': 0.9817, 'acc': 0.9375}, 'auc': 0.9759290738845009, 'metric': 0.9155376626407608, 'recall': 0.9183814344881993, 'precision': 0.9139533154921201, 'acc': 0.9164133738601824}\n",
      "Max {'政治': {'precision': 0.9119, 'recall': 0.8765, 'fscore': 0.8892, 'auc': 0.9603, 'acc': 0.9}, '医药健康': {'precision': 0.9249, 'recall': 0.9243, 'fscore': 0.9246, 'auc': 0.9764, 'acc': 0.925}, '文体娱乐': {'precision': 0.9128, 'recall': 0.9277, 'fscore': 0.9197, 'auc': 0.9813, 'acc': 0.9306}, 'auc': 0.9765113592606854, 'metric': 0.920119531213522, 'recall': 0.9228190125567024, 'precision': 0.9185422767628875, 'acc': 0.9209726443768997}\n"
     ]
    },
    {
     "name": "stderr",
     "output_type": "stream",
     "text": [
      "100%|██████████| 11/11 [00:25<00:00,  2.28s/it]\n"
     ]
    },
    {
     "name": "stdout",
     "output_type": "stream",
     "text": [
      "{'政治': {'precision': 0.9135, 'recall': 0.8378, 'fscore': 0.8643, 'auc': 0.9224, 'acc': 0.8947}, '医药健康': {'precision': 0.932, 'recall': 0.9294, 'fscore': 0.9298, 'auc': 0.9795, 'acc': 0.93}, '文体娱乐': {'precision': 0.9055, 'recall': 0.9111, 'fscore': 0.9082, 'auc': 0.9758, 'acc': 0.9236}, 'auc': 0.9717421505973882, 'metric': 0.9179198804295678, 'recall': 0.9200981754190979, 'precision': 0.917799638922663, 'acc': 0.9180576631259484}\n"
     ]
    },
    {
     "name": "stderr",
     "output_type": "stream",
     "text": [
      "Some weights of the model checkpoint at hfl/chinese-bert-wwm-ext were not used when initializing BertModel: ['cls.predictions.transform.dense.bias', 'cls.seq_relationship.weight', 'cls.predictions.decoder.weight', 'cls.predictions.transform.LayerNorm.weight', 'cls.predictions.transform.LayerNorm.bias', 'cls.predictions.bias', 'cls.seq_relationship.bias', 'cls.predictions.transform.dense.weight']\n",
      "- This IS expected if you are initializing BertModel from the checkpoint of a model trained on another task or with another architecture (e.g. initializing a BertForSequenceClassification model from a BertForPreTraining model).\n",
      "- This IS NOT expected if you are initializing BertModel from the checkpoint of a model that you expect to be exactly identical (initializing a BertForSequenceClassification model from a BertForSequenceClassification model).\n",
      "100%|██████████| 31/31 [00:48<00:00,  1.58s/it]\n"
     ]
    },
    {
     "name": "stdout",
     "output_type": "stream",
     "text": [
      "Training Epoch 1; Loss 0.4854268104799332; \n"
     ]
    },
    {
     "name": "stderr",
     "output_type": "stream",
     "text": [
      "100%|██████████| 11/11 [00:24<00:00,  2.24s/it]\n"
     ]
    },
    {
     "name": "stdout",
     "output_type": "stream",
     "text": [
      "curent {'政治': {'precision': 0.8162, 'recall': 0.8028, 'fscore': 0.8082, 'auc': 0.9175, 'acc': 0.8235}, '医药健康': {'precision': 0.857, 'recall': 0.8582, 'fscore': 0.855, 'auc': 0.9349, 'acc': 0.855}, '文体娱乐': {'precision': 0.8654, 'recall': 0.8786, 'fscore': 0.8715, 'auc': 0.9539, 'acc': 0.8889}, 'auc': 0.9442696544793712, 'metric': 0.8605032580612846, 'recall': 0.8639471435145618, 'precision': 0.8592139414163886, 'acc': 0.8617021276595744}\n",
      "Max {'政治': {'precision': 0.8162, 'recall': 0.8028, 'fscore': 0.8082, 'auc': 0.9175, 'acc': 0.8235}, '医药健康': {'precision': 0.857, 'recall': 0.8582, 'fscore': 0.855, 'auc': 0.9349, 'acc': 0.855}, '文体娱乐': {'precision': 0.8654, 'recall': 0.8786, 'fscore': 0.8715, 'auc': 0.9539, 'acc': 0.8889}, 'auc': 0.9442696544793712, 'metric': 0.8605032580612846, 'recall': 0.8639471435145618, 'precision': 0.8592139414163886, 'acc': 0.8617021276595744}\n"
     ]
    },
    {
     "name": "stderr",
     "output_type": "stream",
     "text": [
      "100%|██████████| 31/31 [00:49<00:00,  1.59s/it]\n"
     ]
    },
    {
     "name": "stdout",
     "output_type": "stream",
     "text": [
      "Training Epoch 2; Loss 0.2702379774662755; \n"
     ]
    },
    {
     "name": "stderr",
     "output_type": "stream",
     "text": [
      "100%|██████████| 11/11 [00:25<00:00,  2.33s/it]\n"
     ]
    },
    {
     "name": "stdout",
     "output_type": "stream",
     "text": [
      "curent {'政治': {'precision': 0.9117, 'recall': 0.8874, 'fscore': 0.897, 'auc': 0.9533, 'acc': 0.9059}, '医药健康': {'precision': 0.9093, 'recall': 0.9103, 'fscore': 0.9097, 'auc': 0.9611, 'acc': 0.91}, '文体娱乐': {'precision': 0.8829, 'recall': 0.907, 'fscore': 0.8931, 'auc': 0.9723, 'acc': 0.9062}, 'auc': 0.9677676869183017, 'metric': 0.9064371379619809, 'recall': 0.9099007297350601, 'precision': 0.9048701298701298, 'acc': 0.9072948328267477}\n",
      "Max {'政治': {'precision': 0.9117, 'recall': 0.8874, 'fscore': 0.897, 'auc': 0.9533, 'acc': 0.9059}, '医药健康': {'precision': 0.9093, 'recall': 0.9103, 'fscore': 0.9097, 'auc': 0.9611, 'acc': 0.91}, '文体娱乐': {'precision': 0.8829, 'recall': 0.907, 'fscore': 0.8931, 'auc': 0.9723, 'acc': 0.9062}, 'auc': 0.9677676869183017, 'metric': 0.9064371379619809, 'recall': 0.9099007297350601, 'precision': 0.9048701298701298, 'acc': 0.9072948328267477}\n"
     ]
    },
    {
     "name": "stderr",
     "output_type": "stream",
     "text": [
      "100%|██████████| 31/31 [00:49<00:00,  1.59s/it]\n"
     ]
    },
    {
     "name": "stdout",
     "output_type": "stream",
     "text": [
      "Training Epoch 3; Loss 0.16570900548850337; \n"
     ]
    },
    {
     "name": "stderr",
     "output_type": "stream",
     "text": [
      "100%|██████████| 11/11 [00:25<00:00,  2.29s/it]\n"
     ]
    },
    {
     "name": "stdout",
     "output_type": "stream",
     "text": [
      "curent {'政治': {'precision': 0.9273, 'recall': 0.9217, 'fscore': 0.9243, 'auc': 0.9543, 'acc': 0.9294}, '医药健康': {'precision': 0.9226, 'recall': 0.9175, 'fscore': 0.9192, 'auc': 0.9719, 'acc': 0.92}, '文体娱乐': {'precision': 0.9202, 'recall': 0.8973, 'fscore': 0.9076, 'auc': 0.9802, 'acc': 0.9236}, 'auc': 0.974820853329827, 'metric': 0.9223595155611354, 'recall': 0.9203865623561895, 'precision': 0.924984571564206, 'acc': 0.9240121580547113}\n",
      "Max {'政治': {'precision': 0.9273, 'recall': 0.9217, 'fscore': 0.9243, 'auc': 0.9543, 'acc': 0.9294}, '医药健康': {'precision': 0.9226, 'recall': 0.9175, 'fscore': 0.9192, 'auc': 0.9719, 'acc': 0.92}, '文体娱乐': {'precision': 0.9202, 'recall': 0.8973, 'fscore': 0.9076, 'auc': 0.9802, 'acc': 0.9236}, 'auc': 0.974820853329827, 'metric': 0.9223595155611354, 'recall': 0.9203865623561895, 'precision': 0.924984571564206, 'acc': 0.9240121580547113}\n"
     ]
    },
    {
     "name": "stderr",
     "output_type": "stream",
     "text": [
      "100%|██████████| 31/31 [00:49<00:00,  1.59s/it]\n"
     ]
    },
    {
     "name": "stdout",
     "output_type": "stream",
     "text": [
      "Training Epoch 4; Loss 0.09608712552055236; \n"
     ]
    },
    {
     "name": "stderr",
     "output_type": "stream",
     "text": [
      "100%|██████████| 11/11 [00:25<00:00,  2.32s/it]\n"
     ]
    },
    {
     "name": "stdout",
     "output_type": "stream",
     "text": [
      "curent {'政治': {'precision': 0.9256, 'recall': 0.9108, 'fscore': 0.9172, 'auc': 0.9593, 'acc': 0.9235}, '医药健康': {'precision': 0.9244, 'recall': 0.925, 'fscore': 0.9247, 'auc': 0.9774, 'acc': 0.925}, '文体娱乐': {'precision': 0.9152, 'recall': 0.9125, 'fscore': 0.9138, 'auc': 0.9793, 'acc': 0.9271}, 'auc': 0.9766052762568441, 'metric': 0.9244427884130924, 'recall': 0.9252843337058707, 'precision': 0.9237124784789281, 'acc': 0.925531914893617}\n",
      "Max {'政治': {'precision': 0.9256, 'recall': 0.9108, 'fscore': 0.9172, 'auc': 0.9593, 'acc': 0.9235}, '医药健康': {'precision': 0.9244, 'recall': 0.925, 'fscore': 0.9247, 'auc': 0.9774, 'acc': 0.925}, '文体娱乐': {'precision': 0.9152, 'recall': 0.9125, 'fscore': 0.9138, 'auc': 0.9793, 'acc': 0.9271}, 'auc': 0.9766052762568441, 'metric': 0.9244427884130924, 'recall': 0.9252843337058707, 'precision': 0.9237124784789281, 'acc': 0.925531914893617}\n"
     ]
    },
    {
     "name": "stderr",
     "output_type": "stream",
     "text": [
      "100%|██████████| 31/31 [00:49<00:00,  1.58s/it]\n"
     ]
    },
    {
     "name": "stdout",
     "output_type": "stream",
     "text": [
      "Training Epoch 5; Loss 0.05651535634552279; \n"
     ]
    },
    {
     "name": "stderr",
     "output_type": "stream",
     "text": [
      "100%|██████████| 11/11 [00:24<00:00,  2.24s/it]\n"
     ]
    },
    {
     "name": "stdout",
     "output_type": "stream",
     "text": [
      "curent {'政治': {'precision': 0.9256, 'recall': 0.9108, 'fscore': 0.9172, 'auc': 0.9599, 'acc': 0.9235}, '医药健康': {'precision': 0.9249, 'recall': 0.9243, 'fscore': 0.9246, 'auc': 0.9762, 'acc': 0.925}, '文体娱乐': {'precision': 0.9032, 'recall': 0.9107, 'fscore': 0.9068, 'auc': 0.9839, 'acc': 0.9201}, 'auc': 0.978023422898842, 'metric': 0.9214162773543151, 'recall': 0.9225889159161134, 'precision': 0.9204604918890633, 'acc': 0.9224924012158054}\n",
      "Max {'政治': {'precision': 0.9256, 'recall': 0.9108, 'fscore': 0.9172, 'auc': 0.9593, 'acc': 0.9235}, '医药健康': {'precision': 0.9244, 'recall': 0.925, 'fscore': 0.9247, 'auc': 0.9774, 'acc': 0.925}, '文体娱乐': {'precision': 0.9152, 'recall': 0.9125, 'fscore': 0.9138, 'auc': 0.9793, 'acc': 0.9271}, 'auc': 0.9766052762568441, 'metric': 0.9244427884130924, 'recall': 0.9252843337058707, 'precision': 0.9237124784789281, 'acc': 0.925531914893617}\n"
     ]
    },
    {
     "name": "stderr",
     "output_type": "stream",
     "text": [
      "100%|██████████| 31/31 [00:49<00:00,  1.58s/it]\n"
     ]
    },
    {
     "name": "stdout",
     "output_type": "stream",
     "text": [
      "Training Epoch 6; Loss 0.03606598571904244; \n"
     ]
    },
    {
     "name": "stderr",
     "output_type": "stream",
     "text": [
      "100%|██████████| 11/11 [00:25<00:00,  2.30s/it]\n"
     ]
    },
    {
     "name": "stdout",
     "output_type": "stream",
     "text": [
      "curent {'政治': {'precision': 0.9174, 'recall': 0.9061, 'fscore': 0.9111, 'auc': 0.9608, 'acc': 0.9176}, '医药健康': {'precision': 0.9359, 'recall': 0.9336, 'fscore': 0.9345, 'auc': 0.9783, 'acc': 0.935}, '文体娱乐': {'precision': 0.9081, 'recall': 0.9132, 'fscore': 0.9106, 'auc': 0.9846, 'acc': 0.9236}, 'auc': 0.9789907679592776, 'metric': 0.9243860854637515, 'recall': 0.9248898823220038, 'precision': 0.9239224137931035, 'acc': 0.925531914893617}\n",
      "Max {'政治': {'precision': 0.9256, 'recall': 0.9108, 'fscore': 0.9172, 'auc': 0.9593, 'acc': 0.9235}, '医药健康': {'precision': 0.9244, 'recall': 0.925, 'fscore': 0.9247, 'auc': 0.9774, 'acc': 0.925}, '文体娱乐': {'precision': 0.9152, 'recall': 0.9125, 'fscore': 0.9138, 'auc': 0.9793, 'acc': 0.9271}, 'auc': 0.9766052762568441, 'metric': 0.9244427884130924, 'recall': 0.9252843337058707, 'precision': 0.9237124784789281, 'acc': 0.925531914893617}\n"
     ]
    },
    {
     "name": "stderr",
     "output_type": "stream",
     "text": [
      "100%|██████████| 31/31 [00:49<00:00,  1.60s/it]\n"
     ]
    },
    {
     "name": "stdout",
     "output_type": "stream",
     "text": [
      "Training Epoch 7; Loss 0.027692473763900417; \n"
     ]
    },
    {
     "name": "stderr",
     "output_type": "stream",
     "text": [
      "100%|██████████| 11/11 [00:24<00:00,  2.26s/it]\n"
     ]
    },
    {
     "name": "stdout",
     "output_type": "stream",
     "text": [
      "curent {'政治': {'precision': 0.9256, 'recall': 0.9108, 'fscore': 0.9172, 'auc': 0.962, 'acc': 0.9235}, '医药健康': {'precision': 0.9343, 'recall': 0.9357, 'fscore': 0.9348, 'auc': 0.9785, 'acc': 0.935}, '文体娱乐': {'precision': 0.9182, 'recall': 0.9182, 'fscore': 0.9182, 'auc': 0.9838, 'acc': 0.9306}, 'auc': 0.9789719845600457, 'metric': 0.9291459497925971, 'recall': 0.9305108145421077, 'precision': 0.9280664892375217, 'acc': 0.9300911854103343}\n",
      "Max {'政治': {'precision': 0.9256, 'recall': 0.9108, 'fscore': 0.9172, 'auc': 0.962, 'acc': 0.9235}, '医药健康': {'precision': 0.9343, 'recall': 0.9357, 'fscore': 0.9348, 'auc': 0.9785, 'acc': 0.935}, '文体娱乐': {'precision': 0.9182, 'recall': 0.9182, 'fscore': 0.9182, 'auc': 0.9838, 'acc': 0.9306}, 'auc': 0.9789719845600457, 'metric': 0.9291459497925971, 'recall': 0.9305108145421077, 'precision': 0.9280664892375217, 'acc': 0.9300911854103343}\n"
     ]
    },
    {
     "name": "stderr",
     "output_type": "stream",
     "text": [
      "100%|██████████| 31/31 [00:49<00:00,  1.59s/it]\n"
     ]
    },
    {
     "name": "stdout",
     "output_type": "stream",
     "text": [
      "Training Epoch 8; Loss 0.021749104463285016; \n"
     ]
    },
    {
     "name": "stderr",
     "output_type": "stream",
     "text": [
      "100%|██████████| 11/11 [00:24<00:00,  2.23s/it]\n"
     ]
    },
    {
     "name": "stdout",
     "output_type": "stream",
     "text": [
      "curent {'政治': {'precision': 0.9206, 'recall': 0.8921, 'fscore': 0.903, 'auc': 0.9605, 'acc': 0.9118}, '医药健康': {'precision': 0.9097, 'recall': 0.9117, 'fscore': 0.9099, 'auc': 0.9768, 'acc': 0.91}, '文体娱乐': {'precision': 0.9131, 'recall': 0.9157, 'fscore': 0.9144, 'auc': 0.9847, 'acc': 0.9271}, 'auc': 0.97864327507349, 'metric': 0.9170472054909652, 'recall': 0.9197291433830781, 'precision': 0.9154836610421606, 'acc': 0.9179331306990881}\n",
      "Max {'政治': {'precision': 0.9256, 'recall': 0.9108, 'fscore': 0.9172, 'auc': 0.962, 'acc': 0.9235}, '医药健康': {'precision': 0.9343, 'recall': 0.9357, 'fscore': 0.9348, 'auc': 0.9785, 'acc': 0.935}, '文体娱乐': {'precision': 0.9182, 'recall': 0.9182, 'fscore': 0.9182, 'auc': 0.9838, 'acc': 0.9306}, 'auc': 0.9789719845600457, 'metric': 0.9291459497925971, 'recall': 0.9305108145421077, 'precision': 0.9280664892375217, 'acc': 0.9300911854103343}\n"
     ]
    },
    {
     "name": "stderr",
     "output_type": "stream",
     "text": [
      "100%|██████████| 31/31 [00:45<00:00,  1.46s/it]\n"
     ]
    },
    {
     "name": "stdout",
     "output_type": "stream",
     "text": [
      "Training Epoch 9; Loss 0.01682768491727691; \n"
     ]
    },
    {
     "name": "stderr",
     "output_type": "stream",
     "text": [
      "100%|██████████| 11/11 [00:23<00:00,  2.11s/it]\n"
     ]
    },
    {
     "name": "stdout",
     "output_type": "stream",
     "text": [
      "curent {'政治': {'precision': 0.9209, 'recall': 0.903, 'fscore': 0.9105, 'auc': 0.9617, 'acc': 0.9176}, '医药健康': {'precision': 0.9314, 'recall': 0.9282, 'fscore': 0.9294, 'auc': 0.9785, 'acc': 0.93}, '文体娱乐': {'precision': 0.9182, 'recall': 0.9182, 'fscore': 0.9182, 'auc': 0.9844, 'acc': 0.9306}, 'auc': 0.9791598185523634, 'metric': 0.9259009009009009, 'recall': 0.9262375912168825, 'precision': 0.9255820931911741, 'acc': 0.9270516717325228}\n",
      "Max {'政治': {'precision': 0.9256, 'recall': 0.9108, 'fscore': 0.9172, 'auc': 0.962, 'acc': 0.9235}, '医药健康': {'precision': 0.9343, 'recall': 0.9357, 'fscore': 0.9348, 'auc': 0.9785, 'acc': 0.935}, '文体娱乐': {'precision': 0.9182, 'recall': 0.9182, 'fscore': 0.9182, 'auc': 0.9838, 'acc': 0.9306}, 'auc': 0.9789719845600457, 'metric': 0.9291459497925971, 'recall': 0.9305108145421077, 'precision': 0.9280664892375217, 'acc': 0.9300911854103343}\n"
     ]
    },
    {
     "name": "stderr",
     "output_type": "stream",
     "text": [
      "100%|██████████| 31/31 [00:46<00:00,  1.50s/it]\n"
     ]
    },
    {
     "name": "stdout",
     "output_type": "stream",
     "text": [
      "Training Epoch 10; Loss 0.012799498504929004; \n"
     ]
    },
    {
     "name": "stderr",
     "output_type": "stream",
     "text": [
      "100%|██████████| 11/11 [00:23<00:00,  2.12s/it]\n"
     ]
    },
    {
     "name": "stdout",
     "output_type": "stream",
     "text": [
      "curent {'政治': {'precision': 0.9294, 'recall': 0.9077, 'fscore': 0.9166, 'auc': 0.963, 'acc': 0.9235}, '医药健康': {'precision': 0.9293, 'recall': 0.9304, 'fscore': 0.9297, 'auc': 0.9786, 'acc': 0.93}, '文体娱乐': {'precision': 0.9131, 'recall': 0.9157, 'fscore': 0.9144, 'auc': 0.984, 'acc': 0.9271}, 'auc': 0.9793758276435286, 'metric': 0.9261172243431395, 'recall': 0.9278153967523503, 'precision': 0.9248626617047669, 'acc': 0.9270516717325228}\n",
      "Max {'政治': {'precision': 0.9256, 'recall': 0.9108, 'fscore': 0.9172, 'auc': 0.962, 'acc': 0.9235}, '医药健康': {'precision': 0.9343, 'recall': 0.9357, 'fscore': 0.9348, 'auc': 0.9785, 'acc': 0.935}, '文体娱乐': {'precision': 0.9182, 'recall': 0.9182, 'fscore': 0.9182, 'auc': 0.9838, 'acc': 0.9306}, 'auc': 0.9789719845600457, 'metric': 0.9291459497925971, 'recall': 0.9305108145421077, 'precision': 0.9280664892375217, 'acc': 0.9300911854103343}\n"
     ]
    },
    {
     "name": "stderr",
     "output_type": "stream",
     "text": [
      "100%|██████████| 11/11 [00:24<00:00,  2.21s/it]\n"
     ]
    },
    {
     "name": "stdout",
     "output_type": "stream",
     "text": [
      "{'政治': {'precision': 0.8889, 'recall': 0.8293, 'fscore': 0.8513, 'auc': 0.9263, 'acc': 0.883}, '医药健康': {'precision': 0.9376, 'recall': 0.9343, 'fscore': 0.9348, 'auc': 0.9846, 'acc': 0.935}, '文体娱乐': {'precision': 0.927, 'recall': 0.9114, 'fscore': 0.9187, 'auc': 0.98, 'acc': 0.934}, 'auc': 0.9743910345466333, 'metric': 0.9208693563880884, 'recall': 0.9222422895248681, 'precision': 0.9203346855983773, 'acc': 0.921092564491654}\n"
     ]
    },
    {
     "name": "stderr",
     "output_type": "stream",
     "text": [
      "Some weights of the model checkpoint at hfl/chinese-bert-wwm-ext were not used when initializing BertModel: ['cls.predictions.transform.dense.bias', 'cls.seq_relationship.weight', 'cls.predictions.decoder.weight', 'cls.predictions.transform.LayerNorm.weight', 'cls.predictions.transform.LayerNorm.bias', 'cls.predictions.bias', 'cls.seq_relationship.bias', 'cls.predictions.transform.dense.weight']\n",
      "- This IS expected if you are initializing BertModel from the checkpoint of a model trained on another task or with another architecture (e.g. initializing a BertForSequenceClassification model from a BertForPreTraining model).\n",
      "- This IS NOT expected if you are initializing BertModel from the checkpoint of a model that you expect to be exactly identical (initializing a BertForSequenceClassification model from a BertForSequenceClassification model).\n",
      "100%|██████████| 31/31 [00:45<00:00,  1.48s/it]\n"
     ]
    },
    {
     "name": "stdout",
     "output_type": "stream",
     "text": [
      "Training Epoch 1; Loss 0.481503766390585; \n"
     ]
    },
    {
     "name": "stderr",
     "output_type": "stream",
     "text": [
      "100%|██████████| 11/11 [00:23<00:00,  2.12s/it]\n"
     ]
    },
    {
     "name": "stdout",
     "output_type": "stream",
     "text": [
      "curent {'政治': {'precision': 0.8257, 'recall': 0.8215, 'fscore': 0.8235, 'auc': 0.9145, 'acc': 0.8353}, '医药健康': {'precision': 0.8458, 'recall': 0.835, 'fscore': 0.8372, 'auc': 0.9311, 'acc': 0.84}, '文体娱乐': {'precision': 0.8793, 'recall': 0.8443, 'fscore': 0.8588, 'auc': 0.9508, 'acc': 0.8854}, 'auc': 0.9404190576368606, 'metric': 0.8548236717554535, 'recall': 0.851784892511998, 'precision': 0.8601080602984157, 'acc': 0.8586626139817629}\n",
      "Max {'政治': {'precision': 0.8257, 'recall': 0.8215, 'fscore': 0.8235, 'auc': 0.9145, 'acc': 0.8353}, '医药健康': {'precision': 0.8458, 'recall': 0.835, 'fscore': 0.8372, 'auc': 0.9311, 'acc': 0.84}, '文体娱乐': {'precision': 0.8793, 'recall': 0.8443, 'fscore': 0.8588, 'auc': 0.9508, 'acc': 0.8854}, 'auc': 0.9404190576368606, 'metric': 0.8548236717554535, 'recall': 0.851784892511998, 'precision': 0.8601080602984157, 'acc': 0.8586626139817629}\n"
     ]
    },
    {
     "name": "stderr",
     "output_type": "stream",
     "text": [
      "100%|██████████| 31/31 [00:45<00:00,  1.46s/it]\n"
     ]
    },
    {
     "name": "stdout",
     "output_type": "stream",
     "text": [
      "Training Epoch 2; Loss 0.2710571553437941; \n"
     ]
    },
    {
     "name": "stderr",
     "output_type": "stream",
     "text": [
      "100%|██████████| 11/11 [00:23<00:00,  2.13s/it]\n"
     ]
    },
    {
     "name": "stdout",
     "output_type": "stream",
     "text": [
      "curent {'政治': {'precision': 0.8937, 'recall': 0.8561, 'fscore': 0.8692, 'auc': 0.9539, 'acc': 0.8824}, '医药健康': {'precision': 0.8997, 'recall': 0.9016, 'fscore': 0.8998, 'auc': 0.9563, 'acc': 0.9}, '文体娱乐': {'precision': 0.8871, 'recall': 0.9095, 'fscore': 0.8968, 'auc': 0.9702, 'acc': 0.9097}, 'auc': 0.9646778177446772, 'metric': 0.8989642368575337, 'recall': 0.9035566366445336, 'precision': 0.8977000323939099, 'acc': 0.8996960486322189}\n",
      "Max {'政治': {'precision': 0.8937, 'recall': 0.8561, 'fscore': 0.8692, 'auc': 0.9539, 'acc': 0.8824}, '医药健康': {'precision': 0.8997, 'recall': 0.9016, 'fscore': 0.8998, 'auc': 0.9563, 'acc': 0.9}, '文体娱乐': {'precision': 0.8871, 'recall': 0.9095, 'fscore': 0.8968, 'auc': 0.9702, 'acc': 0.9097}, 'auc': 0.9646778177446772, 'metric': 0.8989642368575337, 'recall': 0.9035566366445336, 'precision': 0.8977000323939099, 'acc': 0.8996960486322189}\n"
     ]
    },
    {
     "name": "stderr",
     "output_type": "stream",
     "text": [
      "100%|██████████| 31/31 [00:45<00:00,  1.48s/it]\n"
     ]
    },
    {
     "name": "stdout",
     "output_type": "stream",
     "text": [
      "Training Epoch 3; Loss 0.16291214093085257; \n"
     ]
    },
    {
     "name": "stderr",
     "output_type": "stream",
     "text": [
      "100%|██████████| 11/11 [00:23<00:00,  2.16s/it]\n"
     ]
    },
    {
     "name": "stdout",
     "output_type": "stream",
     "text": [
      "curent {'政治': {'precision': 0.9078, 'recall': 0.8905, 'fscore': 0.8977, 'auc': 0.9546, 'acc': 0.9059}, '医药健康': {'precision': 0.9196, 'recall': 0.9196, 'fscore': 0.9196, 'auc': 0.9671, 'acc': 0.92}, '文体娱乐': {'precision': 0.9258, 'recall': 0.9086, 'fscore': 0.9165, 'auc': 0.9784, 'acc': 0.9306}, 'auc': 0.9712050489777134, 'metric': 0.9196634014857669, 'recall': 0.9196634014857669, 'precision': 0.9196634014857669, 'acc': 0.9209726443768997}\n",
      "Max {'政治': {'precision': 0.9078, 'recall': 0.8905, 'fscore': 0.8977, 'auc': 0.9546, 'acc': 0.9059}, '医药健康': {'precision': 0.9196, 'recall': 0.9196, 'fscore': 0.9196, 'auc': 0.9671, 'acc': 0.92}, '文体娱乐': {'precision': 0.9258, 'recall': 0.9086, 'fscore': 0.9165, 'auc': 0.9784, 'acc': 0.9306}, 'auc': 0.9712050489777134, 'metric': 0.9196634014857669, 'recall': 0.9196634014857669, 'precision': 0.9196634014857669, 'acc': 0.9209726443768997}\n"
     ]
    },
    {
     "name": "stderr",
     "output_type": "stream",
     "text": [
      "100%|██████████| 31/31 [00:46<00:00,  1.49s/it]\n"
     ]
    },
    {
     "name": "stdout",
     "output_type": "stream",
     "text": [
      "Training Epoch 4; Loss 0.09591025210195972; \n"
     ]
    },
    {
     "name": "stderr",
     "output_type": "stream",
     "text": [
      "100%|██████████| 11/11 [00:23<00:00,  2.13s/it]\n"
     ]
    },
    {
     "name": "stdout",
     "output_type": "stream",
     "text": [
      "curent {'政治': {'precision': 0.8983, 'recall': 0.8749, 'fscore': 0.8841, 'auc': 0.9584, 'acc': 0.8941}, '医药健康': {'precision': 0.9042, 'recall': 0.9056, 'fscore': 0.9047, 'auc': 0.9696, 'acc': 0.905}, '文体娱乐': {'precision': 0.9144, 'recall': 0.9245, 'fscore': 0.9192, 'auc': 0.9812, 'acc': 0.9306}, 'auc': 0.9742291762540267, 'metric': 0.912410702400497, 'recall': 0.914897113930708, 'precision': 0.9109029689709056, 'acc': 0.9133738601823708}\n",
      "Max {'政治': {'precision': 0.9078, 'recall': 0.8905, 'fscore': 0.8977, 'auc': 0.9546, 'acc': 0.9059}, '医药健康': {'precision': 0.9196, 'recall': 0.9196, 'fscore': 0.9196, 'auc': 0.9671, 'acc': 0.92}, '文体娱乐': {'precision': 0.9258, 'recall': 0.9086, 'fscore': 0.9165, 'auc': 0.9784, 'acc': 0.9306}, 'auc': 0.9712050489777134, 'metric': 0.9196634014857669, 'recall': 0.9196634014857669, 'precision': 0.9196634014857669, 'acc': 0.9209726443768997}\n"
     ]
    },
    {
     "name": "stderr",
     "output_type": "stream",
     "text": [
      "100%|██████████| 31/31 [00:46<00:00,  1.49s/it]\n"
     ]
    },
    {
     "name": "stdout",
     "output_type": "stream",
     "text": [
      "Training Epoch 5; Loss 0.05849196785880675; \n"
     ]
    },
    {
     "name": "stderr",
     "output_type": "stream",
     "text": [
      "100%|██████████| 11/11 [00:24<00:00,  2.18s/it]\n"
     ]
    },
    {
     "name": "stdout",
     "output_type": "stream",
     "text": [
      "curent {'政治': {'precision': 0.903, 'recall': 0.8827, 'fscore': 0.8909, 'auc': 0.9634, 'acc': 0.9}, '医药健康': {'precision': 0.8997, 'recall': 0.9016, 'fscore': 0.8998, 'auc': 0.9719, 'acc': 0.9}, '文体娱乐': {'precision': 0.9258, 'recall': 0.9175, 'fscore': 0.9215, 'auc': 0.9821, 'acc': 0.934}, 'auc': 0.9766146679564601, 'metric': 0.9138034284003294, 'recall': 0.9154559200578529, 'precision': 0.912588488765774, 'acc': 0.9148936170212766}\n",
      "Max {'政治': {'precision': 0.9078, 'recall': 0.8905, 'fscore': 0.8977, 'auc': 0.9546, 'acc': 0.9059}, '医药健康': {'precision': 0.9196, 'recall': 0.9196, 'fscore': 0.9196, 'auc': 0.9671, 'acc': 0.92}, '文体娱乐': {'precision': 0.9258, 'recall': 0.9086, 'fscore': 0.9165, 'auc': 0.9784, 'acc': 0.9306}, 'auc': 0.9712050489777134, 'metric': 0.9196634014857669, 'recall': 0.9196634014857669, 'precision': 0.9196634014857669, 'acc': 0.9209726443768997}\n"
     ]
    },
    {
     "name": "stderr",
     "output_type": "stream",
     "text": [
      "100%|██████████| 31/31 [00:45<00:00,  1.46s/it]\n"
     ]
    },
    {
     "name": "stdout",
     "output_type": "stream",
     "text": [
      "Training Epoch 6; Loss 0.03667651891948715; \n"
     ]
    },
    {
     "name": "stderr",
     "output_type": "stream",
     "text": [
      "100%|██████████| 11/11 [00:23<00:00,  2.12s/it]\n"
     ]
    },
    {
     "name": "stdout",
     "output_type": "stream",
     "text": [
      "curent {'政治': {'precision': 0.9078, 'recall': 0.8905, 'fscore': 0.8977, 'auc': 0.9651, 'acc': 0.9059}, '医药健康': {'precision': 0.9303, 'recall': 0.929, 'fscore': 0.9295, 'auc': 0.9726, 'acc': 0.93}, '文体娱乐': {'precision': 0.923, 'recall': 0.9118, 'fscore': 0.9171, 'auc': 0.9824, 'acc': 0.9306}, 'auc': 0.9772345201311081, 'metric': 0.9227532706593913, 'recall': 0.9227532706593913, 'precision': 0.9227532706593913, 'acc': 0.9240121580547113}\n",
      "Max {'政治': {'precision': 0.9078, 'recall': 0.8905, 'fscore': 0.8977, 'auc': 0.9651, 'acc': 0.9059}, '医药健康': {'precision': 0.9303, 'recall': 0.929, 'fscore': 0.9295, 'auc': 0.9726, 'acc': 0.93}, '文体娱乐': {'precision': 0.923, 'recall': 0.9118, 'fscore': 0.9171, 'auc': 0.9824, 'acc': 0.9306}, 'auc': 0.9772345201311081, 'metric': 0.9227532706593913, 'recall': 0.9227532706593913, 'precision': 0.9227532706593913, 'acc': 0.9240121580547113}\n"
     ]
    },
    {
     "name": "stderr",
     "output_type": "stream",
     "text": [
      "100%|██████████| 31/31 [00:45<00:00,  1.47s/it]\n"
     ]
    },
    {
     "name": "stdout",
     "output_type": "stream",
     "text": [
      "Training Epoch 7; Loss 0.02719919900259664; \n"
     ]
    },
    {
     "name": "stderr",
     "output_type": "stream",
     "text": [
      "100%|██████████| 11/11 [00:24<00:00,  2.20s/it]\n"
     ]
    },
    {
     "name": "stdout",
     "output_type": "stream",
     "text": [
      "curent {'政治': {'precision': 0.9117, 'recall': 0.8874, 'fscore': 0.897, 'auc': 0.9637, 'acc': 0.9059}, '医药健康': {'precision': 0.9193, 'recall': 0.9203, 'fscore': 0.9197, 'auc': 0.9712, 'acc': 0.92}, '文体娱乐': {'precision': 0.9131, 'recall': 0.9157, 'fscore': 0.9144, 'auc': 0.9828, 'acc': 0.9271}, 'auc': 0.9773002620284192, 'metric': 0.9184491447145346, 'recall': 0.920287949510223, 'precision': 0.9171420581655481, 'acc': 0.9194528875379939}\n",
      "Max {'政治': {'precision': 0.9078, 'recall': 0.8905, 'fscore': 0.8977, 'auc': 0.9651, 'acc': 0.9059}, '医药健康': {'precision': 0.9303, 'recall': 0.929, 'fscore': 0.9295, 'auc': 0.9726, 'acc': 0.93}, '文体娱乐': {'precision': 0.923, 'recall': 0.9118, 'fscore': 0.9171, 'auc': 0.9824, 'acc': 0.9306}, 'auc': 0.9772345201311081, 'metric': 0.9227532706593913, 'recall': 0.9227532706593913, 'precision': 0.9227532706593913, 'acc': 0.9240121580547113}\n"
     ]
    },
    {
     "name": "stderr",
     "output_type": "stream",
     "text": [
      "100%|██████████| 31/31 [00:45<00:00,  1.47s/it]\n"
     ]
    },
    {
     "name": "stdout",
     "output_type": "stream",
     "text": [
      "Training Epoch 8; Loss 0.02224942272709262; \n"
     ]
    },
    {
     "name": "stderr",
     "output_type": "stream",
     "text": [
      "100%|██████████| 11/11 [00:23<00:00,  2.15s/it]\n"
     ]
    },
    {
     "name": "stdout",
     "output_type": "stream",
     "text": [
      "curent {'政治': {'precision': 0.9078, 'recall': 0.8905, 'fscore': 0.8977, 'auc': 0.9654, 'acc': 0.9059}, '医药健康': {'precision': 0.9297, 'recall': 0.9297, 'fscore': 0.9297, 'auc': 0.971, 'acc': 0.93}, '文体娱乐': {'precision': 0.923, 'recall': 0.9118, 'fscore': 0.9171, 'auc': 0.9838, 'acc': 0.9306}, 'auc': 0.9776665383134385, 'metric': 0.9228134384384384, 'recall': 0.9231477220432582, 'precision': 0.9224969758348103, 'acc': 0.9240121580547113}\n",
      "Max {'政治': {'precision': 0.9078, 'recall': 0.8905, 'fscore': 0.8977, 'auc': 0.9654, 'acc': 0.9059}, '医药健康': {'precision': 0.9297, 'recall': 0.9297, 'fscore': 0.9297, 'auc': 0.971, 'acc': 0.93}, '文体娱乐': {'precision': 0.923, 'recall': 0.9118, 'fscore': 0.9171, 'auc': 0.9838, 'acc': 0.9306}, 'auc': 0.9776665383134385, 'metric': 0.9228134384384384, 'recall': 0.9231477220432582, 'precision': 0.9224969758348103, 'acc': 0.9240121580547113}\n"
     ]
    },
    {
     "name": "stderr",
     "output_type": "stream",
     "text": [
      "100%|██████████| 31/31 [00:45<00:00,  1.47s/it]\n"
     ]
    },
    {
     "name": "stdout",
     "output_type": "stream",
     "text": [
      "Training Epoch 9; Loss 0.016819794121528824; \n"
     ]
    },
    {
     "name": "stderr",
     "output_type": "stream",
     "text": [
      "100%|██████████| 11/11 [00:26<00:00,  2.41s/it]\n"
     ]
    },
    {
     "name": "stdout",
     "output_type": "stream",
     "text": [
      "curent {'政治': {'precision': 0.9071, 'recall': 0.8796, 'fscore': 0.8901, 'auc': 0.9655, 'acc': 0.9}, '医药健康': {'precision': 0.9243, 'recall': 0.9257, 'fscore': 0.9248, 'auc': 0.9729, 'acc': 0.925}, '文体娱乐': {'precision': 0.9162, 'recall': 0.9214, 'fscore': 0.9187, 'auc': 0.983, 'acc': 0.9306}, 'auc': 0.9776007964161274, 'metric': 0.9200680272108843, 'recall': 0.9224245611728354, 'precision': 0.9185720799947885, 'acc': 0.9209726443768997}\n",
      "Max {'政治': {'precision': 0.9078, 'recall': 0.8905, 'fscore': 0.8977, 'auc': 0.9654, 'acc': 0.9059}, '医药健康': {'precision': 0.9297, 'recall': 0.9297, 'fscore': 0.9297, 'auc': 0.971, 'acc': 0.93}, '文体娱乐': {'precision': 0.923, 'recall': 0.9118, 'fscore': 0.9171, 'auc': 0.9838, 'acc': 0.9306}, 'auc': 0.9776665383134385, 'metric': 0.9228134384384384, 'recall': 0.9231477220432582, 'precision': 0.9224969758348103, 'acc': 0.9240121580547113}\n"
     ]
    },
    {
     "name": "stderr",
     "output_type": "stream",
     "text": [
      "100%|██████████| 31/31 [00:45<00:00,  1.47s/it]\n"
     ]
    },
    {
     "name": "stdout",
     "output_type": "stream",
     "text": [
      "Training Epoch 10; Loss 0.01512186884159042; \n"
     ]
    },
    {
     "name": "stderr",
     "output_type": "stream",
     "text": [
      "100%|██████████| 11/11 [00:24<00:00,  2.20s/it]\n"
     ]
    },
    {
     "name": "stdout",
     "output_type": "stream",
     "text": [
      "curent {'政治': {'precision': 0.9117, 'recall': 0.8874, 'fscore': 0.897, 'auc': 0.9636, 'acc': 0.9059}, '医药健康': {'precision': 0.9244, 'recall': 0.925, 'fscore': 0.9247, 'auc': 0.974, 'acc': 0.925}, '文体娱乐': {'precision': 0.9316, 'recall': 0.9289, 'fscore': 0.9302, 'auc': 0.9839, 'acc': 0.941}, 'auc': 0.9775914047165115, 'metric': 0.9260653389140144, 'recall': 0.9274209453684834, 'precision': 0.9249941635149648, 'acc': 0.9270516717325228}\n",
      "Max {'政治': {'precision': 0.9117, 'recall': 0.8874, 'fscore': 0.897, 'auc': 0.9636, 'acc': 0.9059}, '医药健康': {'precision': 0.9244, 'recall': 0.925, 'fscore': 0.9247, 'auc': 0.974, 'acc': 0.925}, '文体娱乐': {'precision': 0.9316, 'recall': 0.9289, 'fscore': 0.9302, 'auc': 0.9839, 'acc': 0.941}, 'auc': 0.9775914047165115, 'metric': 0.9260653389140144, 'recall': 0.9274209453684834, 'precision': 0.9249941635149648, 'acc': 0.9270516717325228}\n"
     ]
    },
    {
     "name": "stderr",
     "output_type": "stream",
     "text": [
      "100%|██████████| 31/31 [00:45<00:00,  1.46s/it]\n"
     ]
    },
    {
     "name": "stdout",
     "output_type": "stream",
     "text": [
      "Training Epoch 11; Loss 0.012421775428998855; \n"
     ]
    },
    {
     "name": "stderr",
     "output_type": "stream",
     "text": [
      "100%|██████████| 11/11 [00:24<00:00,  2.19s/it]\n"
     ]
    },
    {
     "name": "stdout",
     "output_type": "stream",
     "text": [
      "curent {'政治': {'precision': 0.9117, 'recall': 0.8874, 'fscore': 0.897, 'auc': 0.9649, 'acc': 0.9059}, '医药健康': {'precision': 0.9244, 'recall': 0.925, 'fscore': 0.9247, 'auc': 0.9748, 'acc': 0.925}, '文体娱乐': {'precision': 0.9212, 'recall': 0.9239, 'fscore': 0.9225, 'auc': 0.9834, 'acc': 0.934}, 'auc': 0.9783521323853978, 'metric': 0.923038775357437, 'recall': 0.924725527578726, 'precision': 0.9217941184700187, 'acc': 0.9240121580547113}\n",
      "Max {'政治': {'precision': 0.9117, 'recall': 0.8874, 'fscore': 0.897, 'auc': 0.9636, 'acc': 0.9059}, '医药健康': {'precision': 0.9244, 'recall': 0.925, 'fscore': 0.9247, 'auc': 0.974, 'acc': 0.925}, '文体娱乐': {'precision': 0.9316, 'recall': 0.9289, 'fscore': 0.9302, 'auc': 0.9839, 'acc': 0.941}, 'auc': 0.9775914047165115, 'metric': 0.9260653389140144, 'recall': 0.9274209453684834, 'precision': 0.9249941635149648, 'acc': 0.9270516717325228}\n"
     ]
    },
    {
     "name": "stderr",
     "output_type": "stream",
     "text": [
      "100%|██████████| 31/31 [00:45<00:00,  1.46s/it]\n"
     ]
    },
    {
     "name": "stdout",
     "output_type": "stream",
     "text": [
      "Training Epoch 12; Loss 0.011461699291342688; \n"
     ]
    },
    {
     "name": "stderr",
     "output_type": "stream",
     "text": [
      "100%|██████████| 11/11 [00:23<00:00,  2.13s/it]\n"
     ]
    },
    {
     "name": "stdout",
     "output_type": "stream",
     "text": [
      "curent {'政治': {'precision': 0.9071, 'recall': 0.8796, 'fscore': 0.8901, 'auc': 0.9651, 'acc': 0.9}, '医药健康': {'precision': 0.9193, 'recall': 0.9203, 'fscore': 0.9197, 'auc': 0.9752, 'acc': 0.92}, '文体娱乐': {'precision': 0.9204, 'recall': 0.915, 'fscore': 0.9177, 'auc': 0.9834, 'acc': 0.9306}, 'auc': 0.9783521323853979, 'metric': 0.9183926578196702, 'recall': 0.9198934981263559, 'precision': 0.9172483948036434, 'acc': 0.9194528875379939}\n",
      "Max {'政治': {'precision': 0.9117, 'recall': 0.8874, 'fscore': 0.897, 'auc': 0.9636, 'acc': 0.9059}, '医药健康': {'precision': 0.9244, 'recall': 0.925, 'fscore': 0.9247, 'auc': 0.974, 'acc': 0.925}, '文体娱乐': {'precision': 0.9316, 'recall': 0.9289, 'fscore': 0.9302, 'auc': 0.9839, 'acc': 0.941}, 'auc': 0.9775914047165115, 'metric': 0.9260653389140144, 'recall': 0.9274209453684834, 'precision': 0.9249941635149648, 'acc': 0.9270516717325228}\n"
     ]
    },
    {
     "name": "stderr",
     "output_type": "stream",
     "text": [
      "100%|██████████| 31/31 [00:45<00:00,  1.47s/it]\n"
     ]
    },
    {
     "name": "stdout",
     "output_type": "stream",
     "text": [
      "Training Epoch 13; Loss 0.009883712346275006; \n"
     ]
    },
    {
     "name": "stderr",
     "output_type": "stream",
     "text": [
      "100%|██████████| 11/11 [00:23<00:00,  2.16s/it]\n"
     ]
    },
    {
     "name": "stdout",
     "output_type": "stream",
     "text": [
      "curent {'政治': {'precision': 0.9117, 'recall': 0.8874, 'fscore': 0.897, 'auc': 0.9645, 'acc': 0.9059}, '医药健康': {'precision': 0.9149, 'recall': 0.9142, 'fscore': 0.9145, 'auc': 0.9736, 'acc': 0.915}, '文体娱乐': {'precision': 0.9234, 'recall': 0.9207, 'fscore': 0.922, 'auc': 0.9839, 'acc': 0.934}, 'auc': 0.9780703813969214, 'metric': 0.9198463268365817, 'recall': 0.9208467556373676, 'precision': 0.919005096077423, 'acc': 0.9209726443768997}\n",
      "Max {'政治': {'precision': 0.9117, 'recall': 0.8874, 'fscore': 0.897, 'auc': 0.9636, 'acc': 0.9059}, '医药健康': {'precision': 0.9244, 'recall': 0.925, 'fscore': 0.9247, 'auc': 0.974, 'acc': 0.925}, '文体娱乐': {'precision': 0.9316, 'recall': 0.9289, 'fscore': 0.9302, 'auc': 0.9839, 'acc': 0.941}, 'auc': 0.9775914047165115, 'metric': 0.9260653389140144, 'recall': 0.9274209453684834, 'precision': 0.9249941635149648, 'acc': 0.9270516717325228}\n"
     ]
    },
    {
     "name": "stderr",
     "output_type": "stream",
     "text": [
      "100%|██████████| 11/11 [00:24<00:00,  2.23s/it]\n"
     ]
    },
    {
     "name": "stdout",
     "output_type": "stream",
     "text": [
      "{'政治': {'precision': 0.9135, 'recall': 0.8378, 'fscore': 0.8643, 'auc': 0.924, 'acc': 0.8947}, '医药健康': {'precision': 0.94, 'recall': 0.94, 'fscore': 0.94, 'auc': 0.9864, 'acc': 0.94}, '文体娱乐': {'precision': 0.9269, 'recall': 0.9209, 'fscore': 0.9238, 'auc': 0.9782, 'acc': 0.9375}, 'auc': 0.974585533018431, 'metric': 0.9269320323760948, 'recall': 0.9281189219227564, 'precision': 0.9263655985389341, 'acc': 0.9271623672230652}\n"
     ]
    },
    {
     "name": "stderr",
     "output_type": "stream",
     "text": [
      "Some weights of the model checkpoint at hfl/chinese-bert-wwm-ext were not used when initializing BertModel: ['cls.predictions.transform.dense.bias', 'cls.seq_relationship.weight', 'cls.predictions.decoder.weight', 'cls.predictions.transform.LayerNorm.weight', 'cls.predictions.transform.LayerNorm.bias', 'cls.predictions.bias', 'cls.seq_relationship.bias', 'cls.predictions.transform.dense.weight']\n",
      "- This IS expected if you are initializing BertModel from the checkpoint of a model trained on another task or with another architecture (e.g. initializing a BertForSequenceClassification model from a BertForPreTraining model).\n",
      "- This IS NOT expected if you are initializing BertModel from the checkpoint of a model that you expect to be exactly identical (initializing a BertForSequenceClassification model from a BertForSequenceClassification model).\n",
      "100%|██████████| 31/31 [00:46<00:00,  1.50s/it]\n"
     ]
    },
    {
     "name": "stdout",
     "output_type": "stream",
     "text": [
      "Training Epoch 1; Loss 0.4772218629237143; \n"
     ]
    },
    {
     "name": "stderr",
     "output_type": "stream",
     "text": [
      "100%|██████████| 11/11 [00:23<00:00,  2.12s/it]\n"
     ]
    },
    {
     "name": "stdout",
     "output_type": "stream",
     "text": [
      "curent {'政治': {'precision': 0.8358, 'recall': 0.8433, 'fscore': 0.839, 'auc': 0.9169, 'acc': 0.8471}, '医药健康': {'precision': 0.8794, 'recall': 0.8794, 'fscore': 0.8794, 'auc': 0.9381, 'acc': 0.88}, '文体娱乐': {'precision': 0.8917, 'recall': 0.8493, 'fscore': 0.8664, 'auc': 0.9622, 'acc': 0.8924}, 'auc': 0.948336260413047, 'metric': 0.8738075789324147, 'recall': 0.8711130103214779, 'precision': 0.8780616150019136, 'acc': 0.8768996960486323}\n",
      "Max {'政治': {'precision': 0.8358, 'recall': 0.8433, 'fscore': 0.839, 'auc': 0.9169, 'acc': 0.8471}, '医药健康': {'precision': 0.8794, 'recall': 0.8794, 'fscore': 0.8794, 'auc': 0.9381, 'acc': 0.88}, '文体娱乐': {'precision': 0.8917, 'recall': 0.8493, 'fscore': 0.8664, 'auc': 0.9622, 'acc': 0.8924}, 'auc': 0.948336260413047, 'metric': 0.8738075789324147, 'recall': 0.8711130103214779, 'precision': 0.8780616150019136, 'acc': 0.8768996960486323}\n"
     ]
    },
    {
     "name": "stderr",
     "output_type": "stream",
     "text": [
      "100%|██████████| 31/31 [00:45<00:00,  1.48s/it]\n"
     ]
    },
    {
     "name": "stdout",
     "output_type": "stream",
     "text": [
      "Training Epoch 2; Loss 0.25872493559314363; \n"
     ]
    },
    {
     "name": "stderr",
     "output_type": "stream",
     "text": [
      "100%|██████████| 11/11 [00:23<00:00,  2.13s/it]\n"
     ]
    },
    {
     "name": "stdout",
     "output_type": "stream",
     "text": [
      "curent {'政治': {'precision': 0.8827, 'recall': 0.8218, 'fscore': 0.8387, 'auc': 0.9493, 'acc': 0.8588}, '医药健康': {'precision': 0.8904, 'recall': 0.8923, 'fscore': 0.8899, 'auc': 0.965, 'acc': 0.89}, '文体娱乐': {'precision': 0.888, 'recall': 0.9064, 'fscore': 0.8962, 'auc': 0.9718, 'acc': 0.9097}, 'auc': 0.9673544521352029, 'metric': 0.8899420160570919, 'recall': 0.8954703832752613, 'precision': 0.8892555718868151, 'acc': 0.8905775075987842}\n",
      "Max {'政治': {'precision': 0.8827, 'recall': 0.8218, 'fscore': 0.8387, 'auc': 0.9493, 'acc': 0.8588}, '医药健康': {'precision': 0.8904, 'recall': 0.8923, 'fscore': 0.8899, 'auc': 0.965, 'acc': 0.89}, '文体娱乐': {'precision': 0.888, 'recall': 0.9064, 'fscore': 0.8962, 'auc': 0.9718, 'acc': 0.9097}, 'auc': 0.9673544521352029, 'metric': 0.8899420160570919, 'recall': 0.8954703832752613, 'precision': 0.8892555718868151, 'acc': 0.8905775075987842}\n"
     ]
    },
    {
     "name": "stderr",
     "output_type": "stream",
     "text": [
      "100%|██████████| 31/31 [00:45<00:00,  1.46s/it]\n"
     ]
    },
    {
     "name": "stdout",
     "output_type": "stream",
     "text": [
      "Training Epoch 3; Loss 0.1512771878511675; \n"
     ]
    },
    {
     "name": "stderr",
     "output_type": "stream",
     "text": [
      "100%|██████████| 11/11 [00:23<00:00,  2.14s/it]\n"
     ]
    },
    {
     "name": "stdout",
     "output_type": "stream",
     "text": [
      "curent {'政治': {'precision': 0.9026, 'recall': 0.8718, 'fscore': 0.8832, 'auc': 0.9546, 'acc': 0.8941}, '医药健康': {'precision': 0.8993, 'recall': 0.9009, 'fscore': 0.8997, 'auc': 0.9743, 'acc': 0.9}, '文体娱乐': {'precision': 0.9204, 'recall': 0.915, 'fscore': 0.9177, 'auc': 0.9789, 'acc': 0.9306}, 'auc': 0.9739192501667027, 'metric': 0.9107859179952312, 'recall': 0.9127605022680955, 'precision': 0.9094381457225105, 'acc': 0.9118541033434651}\n",
      "Max {'政治': {'precision': 0.9026, 'recall': 0.8718, 'fscore': 0.8832, 'auc': 0.9546, 'acc': 0.8941}, '医药健康': {'precision': 0.8993, 'recall': 0.9009, 'fscore': 0.8997, 'auc': 0.9743, 'acc': 0.9}, '文体娱乐': {'precision': 0.9204, 'recall': 0.915, 'fscore': 0.9177, 'auc': 0.9789, 'acc': 0.9306}, 'auc': 0.9739192501667027, 'metric': 0.9107859179952312, 'recall': 0.9127605022680955, 'precision': 0.9094381457225105, 'acc': 0.9118541033434651}\n"
     ]
    },
    {
     "name": "stderr",
     "output_type": "stream",
     "text": [
      "100%|██████████| 31/31 [00:45<00:00,  1.48s/it]\n"
     ]
    },
    {
     "name": "stdout",
     "output_type": "stream",
     "text": [
      "Training Epoch 4; Loss 0.09045363986684431; \n"
     ]
    },
    {
     "name": "stderr",
     "output_type": "stream",
     "text": [
      "100%|██████████| 11/11 [00:23<00:00,  2.13s/it]\n"
     ]
    },
    {
     "name": "stdout",
     "output_type": "stream",
     "text": [
      "curent {'政治': {'precision': 0.8982, 'recall': 0.8639, 'fscore': 0.8762, 'auc': 0.9589, 'acc': 0.8882}, '医药健康': {'precision': 0.8945, 'recall': 0.8962, 'fscore': 0.8948, 'auc': 0.9748, 'acc': 0.895}, '文体娱乐': {'precision': 0.9096, 'recall': 0.922, 'fscore': 0.9154, 'auc': 0.9818, 'acc': 0.9271}, 'auc': 0.9768400687472413, 'metric': 0.9064371379619809, 'recall': 0.9099007297350601, 'precision': 0.9048701298701298, 'acc': 0.9072948328267477}\n",
      "Max {'政治': {'precision': 0.9026, 'recall': 0.8718, 'fscore': 0.8832, 'auc': 0.9546, 'acc': 0.8941}, '医药健康': {'precision': 0.8993, 'recall': 0.9009, 'fscore': 0.8997, 'auc': 0.9743, 'acc': 0.9}, '文体娱乐': {'precision': 0.9204, 'recall': 0.915, 'fscore': 0.9177, 'auc': 0.9789, 'acc': 0.9306}, 'auc': 0.9739192501667027, 'metric': 0.9107859179952312, 'recall': 0.9127605022680955, 'precision': 0.9094381457225105, 'acc': 0.9118541033434651}\n"
     ]
    },
    {
     "name": "stderr",
     "output_type": "stream",
     "text": [
      "100%|██████████| 31/31 [00:45<00:00,  1.48s/it]\n"
     ]
    },
    {
     "name": "stdout",
     "output_type": "stream",
     "text": [
      "Training Epoch 5; Loss 0.05426808290423885; \n"
     ]
    },
    {
     "name": "stderr",
     "output_type": "stream",
     "text": [
      "100%|██████████| 11/11 [00:24<00:00,  2.20s/it]\n"
     ]
    },
    {
     "name": "stdout",
     "output_type": "stream",
     "text": [
      "curent {'政治': {'precision': 0.9174, 'recall': 0.9061, 'fscore': 0.9111, 'auc': 0.9558, 'acc': 0.9176}, '医药健康': {'precision': 0.9328, 'recall': 0.9275, 'fscore': 0.9293, 'auc': 0.9737, 'acc': 0.93}, '文体娱乐': {'precision': 0.9092, 'recall': 0.9011, 'fscore': 0.905, 'auc': 0.9802, 'acc': 0.9201}, 'auc': 0.9757224564929515, 'metric': 0.9210479880859113, 'recall': 0.9202222076129117, 'precision': 0.9219858156028369, 'acc': 0.9224924012158054}\n",
      "Max {'政治': {'precision': 0.9174, 'recall': 0.9061, 'fscore': 0.9111, 'auc': 0.9558, 'acc': 0.9176}, '医药健康': {'precision': 0.9328, 'recall': 0.9275, 'fscore': 0.9293, 'auc': 0.9737, 'acc': 0.93}, '文体娱乐': {'precision': 0.9092, 'recall': 0.9011, 'fscore': 0.905, 'auc': 0.9802, 'acc': 0.9201}, 'auc': 0.9757224564929515, 'metric': 0.9210479880859113, 'recall': 0.9202222076129117, 'precision': 0.9219858156028369, 'acc': 0.9224924012158054}\n"
     ]
    },
    {
     "name": "stderr",
     "output_type": "stream",
     "text": [
      "100%|██████████| 31/31 [00:45<00:00,  1.46s/it]\n"
     ]
    },
    {
     "name": "stdout",
     "output_type": "stream",
     "text": [
      "Training Epoch 6; Loss 0.03556864714670565; \n"
     ]
    },
    {
     "name": "stderr",
     "output_type": "stream",
     "text": [
      "100%|██████████| 11/11 [00:24<00:00,  2.21s/it]\n"
     ]
    },
    {
     "name": "stdout",
     "output_type": "stream",
     "text": [
      "curent {'政治': {'precision': 0.9256, 'recall': 0.9108, 'fscore': 0.9172, 'auc': 0.9542, 'acc': 0.9235}, '医药健康': {'precision': 0.9226, 'recall': 0.9175, 'fscore': 0.9192, 'auc': 0.9736, 'acc': 0.92}, '文体娱乐': {'precision': 0.923, 'recall': 0.9118, 'fscore': 0.9171, 'auc': 0.9823, 'acc': 0.9306}, 'auc': 0.9763610920668313, 'metric': 0.9241441454158756, 'recall': 0.923312076786536, 'precision': 0.9250886524822695, 'acc': 0.925531914893617}\n",
      "Max {'政治': {'precision': 0.9256, 'recall': 0.9108, 'fscore': 0.9172, 'auc': 0.9542, 'acc': 0.9235}, '医药健康': {'precision': 0.9226, 'recall': 0.9175, 'fscore': 0.9192, 'auc': 0.9736, 'acc': 0.92}, '文体娱乐': {'precision': 0.923, 'recall': 0.9118, 'fscore': 0.9171, 'auc': 0.9823, 'acc': 0.9306}, 'auc': 0.9763610920668313, 'metric': 0.9241441454158756, 'recall': 0.923312076786536, 'precision': 0.9250886524822695, 'acc': 0.925531914893617}\n"
     ]
    },
    {
     "name": "stderr",
     "output_type": "stream",
     "text": [
      "100%|██████████| 31/31 [00:45<00:00,  1.46s/it]\n"
     ]
    },
    {
     "name": "stdout",
     "output_type": "stream",
     "text": [
      "Training Epoch 7; Loss 0.027764495822691148; \n"
     ]
    },
    {
     "name": "stderr",
     "output_type": "stream",
     "text": [
      "100%|██████████| 11/11 [00:23<00:00,  2.12s/it]\n"
     ]
    },
    {
     "name": "stdout",
     "output_type": "stream",
     "text": [
      "curent {'政治': {'precision': 0.9117, 'recall': 0.8874, 'fscore': 0.897, 'auc': 0.9595, 'acc': 0.9059}, '医药健康': {'precision': 0.9303, 'recall': 0.929, 'fscore': 0.9295, 'auc': 0.9745, 'acc': 0.93}, '文体娱乐': {'precision': 0.9204, 'recall': 0.915, 'fscore': 0.9177, 'auc': 0.981, 'acc': 0.9306}, 'auc': 0.976858852146473, 'metric': 0.9228720660909031, 'recall': 0.9235421734271251, 'precision': 0.9222730975589202, 'acc': 0.9240121580547113}\n",
      "Max {'政治': {'precision': 0.9256, 'recall': 0.9108, 'fscore': 0.9172, 'auc': 0.9542, 'acc': 0.9235}, '医药健康': {'precision': 0.9226, 'recall': 0.9175, 'fscore': 0.9192, 'auc': 0.9736, 'acc': 0.92}, '文体娱乐': {'precision': 0.923, 'recall': 0.9118, 'fscore': 0.9171, 'auc': 0.9823, 'acc': 0.9306}, 'auc': 0.9763610920668313, 'metric': 0.9241441454158756, 'recall': 0.923312076786536, 'precision': 0.9250886524822695, 'acc': 0.925531914893617}\n"
     ]
    },
    {
     "name": "stderr",
     "output_type": "stream",
     "text": [
      "100%|██████████| 31/31 [00:45<00:00,  1.46s/it]\n"
     ]
    },
    {
     "name": "stdout",
     "output_type": "stream",
     "text": [
      "Training Epoch 8; Loss 0.020762734505678376; \n"
     ]
    },
    {
     "name": "stderr",
     "output_type": "stream",
     "text": [
      "100%|██████████| 11/11 [00:23<00:00,  2.13s/it]\n"
     ]
    },
    {
     "name": "stdout",
     "output_type": "stream",
     "text": [
      "curent {'政治': {'precision': 0.9076, 'recall': 0.8687, 'fscore': 0.8822, 'auc': 0.9637, 'acc': 0.8941}, '医药健康': {'precision': 0.8997, 'recall': 0.9016, 'fscore': 0.8998, 'auc': 0.9749, 'acc': 0.9}, '文体娱乐': {'precision': 0.9144, 'recall': 0.9245, 'fscore': 0.9192, 'auc': 0.982, 'acc': 0.9306}, 'auc': 0.9776477549142069, 'metric': 0.9110645041014169, 'recall': 0.9147327591874301, 'precision': 0.909487115290103, 'acc': 0.9118541033434651}\n",
      "Max {'政治': {'precision': 0.9256, 'recall': 0.9108, 'fscore': 0.9172, 'auc': 0.9542, 'acc': 0.9235}, '医药健康': {'precision': 0.9226, 'recall': 0.9175, 'fscore': 0.9192, 'auc': 0.9736, 'acc': 0.92}, '文体娱乐': {'precision': 0.923, 'recall': 0.9118, 'fscore': 0.9171, 'auc': 0.9823, 'acc': 0.9306}, 'auc': 0.9763610920668313, 'metric': 0.9241441454158756, 'recall': 0.923312076786536, 'precision': 0.9250886524822695, 'acc': 0.925531914893617}\n"
     ]
    },
    {
     "name": "stderr",
     "output_type": "stream",
     "text": [
      "100%|██████████| 31/31 [00:44<00:00,  1.44s/it]\n"
     ]
    },
    {
     "name": "stdout",
     "output_type": "stream",
     "text": [
      "Training Epoch 9; Loss 0.01519422260143103; \n"
     ]
    },
    {
     "name": "stderr",
     "output_type": "stream",
     "text": [
      "100%|██████████| 11/11 [00:24<00:00,  2.19s/it]\n"
     ]
    },
    {
     "name": "stdout",
     "output_type": "stream",
     "text": [
      "curent {'政治': {'precision': 0.9174, 'recall': 0.9061, 'fscore': 0.9111, 'auc': 0.9615, 'acc': 0.9176}, '医药健康': {'precision': 0.9314, 'recall': 0.9282, 'fscore': 0.9294, 'auc': 0.974, 'acc': 0.93}, '文体娱乐': {'precision': 0.9212, 'recall': 0.9239, 'fscore': 0.9225, 'auc': 0.9828, 'acc': 0.934}, 'auc': 0.9782206485907756, 'metric': 0.9274165346476559, 'recall': 0.9275853001117612, 'precision': 0.9272522522522522, 'acc': 0.9285714285714286}\n",
      "Max {'政治': {'precision': 0.9174, 'recall': 0.9061, 'fscore': 0.9111, 'auc': 0.9615, 'acc': 0.9176}, '医药健康': {'precision': 0.9314, 'recall': 0.9282, 'fscore': 0.9294, 'auc': 0.974, 'acc': 0.93}, '文体娱乐': {'precision': 0.9212, 'recall': 0.9239, 'fscore': 0.9225, 'auc': 0.9828, 'acc': 0.934}, 'auc': 0.9782206485907756, 'metric': 0.9274165346476559, 'recall': 0.9275853001117612, 'precision': 0.9272522522522522, 'acc': 0.9285714285714286}\n"
     ]
    },
    {
     "name": "stderr",
     "output_type": "stream",
     "text": [
      "100%|██████████| 31/31 [00:50<00:00,  1.63s/it]\n"
     ]
    },
    {
     "name": "stdout",
     "output_type": "stream",
     "text": [
      "Training Epoch 10; Loss 0.0139031509658502; \n"
     ]
    },
    {
     "name": "stderr",
     "output_type": "stream",
     "text": [
      "100%|██████████| 11/11 [00:25<00:00,  2.36s/it]\n"
     ]
    },
    {
     "name": "stdout",
     "output_type": "stream",
     "text": [
      "curent {'政治': {'precision': 0.9206, 'recall': 0.8921, 'fscore': 0.903, 'auc': 0.9636, 'acc': 0.9118}, '医药健康': {'precision': 0.9244, 'recall': 0.925, 'fscore': 0.9247, 'auc': 0.9753, 'acc': 0.925}, '文体娱乐': {'precision': 0.9258, 'recall': 0.9175, 'fscore': 0.9215, 'auc': 0.9834, 'acc': 0.934}, 'auc': 0.9785117912788678, 'metric': 0.9244979919678715, 'recall': 0.9256787850897377, 'precision': 0.9235347985347986, 'acc': 0.925531914893617}\n",
      "Max {'政治': {'precision': 0.9174, 'recall': 0.9061, 'fscore': 0.9111, 'auc': 0.9615, 'acc': 0.9176}, '医药健康': {'precision': 0.9314, 'recall': 0.9282, 'fscore': 0.9294, 'auc': 0.974, 'acc': 0.93}, '文体娱乐': {'precision': 0.9212, 'recall': 0.9239, 'fscore': 0.9225, 'auc': 0.9828, 'acc': 0.934}, 'auc': 0.9782206485907756, 'metric': 0.9274165346476559, 'recall': 0.9275853001117612, 'precision': 0.9272522522522522, 'acc': 0.9285714285714286}\n"
     ]
    },
    {
     "name": "stderr",
     "output_type": "stream",
     "text": [
      "100%|██████████| 31/31 [00:50<00:00,  1.64s/it]\n"
     ]
    },
    {
     "name": "stdout",
     "output_type": "stream",
     "text": [
      "Training Epoch 11; Loss 0.01061860198575643; \n"
     ]
    },
    {
     "name": "stderr",
     "output_type": "stream",
     "text": [
      "100%|██████████| 11/11 [00:25<00:00,  2.30s/it]\n"
     ]
    },
    {
     "name": "stdout",
     "output_type": "stream",
     "text": [
      "curent {'政治': {'precision': 0.9162, 'recall': 0.8843, 'fscore': 0.8962, 'auc': 0.9631, 'acc': 0.9059}, '医药健康': {'precision': 0.9244, 'recall': 0.925, 'fscore': 0.9247, 'auc': 0.9745, 'acc': 0.925}, '文体娱乐': {'precision': 0.916, 'recall': 0.9334, 'fscore': 0.9239, 'auc': 0.9834, 'acc': 0.934}, 'auc': 0.978267607088855, 'metric': 0.9232398835299387, 'recall': 0.9263033331141937, 'precision': 0.9215994055635537, 'acc': 0.9240121580547113}\n",
      "Max {'政治': {'precision': 0.9174, 'recall': 0.9061, 'fscore': 0.9111, 'auc': 0.9615, 'acc': 0.9176}, '医药健康': {'precision': 0.9314, 'recall': 0.9282, 'fscore': 0.9294, 'auc': 0.974, 'acc': 0.93}, '文体娱乐': {'precision': 0.9212, 'recall': 0.9239, 'fscore': 0.9225, 'auc': 0.9828, 'acc': 0.934}, 'auc': 0.9782206485907756, 'metric': 0.9274165346476559, 'recall': 0.9275853001117612, 'precision': 0.9272522522522522, 'acc': 0.9285714285714286}\n"
     ]
    },
    {
     "name": "stderr",
     "output_type": "stream",
     "text": [
      "100%|██████████| 31/31 [00:46<00:00,  1.50s/it]\n"
     ]
    },
    {
     "name": "stdout",
     "output_type": "stream",
     "text": [
      "Training Epoch 12; Loss 0.009988125158293592; \n"
     ]
    },
    {
     "name": "stderr",
     "output_type": "stream",
     "text": [
      "100%|██████████| 11/11 [00:25<00:00,  2.35s/it]\n"
     ]
    },
    {
     "name": "stdout",
     "output_type": "stream",
     "text": [
      "curent {'政治': {'precision': 0.9119, 'recall': 0.8765, 'fscore': 0.8892, 'auc': 0.9639, 'acc': 0.9}, '医药健康': {'precision': 0.9293, 'recall': 0.9304, 'fscore': 0.9297, 'auc': 0.9751, 'acc': 0.93}, '文体娱乐': {'precision': 0.9175, 'recall': 0.9302, 'fscore': 0.9235, 'auc': 0.9824, 'acc': 0.934}, 'auc': 0.9782206485907755, 'metric': 0.9232398835299387, 'recall': 0.9263033331141937, 'precision': 0.9215994055635537, 'acc': 0.9240121580547113}\n",
      "Max {'政治': {'precision': 0.9174, 'recall': 0.9061, 'fscore': 0.9111, 'auc': 0.9615, 'acc': 0.9176}, '医药健康': {'precision': 0.9314, 'recall': 0.9282, 'fscore': 0.9294, 'auc': 0.974, 'acc': 0.93}, '文体娱乐': {'precision': 0.9212, 'recall': 0.9239, 'fscore': 0.9225, 'auc': 0.9828, 'acc': 0.934}, 'auc': 0.9782206485907756, 'metric': 0.9274165346476559, 'recall': 0.9275853001117612, 'precision': 0.9272522522522522, 'acc': 0.9285714285714286}\n"
     ]
    },
    {
     "name": "stderr",
     "output_type": "stream",
     "text": [
      "100%|██████████| 11/11 [00:25<00:00,  2.29s/it]\n"
     ]
    },
    {
     "name": "stdout",
     "output_type": "stream",
     "text": [
      "{'政治': {'precision': 0.8516, 'recall': 0.8222, 'fscore': 0.8345, 'auc': 0.9249, 'acc': 0.8655}, '医药健康': {'precision': 0.9403, 'recall': 0.9398, 'fscore': 0.9399, 'auc': 0.9853, 'acc': 0.94}, '文体娱乐': {'precision': 0.9184, 'recall': 0.9125, 'fscore': 0.9154, 'auc': 0.9742, 'acc': 0.9306}, 'auc': 0.9735482078355099, 'metric': 0.9161998256715921, 'recall': 0.9168704269704547, 'precision': 0.9157383802556713, 'acc': 0.9165402124430956}\n"
     ]
    },
    {
     "name": "stderr",
     "output_type": "stream",
     "text": [
      "Some weights of the model checkpoint at hfl/chinese-bert-wwm-ext were not used when initializing BertModel: ['cls.predictions.transform.dense.bias', 'cls.seq_relationship.weight', 'cls.predictions.decoder.weight', 'cls.predictions.transform.LayerNorm.weight', 'cls.predictions.transform.LayerNorm.bias', 'cls.predictions.bias', 'cls.seq_relationship.bias', 'cls.predictions.transform.dense.weight']\n",
      "- This IS expected if you are initializing BertModel from the checkpoint of a model trained on another task or with another architecture (e.g. initializing a BertForSequenceClassification model from a BertForPreTraining model).\n",
      "- This IS NOT expected if you are initializing BertModel from the checkpoint of a model that you expect to be exactly identical (initializing a BertForSequenceClassification model from a BertForSequenceClassification model).\n",
      "100%|██████████| 31/31 [00:50<00:00,  1.62s/it]\n"
     ]
    },
    {
     "name": "stdout",
     "output_type": "stream",
     "text": [
      "Training Epoch 1; Loss 0.47788938014738025; \n"
     ]
    },
    {
     "name": "stderr",
     "output_type": "stream",
     "text": [
      "100%|██████████| 11/11 [00:26<00:00,  2.37s/it]\n"
     ]
    },
    {
     "name": "stdout",
     "output_type": "stream",
     "text": [
      "curent {'政治': {'precision': 0.8483, 'recall': 0.8216, 'fscore': 0.8313, 'auc': 0.9357, 'acc': 0.8471}, '医药健康': {'precision': 0.835, 'recall': 0.8366, 'fscore': 0.8348, 'auc': 0.9216, 'acc': 0.835}, '文体娱乐': {'precision': 0.8603, 'recall': 0.8793, 'fscore': 0.8686, 'auc': 0.9538, 'acc': 0.8854}, 'auc': 0.9448801149544033, 'metric': 0.8590875232774673, 'recall': 0.86299388600355, 'precision': 0.857924711765523, 'acc': 0.8601823708206687}\n",
      "Max {'政治': {'precision': 0.8483, 'recall': 0.8216, 'fscore': 0.8313, 'auc': 0.9357, 'acc': 0.8471}, '医药健康': {'precision': 0.835, 'recall': 0.8366, 'fscore': 0.8348, 'auc': 0.9216, 'acc': 0.835}, '文体娱乐': {'precision': 0.8603, 'recall': 0.8793, 'fscore': 0.8686, 'auc': 0.9538, 'acc': 0.8854}, 'auc': 0.9448801149544033, 'metric': 0.8590875232774673, 'recall': 0.86299388600355, 'precision': 0.857924711765523, 'acc': 0.8601823708206687}\n"
     ]
    },
    {
     "name": "stderr",
     "output_type": "stream",
     "text": [
      "100%|██████████| 31/31 [00:48<00:00,  1.56s/it]\n"
     ]
    },
    {
     "name": "stdout",
     "output_type": "stream",
     "text": [
      "Training Epoch 2; Loss 0.2522057727459938; \n"
     ]
    },
    {
     "name": "stderr",
     "output_type": "stream",
     "text": [
      "100%|██████████| 11/11 [00:26<00:00,  2.39s/it]\n"
     ]
    },
    {
     "name": "stdout",
     "output_type": "stream",
     "text": [
      "curent {'政治': {'precision': 0.9034, 'recall': 0.8608, 'fscore': 0.8752, 'auc': 0.9533, 'acc': 0.8882}, '医药健康': {'precision': 0.852, 'recall': 0.8502, 'fscore': 0.845, 'auc': 0.9548, 'acc': 0.845}, '文体娱乐': {'precision': 0.9039, 'recall': 0.8986, 'fscore': 0.9012, 'auc': 0.9754, 'acc': 0.9167}, 'auc': 0.9651661861247031, 'metric': 0.8867174776887499, 'recall': 0.8911971599500361, 'precision': 0.8855199222546162, 'acc': 0.8875379939209727}\n",
      "Max {'政治': {'precision': 0.9034, 'recall': 0.8608, 'fscore': 0.8752, 'auc': 0.9533, 'acc': 0.8882}, '医药健康': {'precision': 0.852, 'recall': 0.8502, 'fscore': 0.845, 'auc': 0.9548, 'acc': 0.845}, '文体娱乐': {'precision': 0.9039, 'recall': 0.8986, 'fscore': 0.9012, 'auc': 0.9754, 'acc': 0.9167}, 'auc': 0.9651661861247031, 'metric': 0.8867174776887499, 'recall': 0.8911971599500361, 'precision': 0.8855199222546162, 'acc': 0.8875379939209727}\n"
     ]
    },
    {
     "name": "stderr",
     "output_type": "stream",
     "text": [
      "100%|██████████| 31/31 [00:48<00:00,  1.57s/it]\n"
     ]
    },
    {
     "name": "stdout",
     "output_type": "stream",
     "text": [
      "Training Epoch 3; Loss 0.15479568223799428; \n"
     ]
    },
    {
     "name": "stderr",
     "output_type": "stream",
     "text": [
      "100%|██████████| 11/11 [00:25<00:00,  2.28s/it]\n"
     ]
    },
    {
     "name": "stdout",
     "output_type": "stream",
     "text": [
      "curent {'政治': {'precision': 0.9051, 'recall': 0.9076, 'fscore': 0.9063, 'auc': 0.9574, 'acc': 0.9118}, '医药健康': {'precision': 0.9022, 'recall': 0.8974, 'fscore': 0.899, 'auc': 0.9641, 'acc': 0.9}, '文体娱乐': {'precision': 0.9069, 'recall': 0.9043, 'fscore': 0.9056, 'auc': 0.9821, 'acc': 0.9201}, 'auc': 0.9737126327751533, 'metric': 0.9100965842167255, 'recall': 0.908815988429426, 'precision': 0.9116615125637171, 'acc': 0.9118541033434651}\n",
      "Max {'政治': {'precision': 0.9051, 'recall': 0.9076, 'fscore': 0.9063, 'auc': 0.9574, 'acc': 0.9118}, '医药健康': {'precision': 0.9022, 'recall': 0.8974, 'fscore': 0.899, 'auc': 0.9641, 'acc': 0.9}, '文体娱乐': {'precision': 0.9069, 'recall': 0.9043, 'fscore': 0.9056, 'auc': 0.9821, 'acc': 0.9201}, 'auc': 0.9737126327751533, 'metric': 0.9100965842167255, 'recall': 0.908815988429426, 'precision': 0.9116615125637171, 'acc': 0.9118541033434651}\n"
     ]
    },
    {
     "name": "stderr",
     "output_type": "stream",
     "text": [
      "100%|██████████| 31/31 [00:47<00:00,  1.55s/it]\n"
     ]
    },
    {
     "name": "stdout",
     "output_type": "stream",
     "text": [
      "Training Epoch 4; Loss 0.08381676361445457; \n"
     ]
    },
    {
     "name": "stderr",
     "output_type": "stream",
     "text": [
      "100%|██████████| 11/11 [00:23<00:00,  2.17s/it]\n"
     ]
    },
    {
     "name": "stdout",
     "output_type": "stream",
     "text": [
      "curent {'政治': {'precision': 0.9126, 'recall': 0.8983, 'fscore': 0.9045, 'auc': 0.9648, 'acc': 0.9118}, '医药健康': {'precision': 0.9045, 'recall': 0.9063, 'fscore': 0.9048, 'auc': 0.968, 'acc': 0.905}, '文体娱乐': {'precision': 0.9322, 'recall': 0.9023, 'fscore': 0.9154, 'auc': 0.9839, 'acc': 0.9306}, 'auc': 0.9759666406829645, 'metric': 0.9165735323121424, 'recall': 0.9165735323121424, 'precision': 0.9165735323121424, 'acc': 0.9179331306990881}\n",
      "Max {'政治': {'precision': 0.9126, 'recall': 0.8983, 'fscore': 0.9045, 'auc': 0.9648, 'acc': 0.9118}, '医药健康': {'precision': 0.9045, 'recall': 0.9063, 'fscore': 0.9048, 'auc': 0.968, 'acc': 0.905}, '文体娱乐': {'precision': 0.9322, 'recall': 0.9023, 'fscore': 0.9154, 'auc': 0.9839, 'acc': 0.9306}, 'auc': 0.9759666406829645, 'metric': 0.9165735323121424, 'recall': 0.9165735323121424, 'precision': 0.9165735323121424, 'acc': 0.9179331306990881}\n"
     ]
    },
    {
     "name": "stderr",
     "output_type": "stream",
     "text": [
      "100%|██████████| 31/31 [00:44<00:00,  1.44s/it]\n"
     ]
    },
    {
     "name": "stdout",
     "output_type": "stream",
     "text": [
      "Training Epoch 5; Loss 0.055336533655082024; \n"
     ]
    },
    {
     "name": "stderr",
     "output_type": "stream",
     "text": [
      "100%|██████████| 11/11 [00:23<00:00,  2.10s/it]\n"
     ]
    },
    {
     "name": "stdout",
     "output_type": "stream",
     "text": [
      "curent {'政治': {'precision': 0.9256, 'recall': 0.9108, 'fscore': 0.9172, 'auc': 0.9686, 'acc': 0.9235}, '医药健康': {'precision': 0.9097, 'recall': 0.9117, 'fscore': 0.9099, 'auc': 0.968, 'acc': 0.91}, '文体娱乐': {'precision': 0.9144, 'recall': 0.9245, 'fscore': 0.9192, 'auc': 0.9847, 'acc': 0.9306}, 'auc': 0.9783896991838613, 'metric': 0.9216306284636024, 'recall': 0.9241667214515811, 'precision': 0.9200833395341915, 'acc': 0.9224924012158054}\n",
      "Max {'政治': {'precision': 0.9256, 'recall': 0.9108, 'fscore': 0.9172, 'auc': 0.9686, 'acc': 0.9235}, '医药健康': {'precision': 0.9097, 'recall': 0.9117, 'fscore': 0.9099, 'auc': 0.968, 'acc': 0.91}, '文体娱乐': {'precision': 0.9144, 'recall': 0.9245, 'fscore': 0.9192, 'auc': 0.9847, 'acc': 0.9306}, 'auc': 0.9783896991838613, 'metric': 0.9216306284636024, 'recall': 0.9241667214515811, 'precision': 0.9200833395341915, 'acc': 0.9224924012158054}\n"
     ]
    },
    {
     "name": "stderr",
     "output_type": "stream",
     "text": [
      "100%|██████████| 31/31 [00:48<00:00,  1.56s/it]\n"
     ]
    },
    {
     "name": "stdout",
     "output_type": "stream",
     "text": [
      "Training Epoch 6; Loss 0.03597611477298121; \n"
     ]
    },
    {
     "name": "stderr",
     "output_type": "stream",
     "text": [
      "100%|██████████| 11/11 [00:25<00:00,  2.30s/it]\n"
     ]
    },
    {
     "name": "stdout",
     "output_type": "stream",
     "text": [
      "curent {'政治': {'precision': 0.9223, 'recall': 0.9139, 'fscore': 0.9178, 'auc': 0.9676, 'acc': 0.9235}, '医药健康': {'precision': 0.9196, 'recall': 0.9196, 'fscore': 0.9196, 'auc': 0.9708, 'acc': 0.92}, '文体娱乐': {'precision': 0.9175, 'recall': 0.9093, 'fscore': 0.9133, 'auc': 0.9841, 'acc': 0.9271}, 'auc': 0.9782300402903913, 'metric': 0.9227532706593913, 'recall': 0.9227532706593913, 'precision': 0.9227532706593913, 'acc': 0.9240121580547113}\n",
      "Max {'政治': {'precision': 0.9223, 'recall': 0.9139, 'fscore': 0.9178, 'auc': 0.9676, 'acc': 0.9235}, '医药健康': {'precision': 0.9196, 'recall': 0.9196, 'fscore': 0.9196, 'auc': 0.9708, 'acc': 0.92}, '文体娱乐': {'precision': 0.9175, 'recall': 0.9093, 'fscore': 0.9133, 'auc': 0.9841, 'acc': 0.9271}, 'auc': 0.9782300402903913, 'metric': 0.9227532706593913, 'recall': 0.9227532706593913, 'precision': 0.9227532706593913, 'acc': 0.9240121580547113}\n"
     ]
    },
    {
     "name": "stderr",
     "output_type": "stream",
     "text": [
      "100%|██████████| 31/31 [00:49<00:00,  1.61s/it]\n"
     ]
    },
    {
     "name": "stdout",
     "output_type": "stream",
     "text": [
      "Training Epoch 7; Loss 0.025369497376584237; \n"
     ]
    },
    {
     "name": "stderr",
     "output_type": "stream",
     "text": [
      "100%|██████████| 11/11 [00:25<00:00,  2.29s/it]\n"
     ]
    },
    {
     "name": "stdout",
     "output_type": "stream",
     "text": [
      "curent {'政治': {'precision': 0.9385, 'recall': 0.9233, 'fscore': 0.9299, 'auc': 0.9645, 'acc': 0.9353}, '医药健康': {'precision': 0.9124, 'recall': 0.9074, 'fscore': 0.9091, 'auc': 0.9708, 'acc': 0.91}, '文体娱乐': {'precision': 0.9152, 'recall': 0.9125, 'fscore': 0.9138, 'auc': 0.9844, 'acc': 0.9271}, 'auc': 0.9781736900926961, 'metric': 0.9226915557560718, 'recall': 0.9223588192755243, 'precision': 0.9230421899252151, 'acc': 0.9240121580547113}\n",
      "Max {'政治': {'precision': 0.9223, 'recall': 0.9139, 'fscore': 0.9178, 'auc': 0.9676, 'acc': 0.9235}, '医药健康': {'precision': 0.9196, 'recall': 0.9196, 'fscore': 0.9196, 'auc': 0.9708, 'acc': 0.92}, '文体娱乐': {'precision': 0.9175, 'recall': 0.9093, 'fscore': 0.9133, 'auc': 0.9841, 'acc': 0.9271}, 'auc': 0.9782300402903913, 'metric': 0.9227532706593913, 'recall': 0.9227532706593913, 'precision': 0.9227532706593913, 'acc': 0.9240121580547113}\n"
     ]
    },
    {
     "name": "stderr",
     "output_type": "stream",
     "text": [
      "100%|██████████| 31/31 [00:49<00:00,  1.59s/it]\n"
     ]
    },
    {
     "name": "stdout",
     "output_type": "stream",
     "text": [
      "Training Epoch 8; Loss 0.019286037242460634; \n"
     ]
    },
    {
     "name": "stderr",
     "output_type": "stream",
     "text": [
      "100%|██████████| 11/11 [00:26<00:00,  2.45s/it]\n"
     ]
    },
    {
     "name": "stdout",
     "output_type": "stream",
     "text": [
      "curent {'政治': {'precision': 0.9294, 'recall': 0.9077, 'fscore': 0.9166, 'auc': 0.9674, 'acc': 0.9235}, '医药健康': {'precision': 0.9145, 'recall': 0.9163, 'fscore': 0.9148, 'auc': 0.9726, 'acc': 0.915}, '文体娱乐': {'precision': 0.9175, 'recall': 0.9302, 'fscore': 0.9235, 'auc': 0.9844, 'acc': 0.934}, 'auc': 0.9790095513585093, 'metric': 0.9247517358072233, 'recall': 0.9276510420090724, 'precision': 0.9231248141540291, 'acc': 0.925531914893617}\n",
      "Max {'政治': {'precision': 0.9294, 'recall': 0.9077, 'fscore': 0.9166, 'auc': 0.9674, 'acc': 0.9235}, '医药健康': {'precision': 0.9145, 'recall': 0.9163, 'fscore': 0.9148, 'auc': 0.9726, 'acc': 0.915}, '文体娱乐': {'precision': 0.9175, 'recall': 0.9302, 'fscore': 0.9235, 'auc': 0.9844, 'acc': 0.934}, 'auc': 0.9790095513585093, 'metric': 0.9247517358072233, 'recall': 0.9276510420090724, 'precision': 0.9231248141540291, 'acc': 0.925531914893617}\n"
     ]
    },
    {
     "name": "stderr",
     "output_type": "stream",
     "text": [
      "100%|██████████| 31/31 [00:46<00:00,  1.49s/it]\n"
     ]
    },
    {
     "name": "stdout",
     "output_type": "stream",
     "text": [
      "Training Epoch 9; Loss 0.015152035851872737; \n"
     ]
    },
    {
     "name": "stderr",
     "output_type": "stream",
     "text": [
      "100%|██████████| 11/11 [00:24<00:00,  2.22s/it]\n"
     ]
    },
    {
     "name": "stdout",
     "output_type": "stream",
     "text": [
      "curent {'政治': {'precision': 0.9303, 'recall': 0.9186, 'fscore': 0.9238, 'auc': 0.9615, 'acc': 0.9294}, '医药健康': {'precision': 0.9183, 'recall': 0.9121, 'fscore': 0.9141, 'auc': 0.9721, 'acc': 0.915}, '文体娱乐': {'precision': 0.9174, 'recall': 0.8916, 'fscore': 0.903, 'auc': 0.9844, 'acc': 0.9201}, 'auc': 0.9783145655869343, 'metric': 0.9192538961835808, 'recall': 0.9172966931825652, 'precision': 0.9218609067173036, 'acc': 0.9209726443768997}\n",
      "Max {'政治': {'precision': 0.9294, 'recall': 0.9077, 'fscore': 0.9166, 'auc': 0.9674, 'acc': 0.9235}, '医药健康': {'precision': 0.9145, 'recall': 0.9163, 'fscore': 0.9148, 'auc': 0.9726, 'acc': 0.915}, '文体娱乐': {'precision': 0.9175, 'recall': 0.9302, 'fscore': 0.9235, 'auc': 0.9844, 'acc': 0.934}, 'auc': 0.9790095513585093, 'metric': 0.9247517358072233, 'recall': 0.9276510420090724, 'precision': 0.9231248141540291, 'acc': 0.925531914893617}\n"
     ]
    },
    {
     "name": "stderr",
     "output_type": "stream",
     "text": [
      "100%|██████████| 31/31 [00:50<00:00,  1.63s/it]\n"
     ]
    },
    {
     "name": "stdout",
     "output_type": "stream",
     "text": [
      "Training Epoch 10; Loss 0.012962371771854738; \n"
     ]
    },
    {
     "name": "stderr",
     "output_type": "stream",
     "text": [
      "100%|██████████| 11/11 [00:23<00:00,  2.15s/it]\n"
     ]
    },
    {
     "name": "stdout",
     "output_type": "stream",
     "text": [
      "curent {'政治': {'precision': 0.9294, 'recall': 0.9077, 'fscore': 0.9166, 'auc': 0.9654, 'acc': 0.9235}, '医药健康': {'precision': 0.9042, 'recall': 0.9056, 'fscore': 0.9047, 'auc': 0.972, 'acc': 0.905}, '文体娱乐': {'precision': 0.9182, 'recall': 0.9182, 'fscore': 0.9182, 'auc': 0.9848, 'acc': 0.9306}, 'auc': 0.979112860054284, 'metric': 0.9199603263717344, 'recall': 0.9216356584051015, 'precision': 0.9187255752352705, 'acc': 0.9209726443768997}\n",
      "Max {'政治': {'precision': 0.9294, 'recall': 0.9077, 'fscore': 0.9166, 'auc': 0.9674, 'acc': 0.9235}, '医药健康': {'precision': 0.9145, 'recall': 0.9163, 'fscore': 0.9148, 'auc': 0.9726, 'acc': 0.915}, '文体娱乐': {'precision': 0.9175, 'recall': 0.9302, 'fscore': 0.9235, 'auc': 0.9844, 'acc': 0.934}, 'auc': 0.9790095513585093, 'metric': 0.9247517358072233, 'recall': 0.9276510420090724, 'precision': 0.9231248141540291, 'acc': 0.925531914893617}\n"
     ]
    },
    {
     "name": "stderr",
     "output_type": "stream",
     "text": [
      "100%|██████████| 31/31 [00:47<00:00,  1.52s/it]\n"
     ]
    },
    {
     "name": "stdout",
     "output_type": "stream",
     "text": [
      "Training Epoch 11; Loss 0.010424510605873601; \n"
     ]
    },
    {
     "name": "stderr",
     "output_type": "stream",
     "text": [
      "100%|██████████| 11/11 [00:26<00:00,  2.37s/it]\n"
     ]
    },
    {
     "name": "stdout",
     "output_type": "stream",
     "text": [
      "curent {'政治': {'precision': 0.9209, 'recall': 0.903, 'fscore': 0.9105, 'auc': 0.9665, 'acc': 0.9176}, '医药健康': {'precision': 0.9196, 'recall': 0.9196, 'fscore': 0.9196, 'auc': 0.9745, 'acc': 0.92}, '文体娱乐': {'precision': 0.9212, 'recall': 0.9239, 'fscore': 0.9225, 'auc': 0.9846, 'acc': 0.934}, 'auc': 0.9794791363393034, 'metric': 0.9244979919678715, 'recall': 0.9256787850897377, 'precision': 0.9235347985347986, 'acc': 0.925531914893617}\n",
      "Max {'政治': {'precision': 0.9294, 'recall': 0.9077, 'fscore': 0.9166, 'auc': 0.9674, 'acc': 0.9235}, '医药健康': {'precision': 0.9145, 'recall': 0.9163, 'fscore': 0.9148, 'auc': 0.9726, 'acc': 0.915}, '文体娱乐': {'precision': 0.9175, 'recall': 0.9302, 'fscore': 0.9235, 'auc': 0.9844, 'acc': 0.934}, 'auc': 0.9790095513585093, 'metric': 0.9247517358072233, 'recall': 0.9276510420090724, 'precision': 0.9231248141540291, 'acc': 0.925531914893617}\n"
     ]
    },
    {
     "name": "stderr",
     "output_type": "stream",
     "text": [
      "100%|██████████| 11/11 [00:25<00:00,  2.30s/it]\n"
     ]
    },
    {
     "name": "stdout",
     "output_type": "stream",
     "text": [
      "{'政治': {'precision': 0.9009, 'recall': 0.8335, 'fscore': 0.8578, 'auc': 0.9258, 'acc': 0.8889}, '医药健康': {'precision': 0.9456, 'recall': 0.9447, 'fscore': 0.9449, 'auc': 0.9875, 'acc': 0.945}, '文体娱乐': {'precision': 0.9086, 'recall': 0.917, 'fscore': 0.9127, 'auc': 0.9793, 'acc': 0.9271}, 'auc': 0.9755209780494583, 'metric': 0.9224492998077903, 'recall': 0.9243354635546911, 'precision': 0.9221070573060622, 'acc': 0.9226100151745068}\n"
     ]
    },
    {
     "name": "stderr",
     "output_type": "stream",
     "text": [
      "Some weights of the model checkpoint at hfl/chinese-bert-wwm-ext were not used when initializing BertModel: ['cls.predictions.transform.dense.bias', 'cls.seq_relationship.weight', 'cls.predictions.decoder.weight', 'cls.predictions.transform.LayerNorm.weight', 'cls.predictions.transform.LayerNorm.bias', 'cls.predictions.bias', 'cls.seq_relationship.bias', 'cls.predictions.transform.dense.weight']\n",
      "- This IS expected if you are initializing BertModel from the checkpoint of a model trained on another task or with another architecture (e.g. initializing a BertForSequenceClassification model from a BertForPreTraining model).\n",
      "- This IS NOT expected if you are initializing BertModel from the checkpoint of a model that you expect to be exactly identical (initializing a BertForSequenceClassification model from a BertForSequenceClassification model).\n",
      "100%|██████████| 31/31 [00:50<00:00,  1.62s/it]\n"
     ]
    },
    {
     "name": "stdout",
     "output_type": "stream",
     "text": [
      "Training Epoch 1; Loss 0.4868163543362773; \n"
     ]
    },
    {
     "name": "stderr",
     "output_type": "stream",
     "text": [
      "100%|██████████| 11/11 [00:23<00:00,  2.18s/it]\n"
     ]
    },
    {
     "name": "stdout",
     "output_type": "stream",
     "text": [
      "curent {'政治': {'precision': 0.8159, 'recall': 0.7888, 'fscore': 0.798, 'auc': 0.922, 'acc': 0.8176}, '医药健康': {'precision': 0.8591, 'recall': 0.86, 'fscore': 0.8595, 'auc': 0.9246, 'acc': 0.86}, '文体娱乐': {'precision': 0.8744, 'recall': 0.8836, 'fscore': 0.8788, 'auc': 0.9481, 'acc': 0.8958}, 'auc': 0.9411610019065151, 'metric': 0.8633245813641404, 'recall': 0.8658536585365854, 'precision': 0.8619814897413025, 'acc': 0.8647416413373861}\n",
      "Max {'政治': {'precision': 0.8159, 'recall': 0.7888, 'fscore': 0.798, 'auc': 0.922, 'acc': 0.8176}, '医药健康': {'precision': 0.8591, 'recall': 0.86, 'fscore': 0.8595, 'auc': 0.9246, 'acc': 0.86}, '文体娱乐': {'precision': 0.8744, 'recall': 0.8836, 'fscore': 0.8788, 'auc': 0.9481, 'acc': 0.8958}, 'auc': 0.9411610019065151, 'metric': 0.8633245813641404, 'recall': 0.8658536585365854, 'precision': 0.8619814897413025, 'acc': 0.8647416413373861}\n"
     ]
    },
    {
     "name": "stderr",
     "output_type": "stream",
     "text": [
      "100%|██████████| 31/31 [00:49<00:00,  1.59s/it]\n"
     ]
    },
    {
     "name": "stdout",
     "output_type": "stream",
     "text": [
      "Training Epoch 2; Loss 0.26967801538205916; \n"
     ]
    },
    {
     "name": "stderr",
     "output_type": "stream",
     "text": [
      "100%|██████████| 11/11 [00:26<00:00,  2.42s/it]\n"
     ]
    },
    {
     "name": "stdout",
     "output_type": "stream",
     "text": [
      "curent {'政治': {'precision': 0.9173, 'recall': 0.8359, 'fscore': 0.8568, 'auc': 0.9531, 'acc': 0.8765}, '医药健康': {'precision': 0.8702, 'recall': 0.8696, 'fscore': 0.865, 'auc': 0.9555, 'acc': 0.865}, '文体娱乐': {'precision': 0.8891, 'recall': 0.9032, 'fscore': 0.8956, 'auc': 0.9681, 'acc': 0.9097}, 'auc': 0.9628652197188124, 'metric': 0.887077922077922, 'recall': 0.8939583196371048, 'precision': 0.8875379939209727, 'acc': 0.8875379939209727}\n",
      "Max {'政治': {'precision': 0.9173, 'recall': 0.8359, 'fscore': 0.8568, 'auc': 0.9531, 'acc': 0.8765}, '医药健康': {'precision': 0.8702, 'recall': 0.8696, 'fscore': 0.865, 'auc': 0.9555, 'acc': 0.865}, '文体娱乐': {'precision': 0.8891, 'recall': 0.9032, 'fscore': 0.8956, 'auc': 0.9681, 'acc': 0.9097}, 'auc': 0.9628652197188124, 'metric': 0.887077922077922, 'recall': 0.8939583196371048, 'precision': 0.8875379939209727, 'acc': 0.8875379939209727}\n"
     ]
    },
    {
     "name": "stderr",
     "output_type": "stream",
     "text": [
      "100%|██████████| 31/31 [00:48<00:00,  1.58s/it]\n"
     ]
    },
    {
     "name": "stdout",
     "output_type": "stream",
     "text": [
      "Training Epoch 3; Loss 0.16452709513325844; \n"
     ]
    },
    {
     "name": "stderr",
     "output_type": "stream",
     "text": [
      "100%|██████████| 11/11 [00:25<00:00,  2.28s/it]\n"
     ]
    },
    {
     "name": "stdout",
     "output_type": "stream",
     "text": [
      "curent {'政治': {'precision': 0.8983, 'recall': 0.8749, 'fscore': 0.8841, 'auc': 0.9534, 'acc': 0.8941}, '医药健康': {'precision': 0.8897, 'recall': 0.8916, 'fscore': 0.8898, 'auc': 0.9595, 'acc': 0.89}, '文体娱乐': {'precision': 0.9081, 'recall': 0.9132, 'fscore': 0.9106, 'auc': 0.9785, 'acc': 0.9236}, 'auc': 0.9705851968030654, 'metric': 0.9047579026007377, 'recall': 0.9073696666885807, 'precision': 0.9032491981592525, 'acc': 0.9057750759878419}\n",
      "Max {'政治': {'precision': 0.8983, 'recall': 0.8749, 'fscore': 0.8841, 'auc': 0.9534, 'acc': 0.8941}, '医药健康': {'precision': 0.8897, 'recall': 0.8916, 'fscore': 0.8898, 'auc': 0.9595, 'acc': 0.89}, '文体娱乐': {'precision': 0.9081, 'recall': 0.9132, 'fscore': 0.9106, 'auc': 0.9785, 'acc': 0.9236}, 'auc': 0.9705851968030654, 'metric': 0.9047579026007377, 'recall': 0.9073696666885807, 'precision': 0.9032491981592525, 'acc': 0.9057750759878419}\n"
     ]
    },
    {
     "name": "stderr",
     "output_type": "stream",
     "text": [
      "100%|██████████| 31/31 [00:49<00:00,  1.58s/it]\n"
     ]
    },
    {
     "name": "stdout",
     "output_type": "stream",
     "text": [
      "Training Epoch 4; Loss 0.09844268089340578; \n"
     ]
    },
    {
     "name": "stderr",
     "output_type": "stream",
     "text": [
      "100%|██████████| 11/11 [00:27<00:00,  2.50s/it]\n"
     ]
    },
    {
     "name": "stdout",
     "output_type": "stream",
     "text": [
      "curent {'政治': {'precision': 0.9095, 'recall': 0.9014, 'fscore': 0.9051, 'auc': 0.9559, 'acc': 0.9118}, '医药健康': {'precision': 0.9056, 'recall': 0.9035, 'fscore': 0.9043, 'auc': 0.9648, 'acc': 0.905}, '文体娱乐': {'precision': 0.9202, 'recall': 0.8973, 'fscore': 0.9076, 'auc': 0.9805, 'acc': 0.9236}, 'auc': 0.9734966236839881, 'metric': 0.9131967020023557, 'recall': 0.9119058576030504, 'precision': 0.9147728884727778, 'acc': 0.9148936170212766}\n",
      "Max {'政治': {'precision': 0.9095, 'recall': 0.9014, 'fscore': 0.9051, 'auc': 0.9559, 'acc': 0.9118}, '医药健康': {'precision': 0.9056, 'recall': 0.9035, 'fscore': 0.9043, 'auc': 0.9648, 'acc': 0.905}, '文体娱乐': {'precision': 0.9202, 'recall': 0.8973, 'fscore': 0.9076, 'auc': 0.9805, 'acc': 0.9236}, 'auc': 0.9734966236839881, 'metric': 0.9131967020023557, 'recall': 0.9119058576030504, 'precision': 0.9147728884727778, 'acc': 0.9148936170212766}\n"
     ]
    },
    {
     "name": "stderr",
     "output_type": "stream",
     "text": [
      "100%|██████████| 31/31 [00:49<00:00,  1.59s/it]\n"
     ]
    },
    {
     "name": "stdout",
     "output_type": "stream",
     "text": [
      "Training Epoch 5; Loss 0.058177124228208296; \n"
     ]
    },
    {
     "name": "stderr",
     "output_type": "stream",
     "text": [
      "100%|██████████| 11/11 [00:23<00:00,  2.13s/it]\n"
     ]
    },
    {
     "name": "stdout",
     "output_type": "stream",
     "text": [
      "curent {'政治': {'precision': 0.8996, 'recall': 0.8858, 'fscore': 0.8917, 'auc': 0.9611, 'acc': 0.9}, '医药健康': {'precision': 0.9149, 'recall': 0.9142, 'fscore': 0.9145, 'auc': 0.9675, 'acc': 0.915}, '文体娱乐': {'precision': 0.923, 'recall': 0.9118, 'fscore': 0.9171, 'auc': 0.9815, 'acc': 0.9306}, 'auc': 0.9755158391014022, 'metric': 0.9165735323121424, 'recall': 0.9165735323121424, 'precision': 0.9165735323121424, 'acc': 0.9179331306990881}\n",
      "Max {'政治': {'precision': 0.8996, 'recall': 0.8858, 'fscore': 0.8917, 'auc': 0.9611, 'acc': 0.9}, '医药健康': {'precision': 0.9149, 'recall': 0.9142, 'fscore': 0.9145, 'auc': 0.9675, 'acc': 0.915}, '文体娱乐': {'precision': 0.923, 'recall': 0.9118, 'fscore': 0.9171, 'auc': 0.9815, 'acc': 0.9306}, 'auc': 0.9755158391014022, 'metric': 0.9165735323121424, 'recall': 0.9165735323121424, 'precision': 0.9165735323121424, 'acc': 0.9179331306990881}\n"
     ]
    },
    {
     "name": "stderr",
     "output_type": "stream",
     "text": [
      "100%|██████████| 31/31 [00:44<00:00,  1.45s/it]\n"
     ]
    },
    {
     "name": "stdout",
     "output_type": "stream",
     "text": [
      "Training Epoch 6; Loss 0.039390236379638795; \n"
     ]
    },
    {
     "name": "stderr",
     "output_type": "stream",
     "text": [
      "100%|██████████| 11/11 [00:23<00:00,  2.14s/it]\n"
     ]
    },
    {
     "name": "stdout",
     "output_type": "stream",
     "text": [
      "curent {'政治': {'precision': 0.9162, 'recall': 0.8843, 'fscore': 0.8962, 'auc': 0.9621, 'acc': 0.9059}, '医药健康': {'precision': 0.925, 'recall': 0.9271, 'fscore': 0.9249, 'auc': 0.9703, 'acc': 0.925}, '文体娱乐': {'precision': 0.91, 'recall': 0.91, 'fscore': 0.91, 'auc': 0.9818, 'acc': 0.9236}, 'auc': 0.9758633319871898, 'metric': 0.918609020362915, 'recall': 0.9214713036618236, 'precision': 0.9170104817127565, 'acc': 0.9194528875379939}\n",
      "Max {'政治': {'precision': 0.9162, 'recall': 0.8843, 'fscore': 0.8962, 'auc': 0.9621, 'acc': 0.9059}, '医药健康': {'precision': 0.925, 'recall': 0.9271, 'fscore': 0.9249, 'auc': 0.9703, 'acc': 0.925}, '文体娱乐': {'precision': 0.91, 'recall': 0.91, 'fscore': 0.91, 'auc': 0.9818, 'acc': 0.9236}, 'auc': 0.9758633319871898, 'metric': 0.918609020362915, 'recall': 0.9214713036618236, 'precision': 0.9170104817127565, 'acc': 0.9194528875379939}\n"
     ]
    },
    {
     "name": "stderr",
     "output_type": "stream",
     "text": [
      "100%|██████████| 31/31 [00:45<00:00,  1.47s/it]\n"
     ]
    },
    {
     "name": "stdout",
     "output_type": "stream",
     "text": [
      "Training Epoch 7; Loss 0.02586091604203947; \n"
     ]
    },
    {
     "name": "stderr",
     "output_type": "stream",
     "text": [
      "100%|██████████| 11/11 [00:23<00:00,  2.15s/it]\n"
     ]
    },
    {
     "name": "stdout",
     "output_type": "stream",
     "text": [
      "curent {'政治': {'precision': 0.9162, 'recall': 0.8843, 'fscore': 0.8962, 'auc': 0.9611, 'acc': 0.9059}, '医药健康': {'precision': 0.9293, 'recall': 0.9311, 'fscore': 0.9298, 'auc': 0.972, 'acc': 0.93}, '文体娱乐': {'precision': 0.9131, 'recall': 0.9157, 'fscore': 0.9144, 'auc': 0.9814, 'acc': 0.9271}, 'auc': 0.9763517003672155, 'metric': 0.9216306284636024, 'recall': 0.9241667214515811, 'precision': 0.9200833395341915, 'acc': 0.9224924012158054}\n",
      "Max {'政治': {'precision': 0.9162, 'recall': 0.8843, 'fscore': 0.8962, 'auc': 0.9611, 'acc': 0.9059}, '医药健康': {'precision': 0.9293, 'recall': 0.9311, 'fscore': 0.9298, 'auc': 0.972, 'acc': 0.93}, '文体娱乐': {'precision': 0.9131, 'recall': 0.9157, 'fscore': 0.9144, 'auc': 0.9814, 'acc': 0.9271}, 'auc': 0.9763517003672155, 'metric': 0.9216306284636024, 'recall': 0.9241667214515811, 'precision': 0.9200833395341915, 'acc': 0.9224924012158054}\n"
     ]
    },
    {
     "name": "stderr",
     "output_type": "stream",
     "text": [
      "100%|██████████| 31/31 [00:44<00:00,  1.45s/it]\n"
     ]
    },
    {
     "name": "stdout",
     "output_type": "stream",
     "text": [
      "Training Epoch 8; Loss 0.02262682437656387; \n"
     ]
    },
    {
     "name": "stderr",
     "output_type": "stream",
     "text": [
      "100%|██████████| 11/11 [00:23<00:00,  2.15s/it]\n"
     ]
    },
    {
     "name": "stdout",
     "output_type": "stream",
     "text": [
      "curent {'政治': {'precision': 0.9162, 'recall': 0.8843, 'fscore': 0.8962, 'auc': 0.9612, 'acc': 0.9059}, '医药健康': {'precision': 0.925, 'recall': 0.9271, 'fscore': 0.9249, 'auc': 0.9728, 'acc': 0.925}, '文体娱乐': {'precision': 0.9131, 'recall': 0.9157, 'fscore': 0.9144, 'auc': 0.9821, 'acc': 0.9271}, 'auc': 0.976154474675282, 'metric': 0.9201694788711363, 'recall': 0.9232134639405694, 'precision': 0.9185436307063577, 'acc': 0.9209726443768997}\n",
      "Max {'政治': {'precision': 0.9162, 'recall': 0.8843, 'fscore': 0.8962, 'auc': 0.9611, 'acc': 0.9059}, '医药健康': {'precision': 0.9293, 'recall': 0.9311, 'fscore': 0.9298, 'auc': 0.972, 'acc': 0.93}, '文体娱乐': {'precision': 0.9131, 'recall': 0.9157, 'fscore': 0.9144, 'auc': 0.9814, 'acc': 0.9271}, 'auc': 0.9763517003672155, 'metric': 0.9216306284636024, 'recall': 0.9241667214515811, 'precision': 0.9200833395341915, 'acc': 0.9224924012158054}\n"
     ]
    },
    {
     "name": "stderr",
     "output_type": "stream",
     "text": [
      "100%|██████████| 31/31 [00:47<00:00,  1.54s/it]\n"
     ]
    },
    {
     "name": "stdout",
     "output_type": "stream",
     "text": [
      "Training Epoch 9; Loss 0.01770186292067651; \n"
     ]
    },
    {
     "name": "stderr",
     "output_type": "stream",
     "text": [
      "100%|██████████| 11/11 [00:23<00:00,  2.16s/it]\n"
     ]
    },
    {
     "name": "stdout",
     "output_type": "stream",
     "text": [
      "curent {'政治': {'precision': 0.9162, 'recall': 0.8843, 'fscore': 0.8962, 'auc': 0.9605, 'acc': 0.9059}, '医药健康': {'precision': 0.9159, 'recall': 0.9177, 'fscore': 0.9149, 'auc': 0.9724, 'acc': 0.915}, '文体娱乐': {'precision': 0.9081, 'recall': 0.9132, 'fscore': 0.9106, 'auc': 0.9822, 'acc': 0.9236}, 'auc': 0.9767085849526189, 'metric': 0.9156400424247368, 'recall': 0.9191703372559332, 'precision': 0.914025974025974, 'acc': 0.9164133738601824}\n",
      "Max {'政治': {'precision': 0.9162, 'recall': 0.8843, 'fscore': 0.8962, 'auc': 0.9611, 'acc': 0.9059}, '医药健康': {'precision': 0.9293, 'recall': 0.9311, 'fscore': 0.9298, 'auc': 0.972, 'acc': 0.93}, '文体娱乐': {'precision': 0.9131, 'recall': 0.9157, 'fscore': 0.9144, 'auc': 0.9814, 'acc': 0.9271}, 'auc': 0.9763517003672155, 'metric': 0.9216306284636024, 'recall': 0.9241667214515811, 'precision': 0.9200833395341915, 'acc': 0.9224924012158054}\n"
     ]
    },
    {
     "name": "stderr",
     "output_type": "stream",
     "text": [
      "100%|██████████| 31/31 [00:46<00:00,  1.50s/it]\n"
     ]
    },
    {
     "name": "stdout",
     "output_type": "stream",
     "text": [
      "Training Epoch 10; Loss 0.015604569606723332; \n"
     ]
    },
    {
     "name": "stderr",
     "output_type": "stream",
     "text": [
      "100%|██████████| 11/11 [00:23<00:00,  2.11s/it]\n"
     ]
    },
    {
     "name": "stdout",
     "output_type": "stream",
     "text": [
      "curent {'政治': {'precision': 0.9071, 'recall': 0.8796, 'fscore': 0.8901, 'auc': 0.9617, 'acc': 0.9}, '医药健康': {'precision': 0.9303, 'recall': 0.929, 'fscore': 0.9295, 'auc': 0.973, 'acc': 0.93}, '文体娱乐': {'precision': 0.91, 'recall': 0.91, 'fscore': 0.91, 'auc': 0.982, 'acc': 0.9236}, 'auc': 0.9769527691426316, 'metric': 0.918334562740759, 'recall': 0.9194990467424891, 'precision': 0.917386185243328, 'acc': 0.9194528875379939}\n",
      "Max {'政治': {'precision': 0.9162, 'recall': 0.8843, 'fscore': 0.8962, 'auc': 0.9611, 'acc': 0.9059}, '医药健康': {'precision': 0.9293, 'recall': 0.9311, 'fscore': 0.9298, 'auc': 0.972, 'acc': 0.93}, '文体娱乐': {'precision': 0.9131, 'recall': 0.9157, 'fscore': 0.9144, 'auc': 0.9814, 'acc': 0.9271}, 'auc': 0.9763517003672155, 'metric': 0.9216306284636024, 'recall': 0.9241667214515811, 'precision': 0.9200833395341915, 'acc': 0.9224924012158054}\n"
     ]
    },
    {
     "name": "stderr",
     "output_type": "stream",
     "text": [
      "100%|██████████| 11/11 [00:23<00:00,  2.18s/it]\n"
     ]
    },
    {
     "name": "stdout",
     "output_type": "stream",
     "text": [
      "{'政治': {'precision': 0.8889, 'recall': 0.8293, 'fscore': 0.8513, 'auc': 0.9197, 'acc': 0.883}, '医药健康': {'precision': 0.931, 'recall': 0.9239, 'fscore': 0.9246, 'auc': 0.9831, 'acc': 0.925}, '文体娱乐': {'precision': 0.9086, 'recall': 0.917, 'fscore': 0.9127, 'auc': 0.9753, 'acc': 0.9271}, 'auc': 0.9718718162452533, 'metric': 0.9149191242922223, 'recall': 0.9175002315457997, 'precision': 0.9152006115982609, 'acc': 0.9150227617602428}\n"
     ]
    },
    {
     "name": "stderr",
     "output_type": "stream",
     "text": [
      "Some weights of the model checkpoint at hfl/chinese-bert-wwm-ext were not used when initializing BertModel: ['cls.predictions.transform.dense.bias', 'cls.seq_relationship.weight', 'cls.predictions.decoder.weight', 'cls.predictions.transform.LayerNorm.weight', 'cls.predictions.transform.LayerNorm.bias', 'cls.predictions.bias', 'cls.seq_relationship.bias', 'cls.predictions.transform.dense.weight']\n",
      "- This IS expected if you are initializing BertModel from the checkpoint of a model trained on another task or with another architecture (e.g. initializing a BertForSequenceClassification model from a BertForPreTraining model).\n",
      "- This IS NOT expected if you are initializing BertModel from the checkpoint of a model that you expect to be exactly identical (initializing a BertForSequenceClassification model from a BertForSequenceClassification model).\n",
      "100%|██████████| 31/31 [00:47<00:00,  1.52s/it]\n"
     ]
    },
    {
     "name": "stdout",
     "output_type": "stream",
     "text": [
      "Training Epoch 1; Loss 0.4924000097859289; \n"
     ]
    },
    {
     "name": "stderr",
     "output_type": "stream",
     "text": [
      "100%|██████████| 11/11 [00:24<00:00,  2.25s/it]\n"
     ]
    },
    {
     "name": "stdout",
     "output_type": "stream",
     "text": [
      "curent {'政治': {'precision': 0.8333, 'recall': 0.7764, 'fscore': 0.7907, 'auc': 0.9147, 'acc': 0.8176}, '医药健康': {'precision': 0.8542, 'recall': 0.8546, 'fscore': 0.8544, 'auc': 0.9347, 'acc': 0.855}, '文体娱乐': {'precision': 0.874, 'recall': 0.8716, 'fscore': 0.8728, 'auc': 0.9579, 'acc': 0.8924}, 'auc': 0.9438188528978089, 'metric': 0.8603392740105287, 'recall': 0.8631582407468279, 'precision': 0.8589943553178847, 'acc': 0.8617021276595744}\n",
      "Max {'政治': {'precision': 0.8333, 'recall': 0.7764, 'fscore': 0.7907, 'auc': 0.9147, 'acc': 0.8176}, '医药健康': {'precision': 0.8542, 'recall': 0.8546, 'fscore': 0.8544, 'auc': 0.9347, 'acc': 0.855}, '文体娱乐': {'precision': 0.874, 'recall': 0.8716, 'fscore': 0.8728, 'auc': 0.9579, 'acc': 0.8924}, 'auc': 0.9438188528978089, 'metric': 0.8603392740105287, 'recall': 0.8631582407468279, 'precision': 0.8589943553178847, 'acc': 0.8617021276595744}\n"
     ]
    },
    {
     "name": "stderr",
     "output_type": "stream",
     "text": [
      "100%|██████████| 31/31 [00:46<00:00,  1.51s/it]\n"
     ]
    },
    {
     "name": "stdout",
     "output_type": "stream",
     "text": [
      "Training Epoch 2; Loss 0.2688309002307155; \n"
     ]
    },
    {
     "name": "stderr",
     "output_type": "stream",
     "text": [
      "100%|██████████| 11/11 [00:24<00:00,  2.24s/it]\n"
     ]
    },
    {
     "name": "stdout",
     "output_type": "stream",
     "text": [
      "curent {'政治': {'precision': 0.866, 'recall': 0.8311, 'fscore': 0.843, 'auc': 0.9452, 'acc': 0.8588}, '医药健康': {'precision': 0.8845, 'recall': 0.8862, 'fscore': 0.8848, 'auc': 0.9562, 'acc': 0.885}, '文体娱乐': {'precision': 0.9091, 'recall': 0.8745, 'fscore': 0.8892, 'auc': 0.9737, 'acc': 0.9097}, 'auc': 0.9632033209049842, 'metric': 0.887435174574607, 'recall': 0.8882059036223786, 'precision': 0.8867710906504978, 'acc': 0.8890577507598785}\n",
      "Max {'政治': {'precision': 0.866, 'recall': 0.8311, 'fscore': 0.843, 'auc': 0.9452, 'acc': 0.8588}, '医药健康': {'precision': 0.8845, 'recall': 0.8862, 'fscore': 0.8848, 'auc': 0.9562, 'acc': 0.885}, '文体娱乐': {'precision': 0.9091, 'recall': 0.8745, 'fscore': 0.8892, 'auc': 0.9737, 'acc': 0.9097}, 'auc': 0.9632033209049842, 'metric': 0.887435174574607, 'recall': 0.8882059036223786, 'precision': 0.8867710906504978, 'acc': 0.8890577507598785}\n"
     ]
    },
    {
     "name": "stderr",
     "output_type": "stream",
     "text": [
      "100%|██████████| 31/31 [00:45<00:00,  1.48s/it]\n"
     ]
    },
    {
     "name": "stdout",
     "output_type": "stream",
     "text": [
      "Training Epoch 3; Loss 0.1604726449135811; \n"
     ]
    },
    {
     "name": "stderr",
     "output_type": "stream",
     "text": [
      "100%|██████████| 11/11 [00:23<00:00,  2.18s/it]\n"
     ]
    },
    {
     "name": "stdout",
     "output_type": "stream",
     "text": [
      "curent {'政治': {'precision': 0.9071, 'recall': 0.8796, 'fscore': 0.8901, 'auc': 0.9537, 'acc': 0.9}, '医药健康': {'precision': 0.8897, 'recall': 0.8916, 'fscore': 0.8898, 'auc': 0.9679, 'acc': 0.89}, '文体娱乐': {'precision': 0.9018, 'recall': 0.9018, 'fscore': 0.9018, 'auc': 0.9781, 'acc': 0.9167}, 'auc': 0.9728204213116447, 'metric': 0.9031907763373914, 'recall': 0.905627506409835, 'precision': 0.9017225984076196, 'acc': 0.9042553191489362}\n",
      "Max {'政治': {'precision': 0.9071, 'recall': 0.8796, 'fscore': 0.8901, 'auc': 0.9537, 'acc': 0.9}, '医药健康': {'precision': 0.8897, 'recall': 0.8916, 'fscore': 0.8898, 'auc': 0.9679, 'acc': 0.89}, '文体娱乐': {'precision': 0.9018, 'recall': 0.9018, 'fscore': 0.9018, 'auc': 0.9781, 'acc': 0.9167}, 'auc': 0.9728204213116447, 'metric': 0.9031907763373914, 'recall': 0.905627506409835, 'precision': 0.9017225984076196, 'acc': 0.9042553191489362}\n"
     ]
    },
    {
     "name": "stderr",
     "output_type": "stream",
     "text": [
      "100%|██████████| 31/31 [00:46<00:00,  1.51s/it]\n"
     ]
    },
    {
     "name": "stdout",
     "output_type": "stream",
     "text": [
      "Training Epoch 4; Loss 0.09066463910764264; \n"
     ]
    },
    {
     "name": "stderr",
     "output_type": "stream",
     "text": [
      "100%|██████████| 11/11 [00:25<00:00,  2.36s/it]\n"
     ]
    },
    {
     "name": "stdout",
     "output_type": "stream",
     "text": [
      "curent {'政治': {'precision': 0.8937, 'recall': 0.8561, 'fscore': 0.8692, 'auc': 0.9603, 'acc': 0.8824}, '医药健康': {'precision': 0.915, 'recall': 0.917, 'fscore': 0.9149, 'auc': 0.9722, 'acc': 0.915}, '文体娱乐': {'precision': 0.9152, 'recall': 0.9125, 'fscore': 0.9138, 'auc': 0.984, 'acc': 0.9271}, 'auc': 0.9759384655841167, 'metric': 0.910958264894729, 'recall': 0.9139438564196962, 'precision': 0.9093763061347699, 'acc': 0.9118541033434651}\n",
      "Max {'政治': {'precision': 0.8937, 'recall': 0.8561, 'fscore': 0.8692, 'auc': 0.9603, 'acc': 0.8824}, '医药健康': {'precision': 0.915, 'recall': 0.917, 'fscore': 0.9149, 'auc': 0.9722, 'acc': 0.915}, '文体娱乐': {'precision': 0.9152, 'recall': 0.9125, 'fscore': 0.9138, 'auc': 0.984, 'acc': 0.9271}, 'auc': 0.9759384655841167, 'metric': 0.910958264894729, 'recall': 0.9139438564196962, 'precision': 0.9093763061347699, 'acc': 0.9118541033434651}\n"
     ]
    },
    {
     "name": "stderr",
     "output_type": "stream",
     "text": [
      "100%|██████████| 31/31 [00:49<00:00,  1.59s/it]\n"
     ]
    },
    {
     "name": "stdout",
     "output_type": "stream",
     "text": [
      "Training Epoch 5; Loss 0.05334707818204357; \n"
     ]
    },
    {
     "name": "stderr",
     "output_type": "stream",
     "text": [
      "100%|██████████| 11/11 [00:28<00:00,  2.55s/it]\n"
     ]
    },
    {
     "name": "stdout",
     "output_type": "stream",
     "text": [
      "curent {'政治': {'precision': 0.9146, 'recall': 0.9092, 'fscore': 0.9117, 'auc': 0.9605, 'acc': 0.9176}, '医药健康': {'precision': 0.9058, 'recall': 0.896, 'fscore': 0.8985, 'auc': 0.9698, 'acc': 0.9}, '文体娱乐': {'precision': 0.9322, 'recall': 0.9023, 'fscore': 0.9154, 'auc': 0.9843, 'acc': 0.9306}, 'auc': 0.977009119340327, 'metric': 0.9159125331313895, 'recall': 0.9130234698573401, 'precision': 0.9202702573561032, 'acc': 0.9179331306990881}\n",
      "Max {'政治': {'precision': 0.9146, 'recall': 0.9092, 'fscore': 0.9117, 'auc': 0.9605, 'acc': 0.9176}, '医药健康': {'precision': 0.9058, 'recall': 0.896, 'fscore': 0.8985, 'auc': 0.9698, 'acc': 0.9}, '文体娱乐': {'precision': 0.9322, 'recall': 0.9023, 'fscore': 0.9154, 'auc': 0.9843, 'acc': 0.9306}, 'auc': 0.977009119340327, 'metric': 0.9159125331313895, 'recall': 0.9130234698573401, 'precision': 0.9202702573561032, 'acc': 0.9179331306990881}\n"
     ]
    },
    {
     "name": "stderr",
     "output_type": "stream",
     "text": [
      "100%|██████████| 31/31 [00:46<00:00,  1.50s/it]\n"
     ]
    },
    {
     "name": "stdout",
     "output_type": "stream",
     "text": [
      "Training Epoch 6; Loss 0.039615760046628215; \n"
     ]
    },
    {
     "name": "stderr",
     "output_type": "stream",
     "text": [
      "100%|██████████| 11/11 [00:24<00:00,  2.25s/it]\n"
     ]
    },
    {
     "name": "stdout",
     "output_type": "stream",
     "text": [
      "curent {'政治': {'precision': 0.9117, 'recall': 0.8874, 'fscore': 0.897, 'auc': 0.9649, 'acc': 0.9059}, '医药健康': {'precision': 0.9244, 'recall': 0.925, 'fscore': 0.9247, 'auc': 0.9744, 'acc': 0.925}, '文体娱乐': {'precision': 0.9342, 'recall': 0.9257, 'fscore': 0.9298, 'auc': 0.9848, 'acc': 0.941}, 'auc': 0.9785963165754106, 'metric': 0.9260119940029985, 'recall': 0.9270264939846165, 'precision': 0.9251577913880966, 'acc': 0.9270516717325228}\n",
      "Max {'政治': {'precision': 0.9117, 'recall': 0.8874, 'fscore': 0.897, 'auc': 0.9649, 'acc': 0.9059}, '医药健康': {'precision': 0.9244, 'recall': 0.925, 'fscore': 0.9247, 'auc': 0.9744, 'acc': 0.925}, '文体娱乐': {'precision': 0.9342, 'recall': 0.9257, 'fscore': 0.9298, 'auc': 0.9848, 'acc': 0.941}, 'auc': 0.9785963165754106, 'metric': 0.9260119940029985, 'recall': 0.9270264939846165, 'precision': 0.9251577913880966, 'acc': 0.9270516717325228}\n"
     ]
    },
    {
     "name": "stderr",
     "output_type": "stream",
     "text": [
      "100%|██████████| 31/31 [00:51<00:00,  1.65s/it]\n"
     ]
    },
    {
     "name": "stdout",
     "output_type": "stream",
     "text": [
      "Training Epoch 7; Loss 0.025251817138444994; \n"
     ]
    },
    {
     "name": "stderr",
     "output_type": "stream",
     "text": [
      "100%|██████████| 11/11 [00:26<00:00,  2.45s/it]\n"
     ]
    },
    {
     "name": "stdout",
     "output_type": "stream",
     "text": [
      "curent {'政治': {'precision': 0.9117, 'recall': 0.8874, 'fscore': 0.897, 'auc': 0.9652, 'acc': 0.9059}, '医药健康': {'precision': 0.9293, 'recall': 0.9304, 'fscore': 0.9297, 'auc': 0.9759, 'acc': 0.93}, '文体娱乐': {'precision': 0.937, 'recall': 0.9314, 'fscore': 0.9341, 'auc': 0.9851, 'acc': 0.9444}, 'auc': 0.9789062426627347, 'metric': 0.9291459497925971, 'recall': 0.9305108145421077, 'precision': 0.9280664892375217, 'acc': 0.9300911854103343}\n",
      "Max {'政治': {'precision': 0.9117, 'recall': 0.8874, 'fscore': 0.897, 'auc': 0.9652, 'acc': 0.9059}, '医药健康': {'precision': 0.9293, 'recall': 0.9304, 'fscore': 0.9297, 'auc': 0.9759, 'acc': 0.93}, '文体娱乐': {'precision': 0.937, 'recall': 0.9314, 'fscore': 0.9341, 'auc': 0.9851, 'acc': 0.9444}, 'auc': 0.9789062426627347, 'metric': 0.9291459497925971, 'recall': 0.9305108145421077, 'precision': 0.9280664892375217, 'acc': 0.9300911854103343}\n"
     ]
    },
    {
     "name": "stderr",
     "output_type": "stream",
     "text": [
      "100%|██████████| 31/31 [00:51<00:00,  1.66s/it]\n"
     ]
    },
    {
     "name": "stdout",
     "output_type": "stream",
     "text": [
      "Training Epoch 8; Loss 0.019375426935092095; \n"
     ]
    },
    {
     "name": "stderr",
     "output_type": "stream",
     "text": [
      "100%|██████████| 11/11 [00:26<00:00,  2.43s/it]\n"
     ]
    },
    {
     "name": "stdout",
     "output_type": "stream",
     "text": [
      "curent {'政治': {'precision': 0.9117, 'recall': 0.8874, 'fscore': 0.897, 'auc': 0.9627, 'acc': 0.9059}, '医药健康': {'precision': 0.9093, 'recall': 0.9103, 'fscore': 0.9097, 'auc': 0.9732, 'acc': 0.91}, '文体娱乐': {'precision': 0.9425, 'recall': 0.9339, 'fscore': 0.938, 'auc': 0.9852, 'acc': 0.9479}, 'auc': 0.9781267315946167, 'metric': 0.9244979919678715, 'recall': 0.9256787850897377, 'precision': 0.9235347985347986, 'acc': 0.925531914893617}\n",
      "Max {'政治': {'precision': 0.9117, 'recall': 0.8874, 'fscore': 0.897, 'auc': 0.9652, 'acc': 0.9059}, '医药健康': {'precision': 0.9293, 'recall': 0.9304, 'fscore': 0.9297, 'auc': 0.9759, 'acc': 0.93}, '文体娱乐': {'precision': 0.937, 'recall': 0.9314, 'fscore': 0.9341, 'auc': 0.9851, 'acc': 0.9444}, 'auc': 0.9789062426627347, 'metric': 0.9291459497925971, 'recall': 0.9305108145421077, 'precision': 0.9280664892375217, 'acc': 0.9300911854103343}\n"
     ]
    },
    {
     "name": "stderr",
     "output_type": "stream",
     "text": [
      "100%|██████████| 31/31 [00:49<00:00,  1.59s/it]\n"
     ]
    },
    {
     "name": "stdout",
     "output_type": "stream",
     "text": [
      "Training Epoch 9; Loss 0.016262956894934177; \n"
     ]
    },
    {
     "name": "stderr",
     "output_type": "stream",
     "text": [
      "100%|██████████| 11/11 [00:24<00:00,  2.22s/it]\n"
     ]
    },
    {
     "name": "stdout",
     "output_type": "stream",
     "text": [
      "curent {'政治': {'precision': 0.9117, 'recall': 0.8874, 'fscore': 0.897, 'auc': 0.9651, 'acc': 0.9059}, '医药健康': {'precision': 0.9244, 'recall': 0.925, 'fscore': 0.9247, 'auc': 0.9725, 'acc': 0.925}, '文体娱乐': {'precision': 0.9287, 'recall': 0.9232, 'fscore': 0.9259, 'auc': 0.9856, 'acc': 0.9375}, 'auc': 0.9782394319900072, 'metric': 0.9244979919678715, 'recall': 0.9256787850897377, 'precision': 0.9235347985347986, 'acc': 0.925531914893617}\n",
      "Max {'政治': {'precision': 0.9117, 'recall': 0.8874, 'fscore': 0.897, 'auc': 0.9652, 'acc': 0.9059}, '医药健康': {'precision': 0.9293, 'recall': 0.9304, 'fscore': 0.9297, 'auc': 0.9759, 'acc': 0.93}, '文体娱乐': {'precision': 0.937, 'recall': 0.9314, 'fscore': 0.9341, 'auc': 0.9851, 'acc': 0.9444}, 'auc': 0.9789062426627347, 'metric': 0.9291459497925971, 'recall': 0.9305108145421077, 'precision': 0.9280664892375217, 'acc': 0.9300911854103343}\n"
     ]
    },
    {
     "name": "stderr",
     "output_type": "stream",
     "text": [
      "100%|██████████| 31/31 [00:47<00:00,  1.52s/it]\n"
     ]
    },
    {
     "name": "stdout",
     "output_type": "stream",
     "text": [
      "Training Epoch 10; Loss 0.012281863229169; \n"
     ]
    },
    {
     "name": "stderr",
     "output_type": "stream",
     "text": [
      "100%|██████████| 11/11 [00:24<00:00,  2.18s/it]\n"
     ]
    },
    {
     "name": "stdout",
     "output_type": "stream",
     "text": [
      "curent {'政治': {'precision': 0.9071, 'recall': 0.8796, 'fscore': 0.8901, 'auc': 0.9633, 'acc': 0.9}, '医药健康': {'precision': 0.9243, 'recall': 0.9257, 'fscore': 0.9248, 'auc': 0.9736, 'acc': 0.925}, '文体娱乐': {'precision': 0.9425, 'recall': 0.9339, 'fscore': 0.938, 'auc': 0.9853, 'acc': 0.9479}, 'auc': 0.9779764644007625, 'metric': 0.9276312248589527, 'recall': 0.9291631056472289, 'precision': 0.9264596087800507, 'acc': 0.9285714285714286}\n",
      "Max {'政治': {'precision': 0.9117, 'recall': 0.8874, 'fscore': 0.897, 'auc': 0.9652, 'acc': 0.9059}, '医药健康': {'precision': 0.9293, 'recall': 0.9304, 'fscore': 0.9297, 'auc': 0.9759, 'acc': 0.93}, '文体娱乐': {'precision': 0.937, 'recall': 0.9314, 'fscore': 0.9341, 'auc': 0.9851, 'acc': 0.9444}, 'auc': 0.9789062426627347, 'metric': 0.9291459497925971, 'recall': 0.9305108145421077, 'precision': 0.9280664892375217, 'acc': 0.9300911854103343}\n"
     ]
    },
    {
     "name": "stderr",
     "output_type": "stream",
     "text": [
      "100%|██████████| 11/11 [00:22<00:00,  2.08s/it]\n"
     ]
    },
    {
     "name": "stdout",
     "output_type": "stream",
     "text": [
      "{'政治': {'precision': 0.9095, 'recall': 0.8281, 'fscore': 0.8557, 'auc': 0.9171, 'acc': 0.8889}, '医药健康': {'precision': 0.9364, 'recall': 0.9345, 'fscore': 0.9349, 'auc': 0.9841, 'acc': 0.935}, '文体娱乐': {'precision': 0.927, 'recall': 0.9114, 'fscore': 0.9187, 'auc': 0.9768, 'acc': 0.934}, 'auc': 0.9718810780772438, 'metric': 0.9224034632034631, 'recall': 0.9238816337871631, 'precision': 0.9218888274336283, 'acc': 0.9226100151745068}\n"
     ]
    },
    {
     "name": "stderr",
     "output_type": "stream",
     "text": [
      "Some weights of the model checkpoint at hfl/chinese-bert-wwm-ext were not used when initializing BertModel: ['cls.predictions.transform.dense.bias', 'cls.seq_relationship.weight', 'cls.predictions.decoder.weight', 'cls.predictions.transform.LayerNorm.weight', 'cls.predictions.transform.LayerNorm.bias', 'cls.predictions.bias', 'cls.seq_relationship.bias', 'cls.predictions.transform.dense.weight']\n",
      "- This IS expected if you are initializing BertModel from the checkpoint of a model trained on another task or with another architecture (e.g. initializing a BertForSequenceClassification model from a BertForPreTraining model).\n",
      "- This IS NOT expected if you are initializing BertModel from the checkpoint of a model that you expect to be exactly identical (initializing a BertForSequenceClassification model from a BertForSequenceClassification model).\n",
      "100%|██████████| 31/31 [00:44<00:00,  1.45s/it]\n"
     ]
    },
    {
     "name": "stdout",
     "output_type": "stream",
     "text": [
      "Training Epoch 1; Loss 0.4868636198582187; \n"
     ]
    },
    {
     "name": "stderr",
     "output_type": "stream",
     "text": [
      "100%|██████████| 11/11 [00:22<00:00,  2.07s/it]\n"
     ]
    },
    {
     "name": "stdout",
     "output_type": "stream",
     "text": [
      "curent {'政治': {'precision': 0.8812, 'recall': 0.7765, 'fscore': 0.7958, 'auc': 0.917, 'acc': 0.8294}, '医药健康': {'precision': 0.809, 'recall': 0.7862, 'fscore': 0.7725, 'auc': 0.9311, 'acc': 0.775}, '文体娱乐': {'precision': 0.7794, 'recall': 0.8286, 'fscore': 0.7637, 'auc': 0.9593, 'acc': 0.7708}, 'auc': 0.9428796829362209, 'metric': 0.7864448586344711, 'recall': 0.8081651436460456, 'precision': 0.823221726410355, 'acc': 0.7872340425531915}\n",
      "Max {'政治': {'precision': 0.8812, 'recall': 0.7765, 'fscore': 0.7958, 'auc': 0.917, 'acc': 0.8294}, '医药健康': {'precision': 0.809, 'recall': 0.7862, 'fscore': 0.7725, 'auc': 0.9311, 'acc': 0.775}, '文体娱乐': {'precision': 0.7794, 'recall': 0.8286, 'fscore': 0.7637, 'auc': 0.9593, 'acc': 0.7708}, 'auc': 0.9428796829362209, 'metric': 0.7864448586344711, 'recall': 0.8081651436460456, 'precision': 0.823221726410355, 'acc': 0.7872340425531915}\n"
     ]
    },
    {
     "name": "stderr",
     "output_type": "stream",
     "text": [
      "100%|██████████| 31/31 [00:44<00:00,  1.43s/it]\n"
     ]
    },
    {
     "name": "stdout",
     "output_type": "stream",
     "text": [
      "Training Epoch 2; Loss 0.27234069666554844; \n"
     ]
    },
    {
     "name": "stderr",
     "output_type": "stream",
     "text": [
      "100%|██████████| 11/11 [00:22<00:00,  2.05s/it]\n"
     ]
    },
    {
     "name": "stdout",
     "output_type": "stream",
     "text": [
      "curent {'政治': {'precision': 0.8807, 'recall': 0.8327, 'fscore': 0.8476, 'auc': 0.9469, 'acc': 0.8647}, '医药健康': {'precision': 0.8859, 'recall': 0.8876, 'fscore': 0.8849, 'auc': 0.9582, 'acc': 0.885}, '文体娱乐': {'precision': 0.8823, 'recall': 0.9102, 'fscore': 0.8937, 'auc': 0.9728, 'acc': 0.9062}, 'auc': 0.965250711421246, 'metric': 0.8884888161483906, 'recall': 0.8945171257642495, 'precision': 0.8881773490056923, 'acc': 0.8890577507598785}\n",
      "Max {'政治': {'precision': 0.8807, 'recall': 0.8327, 'fscore': 0.8476, 'auc': 0.9469, 'acc': 0.8647}, '医药健康': {'precision': 0.8859, 'recall': 0.8876, 'fscore': 0.8849, 'auc': 0.9582, 'acc': 0.885}, '文体娱乐': {'precision': 0.8823, 'recall': 0.9102, 'fscore': 0.8937, 'auc': 0.9728, 'acc': 0.9062}, 'auc': 0.965250711421246, 'metric': 0.8884888161483906, 'recall': 0.8945171257642495, 'precision': 0.8881773490056923, 'acc': 0.8890577507598785}\n"
     ]
    },
    {
     "name": "stderr",
     "output_type": "stream",
     "text": [
      "100%|██████████| 31/31 [00:47<00:00,  1.53s/it]\n"
     ]
    },
    {
     "name": "stdout",
     "output_type": "stream",
     "text": [
      "Training Epoch 3; Loss 0.16150168545784488; \n"
     ]
    },
    {
     "name": "stderr",
     "output_type": "stream",
     "text": [
      "100%|██████████| 11/11 [00:23<00:00,  2.10s/it]\n"
     ]
    },
    {
     "name": "stdout",
     "output_type": "stream",
     "text": [
      "curent {'政治': {'precision': 0.8807, 'recall': 0.8327, 'fscore': 0.8476, 'auc': 0.9484, 'acc': 0.8647}, '医药健康': {'precision': 0.8814, 'recall': 0.8829, 'fscore': 0.88, 'auc': 0.9701, 'acc': 0.88}, '文体娱乐': {'precision': 0.9112, 'recall': 0.9189, 'fscore': 0.9149, 'auc': 0.9791, 'acc': 0.9271}, 'auc': 0.9712238323769452, 'metric': 0.8959025470653377, 'recall': 0.9004667674709093, 'precision': 0.8946550048590864, 'acc': 0.8966565349544073}\n",
      "Max {'政治': {'precision': 0.8807, 'recall': 0.8327, 'fscore': 0.8476, 'auc': 0.9484, 'acc': 0.8647}, '医药健康': {'precision': 0.8814, 'recall': 0.8829, 'fscore': 0.88, 'auc': 0.9701, 'acc': 0.88}, '文体娱乐': {'precision': 0.9112, 'recall': 0.9189, 'fscore': 0.9149, 'auc': 0.9791, 'acc': 0.9271}, 'auc': 0.9712238323769452, 'metric': 0.8959025470653377, 'recall': 0.9004667674709093, 'precision': 0.8946550048590864, 'acc': 0.8966565349544073}\n"
     ]
    },
    {
     "name": "stderr",
     "output_type": "stream",
     "text": [
      "100%|██████████| 31/31 [00:45<00:00,  1.46s/it]\n"
     ]
    },
    {
     "name": "stdout",
     "output_type": "stream",
     "text": [
      "Training Epoch 4; Loss 0.09835075490897702; \n"
     ]
    },
    {
     "name": "stderr",
     "output_type": "stream",
     "text": [
      "100%|██████████| 11/11 [00:23<00:00,  2.11s/it]\n"
     ]
    },
    {
     "name": "stdout",
     "output_type": "stream",
     "text": [
      "curent {'政治': {'precision': 0.8983, 'recall': 0.8749, 'fscore': 0.8841, 'auc': 0.9542, 'acc': 0.8941}, '医药健康': {'precision': 0.9096, 'recall': 0.9096, 'fscore': 0.9096, 'auc': 0.969, 'acc': 0.91}, '文体娱乐': {'precision': 0.9193, 'recall': 0.927, 'fscore': 0.923, 'auc': 0.9808, 'acc': 0.934}, 'auc': 0.9741634343567156, 'metric': 0.9153717539490454, 'recall': 0.9171980803365984, 'precision': 0.9140753169276659, 'acc': 0.9164133738601824}\n",
      "Max {'政治': {'precision': 0.8983, 'recall': 0.8749, 'fscore': 0.8841, 'auc': 0.9542, 'acc': 0.8941}, '医药健康': {'precision': 0.9096, 'recall': 0.9096, 'fscore': 0.9096, 'auc': 0.969, 'acc': 0.91}, '文体娱乐': {'precision': 0.9193, 'recall': 0.927, 'fscore': 0.923, 'auc': 0.9808, 'acc': 0.934}, 'auc': 0.9741634343567156, 'metric': 0.9153717539490454, 'recall': 0.9171980803365984, 'precision': 0.9140753169276659, 'acc': 0.9164133738601824}\n"
     ]
    },
    {
     "name": "stderr",
     "output_type": "stream",
     "text": [
      "100%|██████████| 31/31 [00:44<00:00,  1.45s/it]\n"
     ]
    },
    {
     "name": "stdout",
     "output_type": "stream",
     "text": [
      "Training Epoch 5; Loss 0.056839765800583746; \n"
     ]
    },
    {
     "name": "stderr",
     "output_type": "stream",
     "text": [
      "100%|██████████| 11/11 [00:22<00:00,  2.06s/it]\n"
     ]
    },
    {
     "name": "stdout",
     "output_type": "stream",
     "text": [
      "curent {'政治': {'precision': 0.9095, 'recall': 0.9014, 'fscore': 0.9051, 'auc': 0.955, 'acc': 0.9118}, '医药健康': {'precision': 0.9017, 'recall': 0.8906, 'fscore': 0.8933, 'auc': 0.968, 'acc': 0.895}, '文体娱乐': {'precision': 0.9342, 'recall': 0.9257, 'fscore': 0.9298, 'auc': 0.9825, 'acc': 0.941}, 'auc': 0.9749335537252176, 'metric': 0.9177381651605538, 'recall': 0.9159489842876866, 'precision': 0.9200717049852037, 'acc': 0.9194528875379939}\n",
      "Max {'政治': {'precision': 0.9095, 'recall': 0.9014, 'fscore': 0.9051, 'auc': 0.955, 'acc': 0.9118}, '医药健康': {'precision': 0.9017, 'recall': 0.8906, 'fscore': 0.8933, 'auc': 0.968, 'acc': 0.895}, '文体娱乐': {'precision': 0.9342, 'recall': 0.9257, 'fscore': 0.9298, 'auc': 0.9825, 'acc': 0.941}, 'auc': 0.9749335537252176, 'metric': 0.9177381651605538, 'recall': 0.9159489842876866, 'precision': 0.9200717049852037, 'acc': 0.9194528875379939}\n"
     ]
    },
    {
     "name": "stderr",
     "output_type": "stream",
     "text": [
      "100%|██████████| 31/31 [00:44<00:00,  1.44s/it]\n"
     ]
    },
    {
     "name": "stdout",
     "output_type": "stream",
     "text": [
      "Training Epoch 6; Loss 0.03617016868966241; \n"
     ]
    },
    {
     "name": "stderr",
     "output_type": "stream",
     "text": [
      "100%|██████████| 11/11 [00:22<00:00,  2.03s/it]\n"
     ]
    },
    {
     "name": "stdout",
     "output_type": "stream",
     "text": [
      "curent {'政治': {'precision': 0.903, 'recall': 0.8827, 'fscore': 0.8909, 'auc': 0.9581, 'acc': 0.9}, '医药健康': {'precision': 0.9144, 'recall': 0.9149, 'fscore': 0.9146, 'auc': 0.971, 'acc': 0.915}, '文体娱乐': {'precision': 0.9096, 'recall': 0.922, 'fscore': 0.9154, 'auc': 0.9831, 'acc': 0.9271}, 'auc': 0.9764644007626061, 'metric': 0.9154287103053588, 'recall': 0.9175925317204654, 'precision': 0.9140037243947858, 'acc': 0.9164133738601824}\n",
      "Max {'政治': {'precision': 0.9095, 'recall': 0.9014, 'fscore': 0.9051, 'auc': 0.955, 'acc': 0.9118}, '医药健康': {'precision': 0.9017, 'recall': 0.8906, 'fscore': 0.8933, 'auc': 0.968, 'acc': 0.895}, '文体娱乐': {'precision': 0.9342, 'recall': 0.9257, 'fscore': 0.9298, 'auc': 0.9825, 'acc': 0.941}, 'auc': 0.9749335537252176, 'metric': 0.9177381651605538, 'recall': 0.9159489842876866, 'precision': 0.9200717049852037, 'acc': 0.9194528875379939}\n"
     ]
    },
    {
     "name": "stderr",
     "output_type": "stream",
     "text": [
      "100%|██████████| 31/31 [00:44<00:00,  1.43s/it]\n"
     ]
    },
    {
     "name": "stdout",
     "output_type": "stream",
     "text": [
      "Training Epoch 7; Loss 0.027601124538529302; \n"
     ]
    },
    {
     "name": "stderr",
     "output_type": "stream",
     "text": [
      "100%|██████████| 11/11 [00:23<00:00,  2.11s/it]\n"
     ]
    },
    {
     "name": "stdout",
     "output_type": "stream",
     "text": [
      "curent {'政治': {'precision': 0.9076, 'recall': 0.8687, 'fscore': 0.8822, 'auc': 0.9577, 'acc': 0.8941}, '医药健康': {'precision': 0.905, 'recall': 0.907, 'fscore': 0.9049, 'auc': 0.9724, 'acc': 0.905}, '文体娱乐': {'precision': 0.9242, 'recall': 0.9295, 'fscore': 0.9268, 'auc': 0.984, 'acc': 0.9375}, 'auc': 0.977018511039943, 'metric': 0.9156400424247368, 'recall': 0.9191703372559332, 'precision': 0.914025974025974, 'acc': 0.9164133738601824}\n",
      "Max {'政治': {'precision': 0.9095, 'recall': 0.9014, 'fscore': 0.9051, 'auc': 0.955, 'acc': 0.9118}, '医药健康': {'precision': 0.9017, 'recall': 0.8906, 'fscore': 0.8933, 'auc': 0.968, 'acc': 0.895}, '文体娱乐': {'precision': 0.9342, 'recall': 0.9257, 'fscore': 0.9298, 'auc': 0.9825, 'acc': 0.941}, 'auc': 0.9749335537252176, 'metric': 0.9177381651605538, 'recall': 0.9159489842876866, 'precision': 0.9200717049852037, 'acc': 0.9194528875379939}\n"
     ]
    },
    {
     "name": "stderr",
     "output_type": "stream",
     "text": [
      "100%|██████████| 31/31 [00:44<00:00,  1.45s/it]\n"
     ]
    },
    {
     "name": "stdout",
     "output_type": "stream",
     "text": [
      "Training Epoch 8; Loss 0.01993403109090943; \n"
     ]
    },
    {
     "name": "stderr",
     "output_type": "stream",
     "text": [
      "100%|██████████| 11/11 [00:24<00:00,  2.24s/it]\n"
     ]
    },
    {
     "name": "stdout",
     "output_type": "stream",
     "text": [
      "curent {'政治': {'precision': 0.903, 'recall': 0.8827, 'fscore': 0.8909, 'auc': 0.957, 'acc': 0.9}, '医药健康': {'precision': 0.9297, 'recall': 0.9297, 'fscore': 0.9297, 'auc': 0.9738, 'acc': 0.93}, '文体娱乐': {'precision': 0.9342, 'recall': 0.9257, 'fscore': 0.9298, 'auc': 0.9832, 'acc': 0.941}, 'auc': 0.9765958845572283, 'metric': 0.925957183447267, 'recall': 0.9266320426007495, 'precision': 0.925353708437503, 'acc': 0.9270516717325228}\n",
      "Max {'政治': {'precision': 0.903, 'recall': 0.8827, 'fscore': 0.8909, 'auc': 0.957, 'acc': 0.9}, '医药健康': {'precision': 0.9297, 'recall': 0.9297, 'fscore': 0.9297, 'auc': 0.9738, 'acc': 0.93}, '文体娱乐': {'precision': 0.9342, 'recall': 0.9257, 'fscore': 0.9298, 'auc': 0.9832, 'acc': 0.941}, 'auc': 0.9765958845572283, 'metric': 0.925957183447267, 'recall': 0.9266320426007495, 'precision': 0.925353708437503, 'acc': 0.9270516717325228}\n"
     ]
    },
    {
     "name": "stderr",
     "output_type": "stream",
     "text": [
      "100%|██████████| 31/31 [00:48<00:00,  1.57s/it]\n"
     ]
    },
    {
     "name": "stdout",
     "output_type": "stream",
     "text": [
      "Training Epoch 9; Loss 0.01697943185365969; \n"
     ]
    },
    {
     "name": "stderr",
     "output_type": "stream",
     "text": [
      "100%|██████████| 11/11 [00:23<00:00,  2.17s/it]\n"
     ]
    },
    {
     "name": "stdout",
     "output_type": "stream",
     "text": [
      "curent {'政治': {'precision': 0.9078, 'recall': 0.8905, 'fscore': 0.8977, 'auc': 0.9568, 'acc': 0.9059}, '医药健康': {'precision': 0.9168, 'recall': 0.9128, 'fscore': 0.9142, 'auc': 0.9723, 'acc': 0.915}, '文体娱乐': {'precision': 0.9293, 'recall': 0.932, 'fscore': 0.9307, 'auc': 0.9844, 'acc': 0.941}, 'auc': 0.9765301426599171, 'metric': 0.9228134384384384, 'recall': 0.9231477220432582, 'precision': 0.9224969758348103, 'acc': 0.9240121580547113}\n",
      "Max {'政治': {'precision': 0.903, 'recall': 0.8827, 'fscore': 0.8909, 'auc': 0.957, 'acc': 0.9}, '医药健康': {'precision': 0.9297, 'recall': 0.9297, 'fscore': 0.9297, 'auc': 0.9738, 'acc': 0.93}, '文体娱乐': {'precision': 0.9342, 'recall': 0.9257, 'fscore': 0.9298, 'auc': 0.9832, 'acc': 0.941}, 'auc': 0.9765958845572283, 'metric': 0.925957183447267, 'recall': 0.9266320426007495, 'precision': 0.925353708437503, 'acc': 0.9270516717325228}\n"
     ]
    },
    {
     "name": "stderr",
     "output_type": "stream",
     "text": [
      "100%|██████████| 31/31 [00:45<00:00,  1.45s/it]\n"
     ]
    },
    {
     "name": "stdout",
     "output_type": "stream",
     "text": [
      "Training Epoch 10; Loss 0.013839684066272551; \n"
     ]
    },
    {
     "name": "stderr",
     "output_type": "stream",
     "text": [
      "100%|██████████| 11/11 [00:22<00:00,  2.05s/it]\n"
     ]
    },
    {
     "name": "stdout",
     "output_type": "stream",
     "text": [
      "curent {'政治': {'precision': 0.9076, 'recall': 0.8687, 'fscore': 0.8822, 'auc': 0.9583, 'acc': 0.8941}, '医药健康': {'precision': 0.9193, 'recall': 0.921, 'fscore': 0.9198, 'auc': 0.9736, 'acc': 0.92}, '文体娱乐': {'precision': 0.9224, 'recall': 0.9327, 'fscore': 0.9273, 'auc': 0.9829, 'acc': 0.9375}, 'auc': 0.9764831841618378, 'metric': 0.9202178758965462, 'recall': 0.9236079153244363, 'precision': 0.9185760553838729, 'acc': 0.9209726443768997}\n",
      "Max {'政治': {'precision': 0.903, 'recall': 0.8827, 'fscore': 0.8909, 'auc': 0.957, 'acc': 0.9}, '医药健康': {'precision': 0.9297, 'recall': 0.9297, 'fscore': 0.9297, 'auc': 0.9738, 'acc': 0.93}, '文体娱乐': {'precision': 0.9342, 'recall': 0.9257, 'fscore': 0.9298, 'auc': 0.9832, 'acc': 0.941}, 'auc': 0.9765958845572283, 'metric': 0.925957183447267, 'recall': 0.9266320426007495, 'precision': 0.925353708437503, 'acc': 0.9270516717325228}\n"
     ]
    },
    {
     "name": "stderr",
     "output_type": "stream",
     "text": [
      "100%|██████████| 31/31 [00:46<00:00,  1.49s/it]\n"
     ]
    },
    {
     "name": "stdout",
     "output_type": "stream",
     "text": [
      "Training Epoch 11; Loss 0.012343146898333103; \n"
     ]
    },
    {
     "name": "stderr",
     "output_type": "stream",
     "text": [
      "100%|██████████| 11/11 [00:28<00:00,  2.58s/it]\n"
     ]
    },
    {
     "name": "stdout",
     "output_type": "stream",
     "text": [
      "curent {'政治': {'precision': 0.8937, 'recall': 0.867, 'fscore': 0.8772, 'auc': 0.9568, 'acc': 0.8882}, '医药健康': {'precision': 0.9293, 'recall': 0.9304, 'fscore': 0.9297, 'auc': 0.9751, 'acc': 0.93}, '文体娱乐': {'precision': 0.9399, 'recall': 0.937, 'fscore': 0.9384, 'auc': 0.9849, 'acc': 0.9479}, 'auc': 0.9777041051119021, 'metric': 0.9261172243431395, 'recall': 0.9278153967523503, 'precision': 0.9248626617047669, 'acc': 0.9270516717325228}\n",
      "Max {'政治': {'precision': 0.8937, 'recall': 0.867, 'fscore': 0.8772, 'auc': 0.9568, 'acc': 0.8882}, '医药健康': {'precision': 0.9293, 'recall': 0.9304, 'fscore': 0.9297, 'auc': 0.9751, 'acc': 0.93}, '文体娱乐': {'precision': 0.9399, 'recall': 0.937, 'fscore': 0.9384, 'auc': 0.9849, 'acc': 0.9479}, 'auc': 0.9777041051119021, 'metric': 0.9261172243431395, 'recall': 0.9278153967523503, 'precision': 0.9248626617047669, 'acc': 0.9270516717325228}\n"
     ]
    },
    {
     "name": "stderr",
     "output_type": "stream",
     "text": [
      "100%|██████████| 31/31 [00:47<00:00,  1.53s/it]\n"
     ]
    },
    {
     "name": "stdout",
     "output_type": "stream",
     "text": [
      "Training Epoch 12; Loss 0.010193953726200326; \n"
     ]
    },
    {
     "name": "stderr",
     "output_type": "stream",
     "text": [
      "100%|██████████| 11/11 [00:23<00:00,  2.14s/it]\n"
     ]
    },
    {
     "name": "stdout",
     "output_type": "stream",
     "text": [
      "curent {'政治': {'precision': 0.8983, 'recall': 0.8749, 'fscore': 0.8841, 'auc': 0.9595, 'acc': 0.8941}, '医药健康': {'precision': 0.9243, 'recall': 0.9257, 'fscore': 0.9248, 'auc': 0.9726, 'acc': 0.925}, '文体娱乐': {'precision': 0.9293, 'recall': 0.932, 'fscore': 0.9307, 'auc': 0.9846, 'acc': 0.941}, 'auc': 0.9773847873249621, 'metric': 0.9230913086165786, 'recall': 0.9251199789625928, 'precision': 0.9216981395738814, 'acc': 0.9240121580547113}\n",
      "Max {'政治': {'precision': 0.8937, 'recall': 0.867, 'fscore': 0.8772, 'auc': 0.9568, 'acc': 0.8882}, '医药健康': {'precision': 0.9293, 'recall': 0.9304, 'fscore': 0.9297, 'auc': 0.9751, 'acc': 0.93}, '文体娱乐': {'precision': 0.9399, 'recall': 0.937, 'fscore': 0.9384, 'auc': 0.9849, 'acc': 0.9479}, 'auc': 0.9777041051119021, 'metric': 0.9261172243431395, 'recall': 0.9278153967523503, 'precision': 0.9248626617047669, 'acc': 0.9270516717325228}\n"
     ]
    },
    {
     "name": "stderr",
     "output_type": "stream",
     "text": [
      "100%|██████████| 31/31 [00:46<00:00,  1.49s/it]\n"
     ]
    },
    {
     "name": "stdout",
     "output_type": "stream",
     "text": [
      "Training Epoch 13; Loss 0.008922946819614983; \n"
     ]
    },
    {
     "name": "stderr",
     "output_type": "stream",
     "text": [
      "100%|██████████| 11/11 [00:23<00:00,  2.15s/it]\n"
     ]
    },
    {
     "name": "stdout",
     "output_type": "stream",
     "text": [
      "curent {'政治': {'precision': 0.9117, 'recall': 0.8874, 'fscore': 0.897, 'auc': 0.9592, 'acc': 0.9059}, '医药健康': {'precision': 0.9249, 'recall': 0.9243, 'fscore': 0.9246, 'auc': 0.9723, 'acc': 0.925}, '文体娱乐': {'precision': 0.9242, 'recall': 0.9295, 'fscore': 0.9268, 'auc': 0.9843, 'acc': 0.9375}, 'auc': 0.9771593865341811, 'metric': 0.9245517025125252, 'recall': 0.9260732364736046, 'precision': 0.9233892041212484, 'acc': 0.925531914893617}\n",
      "Max {'政治': {'precision': 0.8937, 'recall': 0.867, 'fscore': 0.8772, 'auc': 0.9568, 'acc': 0.8882}, '医药健康': {'precision': 0.9293, 'recall': 0.9304, 'fscore': 0.9297, 'auc': 0.9751, 'acc': 0.93}, '文体娱乐': {'precision': 0.9399, 'recall': 0.937, 'fscore': 0.9384, 'auc': 0.9849, 'acc': 0.9479}, 'auc': 0.9777041051119021, 'metric': 0.9261172243431395, 'recall': 0.9278153967523503, 'precision': 0.9248626617047669, 'acc': 0.9270516717325228}\n"
     ]
    },
    {
     "name": "stderr",
     "output_type": "stream",
     "text": [
      "100%|██████████| 31/31 [00:43<00:00,  1.42s/it]\n"
     ]
    },
    {
     "name": "stdout",
     "output_type": "stream",
     "text": [
      "Training Epoch 14; Loss 0.007231915129288551; \n"
     ]
    },
    {
     "name": "stderr",
     "output_type": "stream",
     "text": [
      "100%|██████████| 11/11 [00:22<00:00,  2.05s/it]\n"
     ]
    },
    {
     "name": "stdout",
     "output_type": "stream",
     "text": [
      "curent {'政治': {'precision': 0.9206, 'recall': 0.8921, 'fscore': 0.903, 'auc': 0.9606, 'acc': 0.9118}, '医药健康': {'precision': 0.9293, 'recall': 0.9304, 'fscore': 0.9297, 'auc': 0.9757, 'acc': 0.93}, '文体娱乐': {'precision': 0.9293, 'recall': 0.932, 'fscore': 0.9307, 'auc': 0.9838, 'acc': 0.941}, 'auc': 0.9779013308038356, 'metric': 0.9292440039272523, 'recall': 0.9312997173098416, 'precision': 0.9278281364995669, 'acc': 0.9300911854103343}\n",
      "Max {'政治': {'precision': 0.9206, 'recall': 0.8921, 'fscore': 0.903, 'auc': 0.9606, 'acc': 0.9118}, '医药健康': {'precision': 0.9293, 'recall': 0.9304, 'fscore': 0.9297, 'auc': 0.9757, 'acc': 0.93}, '文体娱乐': {'precision': 0.9293, 'recall': 0.932, 'fscore': 0.9307, 'auc': 0.9838, 'acc': 0.941}, 'auc': 0.9779013308038356, 'metric': 0.9292440039272523, 'recall': 0.9312997173098416, 'precision': 0.9278281364995669, 'acc': 0.9300911854103343}\n"
     ]
    },
    {
     "name": "stderr",
     "output_type": "stream",
     "text": [
      "100%|██████████| 31/31 [00:46<00:00,  1.49s/it]\n"
     ]
    },
    {
     "name": "stdout",
     "output_type": "stream",
     "text": [
      "Training Epoch 15; Loss 0.007068534907434256; \n"
     ]
    },
    {
     "name": "stderr",
     "output_type": "stream",
     "text": [
      "100%|██████████| 11/11 [00:24<00:00,  2.19s/it]\n"
     ]
    },
    {
     "name": "stdout",
     "output_type": "stream",
     "text": [
      "curent {'政治': {'precision': 0.9076, 'recall': 0.8687, 'fscore': 0.8822, 'auc': 0.9608, 'acc': 0.8941}, '医药健康': {'precision': 0.905, 'recall': 0.907, 'fscore': 0.9049, 'auc': 0.975, 'acc': 0.905}, '文体娱乐': {'precision': 0.9293, 'recall': 0.932, 'fscore': 0.9307, 'auc': 0.9841, 'acc': 0.941}, 'auc': 0.978023422898842, 'metric': 0.9171493326617981, 'recall': 0.920518046150812, 'precision': 0.9155228894642575, 'acc': 0.9179331306990881}\n",
      "Max {'政治': {'precision': 0.9206, 'recall': 0.8921, 'fscore': 0.903, 'auc': 0.9606, 'acc': 0.9118}, '医药健康': {'precision': 0.9293, 'recall': 0.9304, 'fscore': 0.9297, 'auc': 0.9757, 'acc': 0.93}, '文体娱乐': {'precision': 0.9293, 'recall': 0.932, 'fscore': 0.9307, 'auc': 0.9838, 'acc': 0.941}, 'auc': 0.9779013308038356, 'metric': 0.9292440039272523, 'recall': 0.9312997173098416, 'precision': 0.9278281364995669, 'acc': 0.9300911854103343}\n"
     ]
    },
    {
     "name": "stderr",
     "output_type": "stream",
     "text": [
      "100%|██████████| 31/31 [00:45<00:00,  1.48s/it]\n"
     ]
    },
    {
     "name": "stdout",
     "output_type": "stream",
     "text": [
      "Training Epoch 16; Loss 0.006083047453073725; \n"
     ]
    },
    {
     "name": "stderr",
     "output_type": "stream",
     "text": [
      "100%|██████████| 11/11 [00:25<00:00,  2.27s/it]\n"
     ]
    },
    {
     "name": "stdout",
     "output_type": "stream",
     "text": [
      "curent {'政治': {'precision': 0.9071, 'recall': 0.8796, 'fscore': 0.8901, 'auc': 0.9603, 'acc': 0.9}, '医药健康': {'precision': 0.9193, 'recall': 0.9203, 'fscore': 0.9197, 'auc': 0.9742, 'acc': 0.92}, '文体娱乐': {'precision': 0.9399, 'recall': 0.937, 'fscore': 0.9384, 'auc': 0.9845, 'acc': 0.9479}, 'auc': 0.977788630408445, 'metric': 0.9261172243431395, 'recall': 0.9278153967523503, 'precision': 0.9248626617047669, 'acc': 0.9270516717325228}\n",
      "Max {'政治': {'precision': 0.9206, 'recall': 0.8921, 'fscore': 0.903, 'auc': 0.9606, 'acc': 0.9118}, '医药健康': {'precision': 0.9293, 'recall': 0.9304, 'fscore': 0.9297, 'auc': 0.9757, 'acc': 0.93}, '文体娱乐': {'precision': 0.9293, 'recall': 0.932, 'fscore': 0.9307, 'auc': 0.9838, 'acc': 0.941}, 'auc': 0.9779013308038356, 'metric': 0.9292440039272523, 'recall': 0.9312997173098416, 'precision': 0.9278281364995669, 'acc': 0.9300911854103343}\n"
     ]
    },
    {
     "name": "stderr",
     "output_type": "stream",
     "text": [
      "100%|██████████| 31/31 [00:47<00:00,  1.54s/it]\n"
     ]
    },
    {
     "name": "stdout",
     "output_type": "stream",
     "text": [
      "Training Epoch 17; Loss 0.006474256139969633; \n"
     ]
    },
    {
     "name": "stderr",
     "output_type": "stream",
     "text": [
      "100%|██████████| 11/11 [00:24<00:00,  2.25s/it]\n"
     ]
    },
    {
     "name": "stdout",
     "output_type": "stream",
     "text": [
      "curent {'政治': {'precision': 0.9071, 'recall': 0.8796, 'fscore': 0.8901, 'auc': 0.9599, 'acc': 0.9}, '医药健康': {'precision': 0.9314, 'recall': 0.9282, 'fscore': 0.9294, 'auc': 0.9753, 'acc': 0.93}, '文体娱乐': {'precision': 0.937, 'recall': 0.9314, 'fscore': 0.9341, 'auc': 0.9848, 'acc': 0.9444}, 'auc': 0.9782676070888549, 'metric': 0.9274723676897207, 'recall': 0.9279797514956282, 'precision': 0.9270052473763118, 'acc': 0.9285714285714286}\n",
      "Max {'政治': {'precision': 0.9206, 'recall': 0.8921, 'fscore': 0.903, 'auc': 0.9606, 'acc': 0.9118}, '医药健康': {'precision': 0.9293, 'recall': 0.9304, 'fscore': 0.9297, 'auc': 0.9757, 'acc': 0.93}, '文体娱乐': {'precision': 0.9293, 'recall': 0.932, 'fscore': 0.9307, 'auc': 0.9838, 'acc': 0.941}, 'auc': 0.9779013308038356, 'metric': 0.9292440039272523, 'recall': 0.9312997173098416, 'precision': 0.9278281364995669, 'acc': 0.9300911854103343}\n"
     ]
    },
    {
     "name": "stderr",
     "output_type": "stream",
     "text": [
      "100%|██████████| 11/11 [00:25<00:00,  2.30s/it]\n"
     ]
    },
    {
     "name": "stdout",
     "output_type": "stream",
     "text": [
      "{'政治': {'precision': 0.9052, 'recall': 0.8432, 'fscore': 0.8662, 'auc': 0.9208, 'acc': 0.8947}, '医药健康': {'precision': 0.9465, 'recall': 0.9445, 'fscore': 0.9449, 'auc': 0.9865, 'acc': 0.945}, '文体娱乐': {'precision': 0.919, 'recall': 0.9219, 'fscore': 0.9204, 'auc': 0.9806, 'acc': 0.934}, 'auc': 0.9748448643141614, 'metric': 0.9270008307947937, 'recall': 0.9287996665740483, 'precision': 0.9265949800973021, 'acc': 0.9271623672230652}\n"
     ]
    },
    {
     "name": "stderr",
     "output_type": "stream",
     "text": [
      "Some weights of the model checkpoint at hfl/chinese-bert-wwm-ext were not used when initializing BertModel: ['cls.predictions.transform.dense.bias', 'cls.seq_relationship.weight', 'cls.predictions.decoder.weight', 'cls.predictions.transform.LayerNorm.weight', 'cls.predictions.transform.LayerNorm.bias', 'cls.predictions.bias', 'cls.seq_relationship.bias', 'cls.predictions.transform.dense.weight']\n",
      "- This IS expected if you are initializing BertModel from the checkpoint of a model trained on another task or with another architecture (e.g. initializing a BertForSequenceClassification model from a BertForPreTraining model).\n",
      "- This IS NOT expected if you are initializing BertModel from the checkpoint of a model that you expect to be exactly identical (initializing a BertForSequenceClassification model from a BertForSequenceClassification model).\n",
      "100%|██████████| 31/31 [00:46<00:00,  1.51s/it]\n"
     ]
    },
    {
     "name": "stdout",
     "output_type": "stream",
     "text": [
      "Training Epoch 1; Loss 0.4637400440631374; \n"
     ]
    },
    {
     "name": "stderr",
     "output_type": "stream",
     "text": [
      "100%|██████████| 11/11 [00:25<00:00,  2.36s/it]\n"
     ]
    },
    {
     "name": "stdout",
     "output_type": "stream",
     "text": [
      "curent {'政治': {'precision': 0.8423, 'recall': 0.7624, 'fscore': 0.7784, 'auc': 0.9166, 'acc': 0.8118}, '医药健康': {'precision': 0.8116, 'recall': 0.81, 'fscore': 0.805, 'auc': 0.931, 'acc': 0.805}, '文体娱乐': {'precision': 0.8646, 'recall': 0.8818, 'fscore': 0.8722, 'auc': 0.9607, 'acc': 0.8889}, 'auc': 0.9439221615935836, 'metric': 0.8430208992006745, 'recall': 0.850535796463086, 'precision': 0.8449792960662525, 'acc': 0.8434650455927052}\n",
      "Max {'政治': {'precision': 0.8423, 'recall': 0.7624, 'fscore': 0.7784, 'auc': 0.9166, 'acc': 0.8118}, '医药健康': {'precision': 0.8116, 'recall': 0.81, 'fscore': 0.805, 'auc': 0.931, 'acc': 0.805}, '文体娱乐': {'precision': 0.8646, 'recall': 0.8818, 'fscore': 0.8722, 'auc': 0.9607, 'acc': 0.8889}, 'auc': 0.9439221615935836, 'metric': 0.8430208992006745, 'recall': 0.850535796463086, 'precision': 0.8449792960662525, 'acc': 0.8434650455927052}\n"
     ]
    },
    {
     "name": "stderr",
     "output_type": "stream",
     "text": [
      "100%|██████████| 31/31 [00:44<00:00,  1.44s/it]\n"
     ]
    },
    {
     "name": "stdout",
     "output_type": "stream",
     "text": [
      "Training Epoch 2; Loss 0.25191977812397864; \n"
     ]
    },
    {
     "name": "stderr",
     "output_type": "stream",
     "text": [
      "100%|██████████| 11/11 [00:23<00:00,  2.12s/it]\n"
     ]
    },
    {
     "name": "stdout",
     "output_type": "stream",
     "text": [
      "curent {'政治': {'precision': 0.8982, 'recall': 0.8639, 'fscore': 0.8762, 'auc': 0.9441, 'acc': 0.8882}, '医药健康': {'precision': 0.8864, 'recall': 0.8827, 'fscore': 0.884, 'auc': 0.956, 'acc': 0.885}, '文体娱乐': {'precision': 0.9115, 'recall': 0.8891, 'fscore': 0.8992, 'auc': 0.9742, 'acc': 0.9167}, 'auc': 0.9636729058857781, 'metric': 0.8979528535980148, 'recall': 0.8976398658865294, 'precision': 0.8982832416161046, 'acc': 0.8996960486322189}\n",
      "Max {'政治': {'precision': 0.8982, 'recall': 0.8639, 'fscore': 0.8762, 'auc': 0.9441, 'acc': 0.8882}, '医药健康': {'precision': 0.8864, 'recall': 0.8827, 'fscore': 0.884, 'auc': 0.956, 'acc': 0.885}, '文体娱乐': {'precision': 0.9115, 'recall': 0.8891, 'fscore': 0.8992, 'auc': 0.9742, 'acc': 0.9167}, 'auc': 0.9636729058857781, 'metric': 0.8979528535980148, 'recall': 0.8976398658865294, 'precision': 0.8982832416161046, 'acc': 0.8996960486322189}\n"
     ]
    },
    {
     "name": "stderr",
     "output_type": "stream",
     "text": [
      "100%|██████████| 31/31 [00:47<00:00,  1.52s/it]\n"
     ]
    },
    {
     "name": "stdout",
     "output_type": "stream",
     "text": [
      "Training Epoch 3; Loss 0.15746983717526158; \n"
     ]
    },
    {
     "name": "stderr",
     "output_type": "stream",
     "text": [
      "100%|██████████| 11/11 [00:23<00:00,  2.15s/it]\n"
     ]
    },
    {
     "name": "stdout",
     "output_type": "stream",
     "text": [
      "curent {'政治': {'precision': 0.8845, 'recall': 0.8514, 'fscore': 0.8632, 'auc': 0.9508, 'acc': 0.8765}, '医药健康': {'precision': 0.8797, 'recall': 0.8815, 'fscore': 0.8798, 'auc': 0.9626, 'acc': 0.88}, '文体娱乐': {'precision': 0.9096, 'recall': 0.922, 'fscore': 0.9154, 'auc': 0.9824, 'acc': 0.9271}, 'auc': 0.971092348582323, 'metric': 0.8987975391498881, 'recall': 0.9023732824929327, 'precision': 0.89728396435493, 'acc': 0.8996960486322189}\n",
      "Max {'政治': {'precision': 0.8845, 'recall': 0.8514, 'fscore': 0.8632, 'auc': 0.9508, 'acc': 0.8765}, '医药健康': {'precision': 0.8797, 'recall': 0.8815, 'fscore': 0.8798, 'auc': 0.9626, 'acc': 0.88}, '文体娱乐': {'precision': 0.9096, 'recall': 0.922, 'fscore': 0.9154, 'auc': 0.9824, 'acc': 0.9271}, 'auc': 0.971092348582323, 'metric': 0.8987975391498881, 'recall': 0.9023732824929327, 'precision': 0.89728396435493, 'acc': 0.8996960486322189}\n"
     ]
    },
    {
     "name": "stderr",
     "output_type": "stream",
     "text": [
      "100%|██████████| 31/31 [00:46<00:00,  1.49s/it]\n"
     ]
    },
    {
     "name": "stdout",
     "output_type": "stream",
     "text": [
      "Training Epoch 4; Loss 0.08588536636483285; \n"
     ]
    },
    {
     "name": "stderr",
     "output_type": "stream",
     "text": [
      "100%|██████████| 11/11 [00:25<00:00,  2.30s/it]\n"
     ]
    },
    {
     "name": "stdout",
     "output_type": "stream",
     "text": [
      "curent {'政治': {'precision': 0.8799, 'recall': 0.8436, 'fscore': 0.8561, 'auc': 0.9522, 'acc': 0.8706}, '医药健康': {'precision': 0.8914, 'recall': 0.893, 'fscore': 0.89, 'auc': 0.9668, 'acc': 0.89}, '文体娱乐': {'precision': 0.9036, 'recall': 0.9227, 'fscore': 0.9122, 'auc': 0.9827, 'acc': 0.9236}, 'auc': 0.9737689829728485, 'metric': 0.8990159238038544, 'recall': 0.9039510880284005, 'precision': 0.8978972589433565, 'acc': 0.8996960486322189}\n",
      "Max {'政治': {'precision': 0.8799, 'recall': 0.8436, 'fscore': 0.8561, 'auc': 0.9522, 'acc': 0.8706}, '医药健康': {'precision': 0.8914, 'recall': 0.893, 'fscore': 0.89, 'auc': 0.9668, 'acc': 0.89}, '文体娱乐': {'precision': 0.9036, 'recall': 0.9227, 'fscore': 0.9122, 'auc': 0.9827, 'acc': 0.9236}, 'auc': 0.9737689829728485, 'metric': 0.8990159238038544, 'recall': 0.9039510880284005, 'precision': 0.8978972589433565, 'acc': 0.8996960486322189}\n"
     ]
    },
    {
     "name": "stderr",
     "output_type": "stream",
     "text": [
      "100%|██████████| 31/31 [00:50<00:00,  1.63s/it]\n"
     ]
    },
    {
     "name": "stdout",
     "output_type": "stream",
     "text": [
      "Training Epoch 5; Loss 0.049898178827378056; \n"
     ]
    },
    {
     "name": "stderr",
     "output_type": "stream",
     "text": [
      "100%|██████████| 11/11 [00:27<00:00,  2.49s/it]\n"
     ]
    },
    {
     "name": "stdout",
     "output_type": "stream",
     "text": [
      "curent {'政治': {'precision': 0.9126, 'recall': 0.8983, 'fscore': 0.9045, 'auc': 0.9519, 'acc': 0.9118}, '医药健康': {'precision': 0.9102, 'recall': 0.9089, 'fscore': 0.9094, 'auc': 0.9695, 'acc': 0.91}, '文体娱乐': {'precision': 0.9201, 'recall': 0.9061, 'fscore': 0.9127, 'auc': 0.9823, 'acc': 0.9271}, 'auc': 0.9747738948317477, 'metric': 0.9165068802165577, 'recall': 0.9161790809282756, 'precision': 0.9168524528479376, 'acc': 0.9179331306990881}\n",
      "Max {'政治': {'precision': 0.9126, 'recall': 0.8983, 'fscore': 0.9045, 'auc': 0.9519, 'acc': 0.9118}, '医药健康': {'precision': 0.9102, 'recall': 0.9089, 'fscore': 0.9094, 'auc': 0.9695, 'acc': 0.91}, '文体娱乐': {'precision': 0.9201, 'recall': 0.9061, 'fscore': 0.9127, 'auc': 0.9823, 'acc': 0.9271}, 'auc': 0.9747738948317477, 'metric': 0.9165068802165577, 'recall': 0.9161790809282756, 'precision': 0.9168524528479376, 'acc': 0.9179331306990881}\n"
     ]
    },
    {
     "name": "stderr",
     "output_type": "stream",
     "text": [
      "100%|██████████| 31/31 [00:49<00:00,  1.59s/it]\n"
     ]
    },
    {
     "name": "stdout",
     "output_type": "stream",
     "text": [
      "Training Epoch 6; Loss 0.037437418836259076; \n"
     ]
    },
    {
     "name": "stderr",
     "output_type": "stream",
     "text": [
      "100%|██████████| 11/11 [00:24<00:00,  2.24s/it]\n"
     ]
    },
    {
     "name": "stdout",
     "output_type": "stream",
     "text": [
      "curent {'政治': {'precision': 0.9126, 'recall': 0.8983, 'fscore': 0.9045, 'auc': 0.9521, 'acc': 0.9118}, '医药健康': {'precision': 0.9212, 'recall': 0.9182, 'fscore': 0.9193, 'auc': 0.968, 'acc': 0.92}, '文体娱乐': {'precision': 0.9258, 'recall': 0.9175, 'fscore': 0.9215, 'auc': 0.9849, 'acc': 0.934}, 'auc': 0.975450097204091, 'metric': 0.9226915557560718, 'recall': 0.9223588192755243, 'precision': 0.9230421899252151, 'acc': 0.9240121580547113}\n",
      "Max {'政治': {'precision': 0.9126, 'recall': 0.8983, 'fscore': 0.9045, 'auc': 0.9521, 'acc': 0.9118}, '医药健康': {'precision': 0.9212, 'recall': 0.9182, 'fscore': 0.9193, 'auc': 0.968, 'acc': 0.92}, '文体娱乐': {'precision': 0.9258, 'recall': 0.9175, 'fscore': 0.9215, 'auc': 0.9849, 'acc': 0.934}, 'auc': 0.975450097204091, 'metric': 0.9226915557560718, 'recall': 0.9223588192755243, 'precision': 0.9230421899252151, 'acc': 0.9240121580547113}\n"
     ]
    },
    {
     "name": "stderr",
     "output_type": "stream",
     "text": [
      "100%|██████████| 31/31 [00:45<00:00,  1.48s/it]\n"
     ]
    },
    {
     "name": "stdout",
     "output_type": "stream",
     "text": [
      "Training Epoch 7; Loss 0.024171386875452533; \n"
     ]
    },
    {
     "name": "stderr",
     "output_type": "stream",
     "text": [
      "100%|██████████| 11/11 [00:23<00:00,  2.15s/it]\n"
     ]
    },
    {
     "name": "stdout",
     "output_type": "stream",
     "text": [
      "curent {'政治': {'precision': 0.9078, 'recall': 0.8905, 'fscore': 0.8977, 'auc': 0.9534, 'acc': 0.9059}, '医药健康': {'precision': 0.9196, 'recall': 0.9196, 'fscore': 0.9196, 'auc': 0.9728, 'acc': 0.92}, '文体娱乐': {'precision': 0.9258, 'recall': 0.9175, 'fscore': 0.9215, 'auc': 0.985, 'acc': 0.934}, 'auc': 0.9769152023441682, 'metric': 0.9212998032377822, 'recall': 0.9218000131483794, 'precision': 0.9208395802098951, 'acc': 0.9224924012158054}\n",
      "Max {'政治': {'precision': 0.9126, 'recall': 0.8983, 'fscore': 0.9045, 'auc': 0.9521, 'acc': 0.9118}, '医药健康': {'precision': 0.9212, 'recall': 0.9182, 'fscore': 0.9193, 'auc': 0.968, 'acc': 0.92}, '文体娱乐': {'precision': 0.9258, 'recall': 0.9175, 'fscore': 0.9215, 'auc': 0.9849, 'acc': 0.934}, 'auc': 0.975450097204091, 'metric': 0.9226915557560718, 'recall': 0.9223588192755243, 'precision': 0.9230421899252151, 'acc': 0.9240121580547113}\n"
     ]
    },
    {
     "name": "stderr",
     "output_type": "stream",
     "text": [
      "100%|██████████| 31/31 [00:47<00:00,  1.52s/it]\n"
     ]
    },
    {
     "name": "stdout",
     "output_type": "stream",
     "text": [
      "Training Epoch 8; Loss 0.020468116467518192; \n"
     ]
    },
    {
     "name": "stderr",
     "output_type": "stream",
     "text": [
      "100%|██████████| 11/11 [00:23<00:00,  2.12s/it]\n"
     ]
    },
    {
     "name": "stdout",
     "output_type": "stream",
     "text": [
      "curent {'政治': {'precision': 0.8983, 'recall': 0.8749, 'fscore': 0.8841, 'auc': 0.9564, 'acc': 0.8941}, '医药健康': {'precision': 0.9196, 'recall': 0.9196, 'fscore': 0.9196, 'auc': 0.9722, 'acc': 0.92}, '文体娱乐': {'precision': 0.9345, 'recall': 0.9345, 'fscore': 0.9345, 'auc': 0.9857, 'acc': 0.9444}, 'auc': 0.9770560778384064, 'metric': 0.9229847280354317, 'recall': 0.924331076194859, 'precision': 0.9219218377924079, 'acc': 0.9240121580547113}\n",
      "Max {'政治': {'precision': 0.8983, 'recall': 0.8749, 'fscore': 0.8841, 'auc': 0.9564, 'acc': 0.8941}, '医药健康': {'precision': 0.9196, 'recall': 0.9196, 'fscore': 0.9196, 'auc': 0.9722, 'acc': 0.92}, '文体娱乐': {'precision': 0.9345, 'recall': 0.9345, 'fscore': 0.9345, 'auc': 0.9857, 'acc': 0.9444}, 'auc': 0.9770560778384064, 'metric': 0.9229847280354317, 'recall': 0.924331076194859, 'precision': 0.9219218377924079, 'acc': 0.9240121580547113}\n"
     ]
    },
    {
     "name": "stderr",
     "output_type": "stream",
     "text": [
      "100%|██████████| 31/31 [00:46<00:00,  1.51s/it]\n"
     ]
    },
    {
     "name": "stdout",
     "output_type": "stream",
     "text": [
      "Training Epoch 9; Loss 0.018039989976152297; \n"
     ]
    },
    {
     "name": "stderr",
     "output_type": "stream",
     "text": [
      "100%|██████████| 11/11 [00:26<00:00,  2.42s/it]\n"
     ]
    },
    {
     "name": "stdout",
     "output_type": "stream",
     "text": [
      "curent {'政治': {'precision': 0.9119, 'recall': 0.8765, 'fscore': 0.8892, 'auc': 0.9567, 'acc': 0.9}, '医药健康': {'precision': 0.9143, 'recall': 0.9156, 'fscore': 0.9147, 'auc': 0.9742, 'acc': 0.915}, '文体娱乐': {'precision': 0.9287, 'recall': 0.9232, 'fscore': 0.9259, 'auc': 0.9856, 'acc': 0.9375}, 'auc': 0.9772720869295717, 'metric': 0.9200149609612417, 'recall': 0.9220301097889685, 'precision': 0.9186331411110387, 'acc': 0.9209726443768997}\n",
      "Max {'政治': {'precision': 0.8983, 'recall': 0.8749, 'fscore': 0.8841, 'auc': 0.9564, 'acc': 0.8941}, '医药健康': {'precision': 0.9196, 'recall': 0.9196, 'fscore': 0.9196, 'auc': 0.9722, 'acc': 0.92}, '文体娱乐': {'precision': 0.9345, 'recall': 0.9345, 'fscore': 0.9345, 'auc': 0.9857, 'acc': 0.9444}, 'auc': 0.9770560778384064, 'metric': 0.9229847280354317, 'recall': 0.924331076194859, 'precision': 0.9219218377924079, 'acc': 0.9240121580547113}\n"
     ]
    },
    {
     "name": "stderr",
     "output_type": "stream",
     "text": [
      "100%|██████████| 31/31 [00:48<00:00,  1.57s/it]\n"
     ]
    },
    {
     "name": "stdout",
     "output_type": "stream",
     "text": [
      "Training Epoch 10; Loss 0.014620310656966702; \n"
     ]
    },
    {
     "name": "stderr",
     "output_type": "stream",
     "text": [
      "100%|██████████| 11/11 [00:27<00:00,  2.50s/it]\n"
     ]
    },
    {
     "name": "stdout",
     "output_type": "stream",
     "text": [
      "curent {'政治': {'precision': 0.8968, 'recall': 0.8889, 'fscore': 0.8925, 'auc': 0.9575, 'acc': 0.9}, '医药健康': {'precision': 0.9264, 'recall': 0.9161, 'fscore': 0.9188, 'auc': 0.9727, 'acc': 0.92}, '文体娱乐': {'precision': 0.9376, 'recall': 0.8902, 'fscore': 0.9095, 'auc': 0.9853, 'acc': 0.9271}, 'auc': 0.9772157367318763, 'metric': 0.9157466423856135, 'recall': 0.9122345670896062, 'precision': 0.9214652647750732, 'acc': 0.9179331306990881}\n",
      "Max {'政治': {'precision': 0.8983, 'recall': 0.8749, 'fscore': 0.8841, 'auc': 0.9564, 'acc': 0.8941}, '医药健康': {'precision': 0.9196, 'recall': 0.9196, 'fscore': 0.9196, 'auc': 0.9722, 'acc': 0.92}, '文体娱乐': {'precision': 0.9345, 'recall': 0.9345, 'fscore': 0.9345, 'auc': 0.9857, 'acc': 0.9444}, 'auc': 0.9770560778384064, 'metric': 0.9229847280354317, 'recall': 0.924331076194859, 'precision': 0.9219218377924079, 'acc': 0.9240121580547113}\n"
     ]
    },
    {
     "name": "stderr",
     "output_type": "stream",
     "text": [
      "100%|██████████| 31/31 [00:49<00:00,  1.61s/it]\n"
     ]
    },
    {
     "name": "stdout",
     "output_type": "stream",
     "text": [
      "Training Epoch 11; Loss 0.011021154932677746; \n"
     ]
    },
    {
     "name": "stderr",
     "output_type": "stream",
     "text": [
      "100%|██████████| 11/11 [00:23<00:00,  2.17s/it]\n"
     ]
    },
    {
     "name": "stdout",
     "output_type": "stream",
     "text": [
      "curent {'政治': {'precision': 0.9162, 'recall': 0.8843, 'fscore': 0.8962, 'auc': 0.9581, 'acc': 0.9059}, '医药健康': {'precision': 0.9297, 'recall': 0.9297, 'fscore': 0.9297, 'auc': 0.973, 'acc': 0.93}, '文体娱乐': {'precision': 0.9316, 'recall': 0.9289, 'fscore': 0.9302, 'auc': 0.9859, 'acc': 0.941}, 'auc': 0.9778543723057562, 'metric': 0.9276312248589527, 'recall': 0.9291631056472289, 'precision': 0.9264596087800507, 'acc': 0.9285714285714286}\n",
      "Max {'政治': {'precision': 0.9162, 'recall': 0.8843, 'fscore': 0.8962, 'auc': 0.9581, 'acc': 0.9059}, '医药健康': {'precision': 0.9297, 'recall': 0.9297, 'fscore': 0.9297, 'auc': 0.973, 'acc': 0.93}, '文体娱乐': {'precision': 0.9316, 'recall': 0.9289, 'fscore': 0.9302, 'auc': 0.9859, 'acc': 0.941}, 'auc': 0.9778543723057562, 'metric': 0.9276312248589527, 'recall': 0.9291631056472289, 'precision': 0.9264596087800507, 'acc': 0.9285714285714286}\n"
     ]
    },
    {
     "name": "stderr",
     "output_type": "stream",
     "text": [
      "100%|██████████| 31/31 [00:44<00:00,  1.44s/it]\n"
     ]
    },
    {
     "name": "stdout",
     "output_type": "stream",
     "text": [
      "Training Epoch 12; Loss 0.009459155821992506; \n"
     ]
    },
    {
     "name": "stderr",
     "output_type": "stream",
     "text": [
      "100%|██████████| 11/11 [00:23<00:00,  2.10s/it]\n"
     ]
    },
    {
     "name": "stdout",
     "output_type": "stream",
     "text": [
      "curent {'政治': {'precision': 0.925, 'recall': 0.8999, 'fscore': 0.9098, 'auc': 0.9601, 'acc': 0.9176}, '医药健康': {'precision': 0.9303, 'recall': 0.929, 'fscore': 0.9295, 'auc': 0.973, 'acc': 0.93}, '文体娱乐': {'precision': 0.9287, 'recall': 0.9232, 'fscore': 0.9259, 'auc': 0.9857, 'acc': 0.9375}, 'auc': 0.9779201142030675, 'metric': 0.9290423008036309, 'recall': 0.9297219117743738, 'precision': 0.9284343193160857, 'acc': 0.9300911854103343}\n",
      "Max {'政治': {'precision': 0.925, 'recall': 0.8999, 'fscore': 0.9098, 'auc': 0.9601, 'acc': 0.9176}, '医药健康': {'precision': 0.9303, 'recall': 0.929, 'fscore': 0.9295, 'auc': 0.973, 'acc': 0.93}, '文体娱乐': {'precision': 0.9287, 'recall': 0.9232, 'fscore': 0.9259, 'auc': 0.9857, 'acc': 0.9375}, 'auc': 0.9779201142030675, 'metric': 0.9290423008036309, 'recall': 0.9297219117743738, 'precision': 0.9284343193160857, 'acc': 0.9300911854103343}\n"
     ]
    },
    {
     "name": "stderr",
     "output_type": "stream",
     "text": [
      "100%|██████████| 31/31 [00:46<00:00,  1.51s/it]\n"
     ]
    },
    {
     "name": "stdout",
     "output_type": "stream",
     "text": [
      "Training Epoch 13; Loss 0.008499449269185144; \n"
     ]
    },
    {
     "name": "stderr",
     "output_type": "stream",
     "text": [
      "100%|██████████| 11/11 [00:26<00:00,  2.44s/it]\n"
     ]
    },
    {
     "name": "stdout",
     "output_type": "stream",
     "text": [
      "curent {'政治': {'precision': 0.9162, 'recall': 0.8843, 'fscore': 0.8962, 'auc': 0.9587, 'acc': 0.9059}, '医药健康': {'precision': 0.935, 'recall': 0.9343, 'fscore': 0.9346, 'auc': 0.9738, 'acc': 0.935}, '文体娱乐': {'precision': 0.9264, 'recall': 0.9264, 'fscore': 0.9264, 'auc': 0.9858, 'acc': 0.9375}, 'auc': 0.9780234228988419, 'metric': 0.9276312248589527, 'recall': 0.9291631056472289, 'precision': 0.9264596087800507, 'acc': 0.9285714285714286}\n",
      "Max {'政治': {'precision': 0.925, 'recall': 0.8999, 'fscore': 0.9098, 'auc': 0.9601, 'acc': 0.9176}, '医药健康': {'precision': 0.9303, 'recall': 0.929, 'fscore': 0.9295, 'auc': 0.973, 'acc': 0.93}, '文体娱乐': {'precision': 0.9287, 'recall': 0.9232, 'fscore': 0.9259, 'auc': 0.9857, 'acc': 0.9375}, 'auc': 0.9779201142030675, 'metric': 0.9290423008036309, 'recall': 0.9297219117743738, 'precision': 0.9284343193160857, 'acc': 0.9300911854103343}\n"
     ]
    },
    {
     "name": "stderr",
     "output_type": "stream",
     "text": [
      "100%|██████████| 31/31 [00:51<00:00,  1.66s/it]\n"
     ]
    },
    {
     "name": "stdout",
     "output_type": "stream",
     "text": [
      "Training Epoch 14; Loss 0.007558821910812009; \n"
     ]
    },
    {
     "name": "stderr",
     "output_type": "stream",
     "text": [
      "100%|██████████| 11/11 [00:25<00:00,  2.36s/it]\n"
     ]
    },
    {
     "name": "stdout",
     "output_type": "stream",
     "text": [
      "curent {'政治': {'precision': 0.9162, 'recall': 0.8843, 'fscore': 0.8962, 'auc': 0.959, 'acc': 0.9059}, '医药健康': {'precision': 0.9303, 'recall': 0.929, 'fscore': 0.9295, 'auc': 0.9741, 'acc': 0.93}, '文体娱乐': {'precision': 0.9287, 'recall': 0.9232, 'fscore': 0.9259, 'auc': 0.9855, 'acc': 0.9375}, 'auc': 0.9782676070888549, 'metric': 0.9260119940029985, 'recall': 0.9270264939846165, 'precision': 0.9251577913880966, 'acc': 0.9270516717325228}\n",
      "Max {'政治': {'precision': 0.925, 'recall': 0.8999, 'fscore': 0.9098, 'auc': 0.9601, 'acc': 0.9176}, '医药健康': {'precision': 0.9303, 'recall': 0.929, 'fscore': 0.9295, 'auc': 0.973, 'acc': 0.93}, '文体娱乐': {'precision': 0.9287, 'recall': 0.9232, 'fscore': 0.9259, 'auc': 0.9857, 'acc': 0.9375}, 'auc': 0.9779201142030675, 'metric': 0.9290423008036309, 'recall': 0.9297219117743738, 'precision': 0.9284343193160857, 'acc': 0.9300911854103343}\n"
     ]
    },
    {
     "name": "stderr",
     "output_type": "stream",
     "text": [
      "100%|██████████| 31/31 [00:46<00:00,  1.50s/it]\n"
     ]
    },
    {
     "name": "stdout",
     "output_type": "stream",
     "text": [
      "Training Epoch 15; Loss 0.0061454309240704585; \n"
     ]
    },
    {
     "name": "stderr",
     "output_type": "stream",
     "text": [
      "100%|██████████| 11/11 [00:24<00:00,  2.22s/it]\n"
     ]
    },
    {
     "name": "stdout",
     "output_type": "stream",
     "text": [
      "curent {'政治': {'precision': 0.9162, 'recall': 0.8843, 'fscore': 0.8962, 'auc': 0.9595, 'acc': 0.9059}, '医药健康': {'precision': 0.9249, 'recall': 0.9243, 'fscore': 0.9246, 'auc': 0.9747, 'acc': 0.925}, '文体娱乐': {'precision': 0.9287, 'recall': 0.9232, 'fscore': 0.9259, 'auc': 0.9858, 'acc': 0.9375}, 'auc': 0.9784178742827089, 'metric': 0.9244979919678715, 'recall': 0.9256787850897377, 'precision': 0.9235347985347986, 'acc': 0.925531914893617}\n",
      "Max {'政治': {'precision': 0.925, 'recall': 0.8999, 'fscore': 0.9098, 'auc': 0.9601, 'acc': 0.9176}, '医药健康': {'precision': 0.9303, 'recall': 0.929, 'fscore': 0.9295, 'auc': 0.973, 'acc': 0.93}, '文体娱乐': {'precision': 0.9287, 'recall': 0.9232, 'fscore': 0.9259, 'auc': 0.9857, 'acc': 0.9375}, 'auc': 0.9779201142030675, 'metric': 0.9290423008036309, 'recall': 0.9297219117743738, 'precision': 0.9284343193160857, 'acc': 0.9300911854103343}\n"
     ]
    },
    {
     "name": "stderr",
     "output_type": "stream",
     "text": [
      "100%|██████████| 11/11 [00:24<00:00,  2.23s/it]"
     ]
    },
    {
     "name": "stdout",
     "output_type": "stream",
     "text": [
      "{'政治': {'precision': 0.9009, 'recall': 0.8335, 'fscore': 0.8578, 'auc': 0.9208, 'acc': 0.8889}, '医药健康': {'precision': 0.9364, 'recall': 0.9345, 'fscore': 0.9349, 'auc': 0.9837, 'acc': 0.935}, '文体娱乐': {'precision': 0.9214, 'recall': 0.9184, 'fscore': 0.9199, 'auc': 0.9789, 'acc': 0.934}, 'auc': 0.9730851162359915, 'metric': 0.9224271044668637, 'recall': 0.9241085486709271, 'precision': 0.921982417015316, 'acc': 0.9226100151745068}\n",
      "best model path: ./param_model\\mdfend\\parameter_mdfend.pkl\n",
      "best metric: {'政治': {'precision': 0.9052, 'recall': 0.8432, 'fscore': 0.8662, 'auc': 0.9208, 'acc': 0.8947}, '医药健康': {'precision': 0.9465, 'recall': 0.9445, 'fscore': 0.9449, 'auc': 0.9865, 'acc': 0.945}, '文体娱乐': {'precision': 0.919, 'recall': 0.9219, 'fscore': 0.9204, 'auc': 0.9806, 'acc': 0.934}, 'auc': 0.9748448643141614, 'metric': 0.9270008307947937, 'recall': 0.9287996665740483, 'precision': 0.9265949800973021, 'acc': 0.9271623672230652}\n"
     ]
    },
    {
     "name": "stderr",
     "output_type": "stream",
     "text": [
      "\n"
     ]
    }
   ],
   "source": [
    "run main.py --gpu 0 --lr 0.0001 --model_name mdfend --dataset ch --domain_num 3"
   ]
  },
  {
   "cell_type": "code",
   "execution_count": 27,
   "metadata": {},
   "outputs": [
    {
     "name": "stdout",
     "output_type": "stream",
     "text": [
      "   epoch                  class  precision  recall  fscore     auc     acc\n",
      "0      1               Politics     0.9135  0.8378  0.8643  0.9320  0.8947\n",
      "1      1      Health & Medicine     0.9310  0.9296  0.9299  0.9864  0.9300\n",
      "2      1  Entertainment & Sport     0.9107  0.9135  0.9121  0.9803  0.9271\n",
      "3      2               Politics     0.9135  0.8378  0.8643  0.9224  0.8947\n",
      "4      2      Health & Medicine     0.9320  0.9294  0.9298  0.9795  0.9300\n",
      "5      2  Entertainment & Sport     0.9055  0.9111  0.9082  0.9758  0.9236\n",
      "6      3               Politics     0.8889  0.8293  0.8513  0.9263  0.8830\n",
      "7      3      Health & Medicine     0.9376  0.9343  0.9348  0.9846  0.9350\n",
      "8      3  Entertainment & Sport     0.9270  0.9114  0.9187  0.9800  0.9340\n",
      "9      4               Politics     0.9135  0.8378  0.8643  0.9240  0.8947\n",
      "10     4      Health & Medicine     0.9400  0.9400  0.9400  0.9864  0.9400\n",
      "11     4  Entertainment & Sport     0.9269  0.9209  0.9238  0.9782  0.9375\n",
      "12     5               Politics     0.8516  0.8222  0.8345  0.9249  0.8655\n",
      "13     5      Health & Medicine     0.9403  0.9398  0.9399  0.9853  0.9400\n",
      "14     5  Entertainment & Sport     0.9184  0.9125  0.9154  0.9742  0.9306\n",
      "15     6               Politics     0.9009  0.8335  0.8578  0.9258  0.8889\n",
      "16     6      Health & Medicine     0.9456  0.9447  0.9449  0.9875  0.9450\n",
      "17     6  Entertainment & Sport     0.9086  0.9170  0.9127  0.9793  0.9271\n",
      "18     7               Politics     0.8889  0.8293  0.8513  0.9197  0.8830\n",
      "19     7      Health & Medicine     0.9310  0.9239  0.9246  0.9831  0.9250\n",
      "20     7  Entertainment & Sport     0.9086  0.9170  0.9127  0.9753  0.9271\n",
      "21     8               Politics     0.9095  0.8281  0.8557  0.9171  0.8889\n",
      "22     8      Health & Medicine     0.9364  0.9345  0.9349  0.9841  0.9350\n",
      "23     8  Entertainment & Sport     0.9270  0.9114  0.9187  0.9768  0.9340\n",
      "24     9               Politics     0.9052  0.8432  0.8662  0.9208  0.8947\n",
      "25     9      Health & Medicine     0.9465  0.9445  0.9449  0.9865  0.9450\n",
      "26     9  Entertainment & Sport     0.9190  0.9219  0.9204  0.9806  0.9340\n",
      "27    10               Politics     0.9009  0.8335  0.8578  0.9208  0.8889\n",
      "28    10      Health & Medicine     0.9364  0.9345  0.9349  0.9837  0.9350\n",
      "29    10  Entertainment & Sport     0.9214  0.9184  0.9199  0.9789  0.9340\n"
     ]
    },
    {
     "name": "stderr",
     "output_type": "stream",
     "text": [
      "C:\\Users\\kidul\\AppData\\Local\\Temp\\ipykernel_18912\\2733527394.py:18: FutureWarning:\n",
      "\n",
      "The frame.append method is deprecated and will be removed from pandas in a future version. Use pandas.concat instead.\n",
      "\n",
      "C:\\Users\\kidul\\AppData\\Local\\Temp\\ipykernel_18912\\2733527394.py:18: FutureWarning:\n",
      "\n",
      "The frame.append method is deprecated and will be removed from pandas in a future version. Use pandas.concat instead.\n",
      "\n",
      "C:\\Users\\kidul\\AppData\\Local\\Temp\\ipykernel_18912\\2733527394.py:18: FutureWarning:\n",
      "\n",
      "The frame.append method is deprecated and will be removed from pandas in a future version. Use pandas.concat instead.\n",
      "\n",
      "C:\\Users\\kidul\\AppData\\Local\\Temp\\ipykernel_18912\\2733527394.py:18: FutureWarning:\n",
      "\n",
      "The frame.append method is deprecated and will be removed from pandas in a future version. Use pandas.concat instead.\n",
      "\n",
      "C:\\Users\\kidul\\AppData\\Local\\Temp\\ipykernel_18912\\2733527394.py:18: FutureWarning:\n",
      "\n",
      "The frame.append method is deprecated and will be removed from pandas in a future version. Use pandas.concat instead.\n",
      "\n",
      "C:\\Users\\kidul\\AppData\\Local\\Temp\\ipykernel_18912\\2733527394.py:18: FutureWarning:\n",
      "\n",
      "The frame.append method is deprecated and will be removed from pandas in a future version. Use pandas.concat instead.\n",
      "\n",
      "C:\\Users\\kidul\\AppData\\Local\\Temp\\ipykernel_18912\\2733527394.py:18: FutureWarning:\n",
      "\n",
      "The frame.append method is deprecated and will be removed from pandas in a future version. Use pandas.concat instead.\n",
      "\n",
      "C:\\Users\\kidul\\AppData\\Local\\Temp\\ipykernel_18912\\2733527394.py:18: FutureWarning:\n",
      "\n",
      "The frame.append method is deprecated and will be removed from pandas in a future version. Use pandas.concat instead.\n",
      "\n",
      "C:\\Users\\kidul\\AppData\\Local\\Temp\\ipykernel_18912\\2733527394.py:18: FutureWarning:\n",
      "\n",
      "The frame.append method is deprecated and will be removed from pandas in a future version. Use pandas.concat instead.\n",
      "\n",
      "C:\\Users\\kidul\\AppData\\Local\\Temp\\ipykernel_18912\\2733527394.py:18: FutureWarning:\n",
      "\n",
      "The frame.append method is deprecated and will be removed from pandas in a future version. Use pandas.concat instead.\n",
      "\n",
      "C:\\Users\\kidul\\AppData\\Local\\Temp\\ipykernel_18912\\2733527394.py:18: FutureWarning:\n",
      "\n",
      "The frame.append method is deprecated and will be removed from pandas in a future version. Use pandas.concat instead.\n",
      "\n",
      "C:\\Users\\kidul\\AppData\\Local\\Temp\\ipykernel_18912\\2733527394.py:18: FutureWarning:\n",
      "\n",
      "The frame.append method is deprecated and will be removed from pandas in a future version. Use pandas.concat instead.\n",
      "\n",
      "C:\\Users\\kidul\\AppData\\Local\\Temp\\ipykernel_18912\\2733527394.py:18: FutureWarning:\n",
      "\n",
      "The frame.append method is deprecated and will be removed from pandas in a future version. Use pandas.concat instead.\n",
      "\n",
      "C:\\Users\\kidul\\AppData\\Local\\Temp\\ipykernel_18912\\2733527394.py:18: FutureWarning:\n",
      "\n",
      "The frame.append method is deprecated and will be removed from pandas in a future version. Use pandas.concat instead.\n",
      "\n",
      "C:\\Users\\kidul\\AppData\\Local\\Temp\\ipykernel_18912\\2733527394.py:18: FutureWarning:\n",
      "\n",
      "The frame.append method is deprecated and will be removed from pandas in a future version. Use pandas.concat instead.\n",
      "\n",
      "C:\\Users\\kidul\\AppData\\Local\\Temp\\ipykernel_18912\\2733527394.py:18: FutureWarning:\n",
      "\n",
      "The frame.append method is deprecated and will be removed from pandas in a future version. Use pandas.concat instead.\n",
      "\n",
      "C:\\Users\\kidul\\AppData\\Local\\Temp\\ipykernel_18912\\2733527394.py:18: FutureWarning:\n",
      "\n",
      "The frame.append method is deprecated and will be removed from pandas in a future version. Use pandas.concat instead.\n",
      "\n",
      "C:\\Users\\kidul\\AppData\\Local\\Temp\\ipykernel_18912\\2733527394.py:18: FutureWarning:\n",
      "\n",
      "The frame.append method is deprecated and will be removed from pandas in a future version. Use pandas.concat instead.\n",
      "\n",
      "C:\\Users\\kidul\\AppData\\Local\\Temp\\ipykernel_18912\\2733527394.py:18: FutureWarning:\n",
      "\n",
      "The frame.append method is deprecated and will be removed from pandas in a future version. Use pandas.concat instead.\n",
      "\n",
      "C:\\Users\\kidul\\AppData\\Local\\Temp\\ipykernel_18912\\2733527394.py:18: FutureWarning:\n",
      "\n",
      "The frame.append method is deprecated and will be removed from pandas in a future version. Use pandas.concat instead.\n",
      "\n",
      "C:\\Users\\kidul\\AppData\\Local\\Temp\\ipykernel_18912\\2733527394.py:18: FutureWarning:\n",
      "\n",
      "The frame.append method is deprecated and will be removed from pandas in a future version. Use pandas.concat instead.\n",
      "\n",
      "C:\\Users\\kidul\\AppData\\Local\\Temp\\ipykernel_18912\\2733527394.py:18: FutureWarning:\n",
      "\n",
      "The frame.append method is deprecated and will be removed from pandas in a future version. Use pandas.concat instead.\n",
      "\n",
      "C:\\Users\\kidul\\AppData\\Local\\Temp\\ipykernel_18912\\2733527394.py:18: FutureWarning:\n",
      "\n",
      "The frame.append method is deprecated and will be removed from pandas in a future version. Use pandas.concat instead.\n",
      "\n",
      "C:\\Users\\kidul\\AppData\\Local\\Temp\\ipykernel_18912\\2733527394.py:18: FutureWarning:\n",
      "\n",
      "The frame.append method is deprecated and will be removed from pandas in a future version. Use pandas.concat instead.\n",
      "\n",
      "C:\\Users\\kidul\\AppData\\Local\\Temp\\ipykernel_18912\\2733527394.py:18: FutureWarning:\n",
      "\n",
      "The frame.append method is deprecated and will be removed from pandas in a future version. Use pandas.concat instead.\n",
      "\n",
      "C:\\Users\\kidul\\AppData\\Local\\Temp\\ipykernel_18912\\2733527394.py:18: FutureWarning:\n",
      "\n",
      "The frame.append method is deprecated and will be removed from pandas in a future version. Use pandas.concat instead.\n",
      "\n",
      "C:\\Users\\kidul\\AppData\\Local\\Temp\\ipykernel_18912\\2733527394.py:18: FutureWarning:\n",
      "\n",
      "The frame.append method is deprecated and will be removed from pandas in a future version. Use pandas.concat instead.\n",
      "\n",
      "C:\\Users\\kidul\\AppData\\Local\\Temp\\ipykernel_18912\\2733527394.py:18: FutureWarning:\n",
      "\n",
      "The frame.append method is deprecated and will be removed from pandas in a future version. Use pandas.concat instead.\n",
      "\n",
      "C:\\Users\\kidul\\AppData\\Local\\Temp\\ipykernel_18912\\2733527394.py:18: FutureWarning:\n",
      "\n",
      "The frame.append method is deprecated and will be removed from pandas in a future version. Use pandas.concat instead.\n",
      "\n",
      "C:\\Users\\kidul\\AppData\\Local\\Temp\\ipykernel_18912\\2733527394.py:18: FutureWarning:\n",
      "\n",
      "The frame.append method is deprecated and will be removed from pandas in a future version. Use pandas.concat instead.\n",
      "\n"
     ]
    }
   ],
   "source": [
    "import json\n",
    "import pandas as pd\n",
    "\n",
    "# 读取 json 文件\n",
    "with open(\"logs/json/mdfend.json\") as f:\n",
    "    data = json.load(f)\n",
    "\n",
    "# 创建空的 dataframe\n",
    "df = pd.DataFrame(columns=[\"epoch\", \"class\", \"precision\", \"recall\", \"fscore\", \"auc\", \"acc\"])\n",
    "\n",
    "# 遍历每个 epoch\n",
    "for epoch, epoch_data in enumerate(data):\n",
    "    # 遍历每个类别\n",
    "    for class_name, class_data in epoch_data.items():\n",
    "        if class_name in [\"auc\", \"metric\", \"recall\", \"precision\", \"acc\"]:\n",
    "            continue  # 跳过整个数据的整体指标，只处理类别数据\n",
    "        # 添加到 dataframe 中\n",
    "        df = df.append({\n",
    "            \"epoch\": epoch+1,\n",
    "            \"class\": class_name,\n",
    "            \"precision\": class_data[\"precision\"],\n",
    "            \"recall\": class_data[\"recall\"],\n",
    "            \"fscore\": class_data[\"fscore\"],\n",
    "            \"auc\": class_data[\"auc\"],\n",
    "            \"acc\": class_data[\"acc\"]\n",
    "        }, ignore_index=True)\n",
    "\n",
    "# 显示 dataframe\n",
    "df['class'].replace('政治', 'Politics', inplace=True)\n",
    "df['class'].replace('医药健康', 'Health & Medicine', inplace=True)\n",
    "df['class'].replace('文体娱乐', 'Entertainment & Sport', inplace=True)\n",
    "\n",
    "print(df)"
   ]
  },
  {
   "cell_type": "code",
   "execution_count": 53,
   "metadata": {},
   "outputs": [
    {
     "data": {
      "application/vnd.plotly.v1+json": {
       "config": {
        "plotlyServerURL": "https://plot.ly"
       },
       "data": [
        {
         "hovertemplate": "class=Politics<br>epoch=%{x}<br>fscore=%{y}<extra></extra>",
         "legendgroup": "Politics",
         "line": {
          "color": "rgb(152,152,152)",
          "dash": "solid"
         },
         "marker": {
          "symbol": "circle"
         },
         "mode": "lines",
         "name": "Politics",
         "orientation": "v",
         "showlegend": true,
         "type": "scatter",
         "x": [
          1,
          2,
          3,
          4,
          5,
          6,
          7,
          8,
          9,
          10
         ],
         "xaxis": "x",
         "y": [
          0.8643,
          0.8643,
          0.8513,
          0.8643,
          0.8345,
          0.8578,
          0.8513,
          0.8557,
          0.8662,
          0.8578
         ],
         "yaxis": "y"
        },
        {
         "hovertemplate": "class=Health & Medicine<br>epoch=%{x}<br>fscore=%{y}<extra></extra>",
         "legendgroup": "Health & Medicine",
         "line": {
          "color": "rgb(42,90,90)",
          "dash": "solid"
         },
         "marker": {
          "symbol": "circle"
         },
         "mode": "lines",
         "name": "Health & Medicine",
         "orientation": "v",
         "showlegend": true,
         "type": "scatter",
         "x": [
          1,
          2,
          3,
          4,
          5,
          6,
          7,
          8,
          9,
          10
         ],
         "xaxis": "x",
         "y": [
          0.9299,
          0.9298,
          0.9348,
          0.94,
          0.9399,
          0.9449,
          0.9246,
          0.9349,
          0.9449,
          0.9349
         ],
         "yaxis": "y"
        },
        {
         "hovertemplate": "class=Entertainment & Sport<br>epoch=%{x}<br>fscore=%{y}<extra></extra>",
         "legendgroup": "Entertainment & Sport",
         "line": {
          "color": "rgb(116,170,156)",
          "dash": "solid"
         },
         "marker": {
          "symbol": "circle"
         },
         "mode": "lines",
         "name": "Entertainment & Sport",
         "orientation": "v",
         "showlegend": true,
         "type": "scatter",
         "x": [
          1,
          2,
          3,
          4,
          5,
          6,
          7,
          8,
          9,
          10
         ],
         "xaxis": "x",
         "y": [
          0.9121,
          0.9082,
          0.9187,
          0.9238,
          0.9154,
          0.9127,
          0.9127,
          0.9187,
          0.9204,
          0.9199
         ],
         "yaxis": "y"
        },
        {
         "customdata": [
          [
           "Politics"
          ]
         ],
         "hovertemplate": "class=%{customdata[0]}<br>epoch=%{x}<br>fscore=%{y}<br>text=%{text}<extra></extra>",
         "legendgroup": "Politics",
         "marker": {
          "color": "rgb(42,90,90)",
          "size": 10,
          "symbol": "circle"
         },
         "mode": "markers+text",
         "name": "Politics",
         "orientation": "v",
         "showlegend": true,
         "text": [
          "Politics:0.8662"
         ],
         "textposition": [
          "top left",
          "bottom left",
          "top left"
         ],
         "type": "scatter",
         "x": [
          9
         ],
         "xaxis": "x",
         "y": [
          0.8662
         ],
         "yaxis": "y"
        },
        {
         "customdata": [
          [
           "Health & Medicine"
          ]
         ],
         "hovertemplate": "class=%{customdata[0]}<br>epoch=%{x}<br>fscore=%{y}<br>text=%{text}<extra></extra>",
         "legendgroup": "Health & Medicine",
         "marker": {
          "color": "rgb(42,90,90)",
          "size": 10,
          "symbol": "circle"
         },
         "mode": "markers+text",
         "name": "Health & Medicine",
         "orientation": "v",
         "showlegend": true,
         "text": [
          "Health & Medicine:0.9449"
         ],
         "textposition": [
          "top left",
          "bottom left",
          "top left"
         ],
         "type": "scatter",
         "x": [
          9
         ],
         "xaxis": "x",
         "y": [
          0.9449
         ],
         "yaxis": "y"
        },
        {
         "customdata": [
          [
           "Entertainment & Sport"
          ]
         ],
         "hovertemplate": "class=%{customdata[0]}<br>epoch=%{x}<br>fscore=%{y}<br>text=%{text}<extra></extra>",
         "legendgroup": "Entertainment & Sport",
         "marker": {
          "color": "rgb(42,90,90)",
          "size": 10,
          "symbol": "circle"
         },
         "mode": "markers+text",
         "name": "Entertainment & Sport",
         "orientation": "v",
         "showlegend": true,
         "text": [
          "Entertainment & Sport:0.9204"
         ],
         "textposition": "bottom left",
         "type": "scatter",
         "x": [
          9
         ],
         "xaxis": "x",
         "y": [
          0.9204
         ],
         "yaxis": "y"
        }
       ],
       "layout": {
        "font": {
         "family": "Arial, sans-serif",
         "size": 18
        },
        "height": 600,
        "legend": {
         "font": {
          "size": 18
         },
         "title": {
          "font": {
           "size": 18
          },
          "text": "Class"
         },
         "tracegroupgap": 0
        },
        "template": {
         "data": {
          "bar": [
           {
            "error_x": {
             "color": "#2a3f5f"
            },
            "error_y": {
             "color": "#2a3f5f"
            },
            "marker": {
             "line": {
              "color": "white",
              "width": 0.5
             },
             "pattern": {
              "fillmode": "overlay",
              "size": 10,
              "solidity": 0.2
             }
            },
            "type": "bar"
           }
          ],
          "barpolar": [
           {
            "marker": {
             "line": {
              "color": "white",
              "width": 0.5
             },
             "pattern": {
              "fillmode": "overlay",
              "size": 10,
              "solidity": 0.2
             }
            },
            "type": "barpolar"
           }
          ],
          "carpet": [
           {
            "aaxis": {
             "endlinecolor": "#2a3f5f",
             "gridcolor": "#C8D4E3",
             "linecolor": "#C8D4E3",
             "minorgridcolor": "#C8D4E3",
             "startlinecolor": "#2a3f5f"
            },
            "baxis": {
             "endlinecolor": "#2a3f5f",
             "gridcolor": "#C8D4E3",
             "linecolor": "#C8D4E3",
             "minorgridcolor": "#C8D4E3",
             "startlinecolor": "#2a3f5f"
            },
            "type": "carpet"
           }
          ],
          "choropleth": [
           {
            "colorbar": {
             "outlinewidth": 0,
             "ticks": ""
            },
            "type": "choropleth"
           }
          ],
          "contour": [
           {
            "colorbar": {
             "outlinewidth": 0,
             "ticks": ""
            },
            "colorscale": [
             [
              0,
              "#0d0887"
             ],
             [
              0.1111111111111111,
              "#46039f"
             ],
             [
              0.2222222222222222,
              "#7201a8"
             ],
             [
              0.3333333333333333,
              "#9c179e"
             ],
             [
              0.4444444444444444,
              "#bd3786"
             ],
             [
              0.5555555555555556,
              "#d8576b"
             ],
             [
              0.6666666666666666,
              "#ed7953"
             ],
             [
              0.7777777777777778,
              "#fb9f3a"
             ],
             [
              0.8888888888888888,
              "#fdca26"
             ],
             [
              1,
              "#f0f921"
             ]
            ],
            "type": "contour"
           }
          ],
          "contourcarpet": [
           {
            "colorbar": {
             "outlinewidth": 0,
             "ticks": ""
            },
            "type": "contourcarpet"
           }
          ],
          "heatmap": [
           {
            "colorbar": {
             "outlinewidth": 0,
             "ticks": ""
            },
            "colorscale": [
             [
              0,
              "#0d0887"
             ],
             [
              0.1111111111111111,
              "#46039f"
             ],
             [
              0.2222222222222222,
              "#7201a8"
             ],
             [
              0.3333333333333333,
              "#9c179e"
             ],
             [
              0.4444444444444444,
              "#bd3786"
             ],
             [
              0.5555555555555556,
              "#d8576b"
             ],
             [
              0.6666666666666666,
              "#ed7953"
             ],
             [
              0.7777777777777778,
              "#fb9f3a"
             ],
             [
              0.8888888888888888,
              "#fdca26"
             ],
             [
              1,
              "#f0f921"
             ]
            ],
            "type": "heatmap"
           }
          ],
          "heatmapgl": [
           {
            "colorbar": {
             "outlinewidth": 0,
             "ticks": ""
            },
            "colorscale": [
             [
              0,
              "#0d0887"
             ],
             [
              0.1111111111111111,
              "#46039f"
             ],
             [
              0.2222222222222222,
              "#7201a8"
             ],
             [
              0.3333333333333333,
              "#9c179e"
             ],
             [
              0.4444444444444444,
              "#bd3786"
             ],
             [
              0.5555555555555556,
              "#d8576b"
             ],
             [
              0.6666666666666666,
              "#ed7953"
             ],
             [
              0.7777777777777778,
              "#fb9f3a"
             ],
             [
              0.8888888888888888,
              "#fdca26"
             ],
             [
              1,
              "#f0f921"
             ]
            ],
            "type": "heatmapgl"
           }
          ],
          "histogram": [
           {
            "marker": {
             "pattern": {
              "fillmode": "overlay",
              "size": 10,
              "solidity": 0.2
             }
            },
            "type": "histogram"
           }
          ],
          "histogram2d": [
           {
            "colorbar": {
             "outlinewidth": 0,
             "ticks": ""
            },
            "colorscale": [
             [
              0,
              "#0d0887"
             ],
             [
              0.1111111111111111,
              "#46039f"
             ],
             [
              0.2222222222222222,
              "#7201a8"
             ],
             [
              0.3333333333333333,
              "#9c179e"
             ],
             [
              0.4444444444444444,
              "#bd3786"
             ],
             [
              0.5555555555555556,
              "#d8576b"
             ],
             [
              0.6666666666666666,
              "#ed7953"
             ],
             [
              0.7777777777777778,
              "#fb9f3a"
             ],
             [
              0.8888888888888888,
              "#fdca26"
             ],
             [
              1,
              "#f0f921"
             ]
            ],
            "type": "histogram2d"
           }
          ],
          "histogram2dcontour": [
           {
            "colorbar": {
             "outlinewidth": 0,
             "ticks": ""
            },
            "colorscale": [
             [
              0,
              "#0d0887"
             ],
             [
              0.1111111111111111,
              "#46039f"
             ],
             [
              0.2222222222222222,
              "#7201a8"
             ],
             [
              0.3333333333333333,
              "#9c179e"
             ],
             [
              0.4444444444444444,
              "#bd3786"
             ],
             [
              0.5555555555555556,
              "#d8576b"
             ],
             [
              0.6666666666666666,
              "#ed7953"
             ],
             [
              0.7777777777777778,
              "#fb9f3a"
             ],
             [
              0.8888888888888888,
              "#fdca26"
             ],
             [
              1,
              "#f0f921"
             ]
            ],
            "type": "histogram2dcontour"
           }
          ],
          "mesh3d": [
           {
            "colorbar": {
             "outlinewidth": 0,
             "ticks": ""
            },
            "type": "mesh3d"
           }
          ],
          "parcoords": [
           {
            "line": {
             "colorbar": {
              "outlinewidth": 0,
              "ticks": ""
             }
            },
            "type": "parcoords"
           }
          ],
          "pie": [
           {
            "automargin": true,
            "type": "pie"
           }
          ],
          "scatter": [
           {
            "fillpattern": {
             "fillmode": "overlay",
             "size": 10,
             "solidity": 0.2
            },
            "type": "scatter"
           }
          ],
          "scatter3d": [
           {
            "line": {
             "colorbar": {
              "outlinewidth": 0,
              "ticks": ""
             }
            },
            "marker": {
             "colorbar": {
              "outlinewidth": 0,
              "ticks": ""
             }
            },
            "type": "scatter3d"
           }
          ],
          "scattercarpet": [
           {
            "marker": {
             "colorbar": {
              "outlinewidth": 0,
              "ticks": ""
             }
            },
            "type": "scattercarpet"
           }
          ],
          "scattergeo": [
           {
            "marker": {
             "colorbar": {
              "outlinewidth": 0,
              "ticks": ""
             }
            },
            "type": "scattergeo"
           }
          ],
          "scattergl": [
           {
            "marker": {
             "colorbar": {
              "outlinewidth": 0,
              "ticks": ""
             }
            },
            "type": "scattergl"
           }
          ],
          "scattermapbox": [
           {
            "marker": {
             "colorbar": {
              "outlinewidth": 0,
              "ticks": ""
             }
            },
            "type": "scattermapbox"
           }
          ],
          "scatterpolar": [
           {
            "marker": {
             "colorbar": {
              "outlinewidth": 0,
              "ticks": ""
             }
            },
            "type": "scatterpolar"
           }
          ],
          "scatterpolargl": [
           {
            "marker": {
             "colorbar": {
              "outlinewidth": 0,
              "ticks": ""
             }
            },
            "type": "scatterpolargl"
           }
          ],
          "scatterternary": [
           {
            "marker": {
             "colorbar": {
              "outlinewidth": 0,
              "ticks": ""
             }
            },
            "type": "scatterternary"
           }
          ],
          "surface": [
           {
            "colorbar": {
             "outlinewidth": 0,
             "ticks": ""
            },
            "colorscale": [
             [
              0,
              "#0d0887"
             ],
             [
              0.1111111111111111,
              "#46039f"
             ],
             [
              0.2222222222222222,
              "#7201a8"
             ],
             [
              0.3333333333333333,
              "#9c179e"
             ],
             [
              0.4444444444444444,
              "#bd3786"
             ],
             [
              0.5555555555555556,
              "#d8576b"
             ],
             [
              0.6666666666666666,
              "#ed7953"
             ],
             [
              0.7777777777777778,
              "#fb9f3a"
             ],
             [
              0.8888888888888888,
              "#fdca26"
             ],
             [
              1,
              "#f0f921"
             ]
            ],
            "type": "surface"
           }
          ],
          "table": [
           {
            "cells": {
             "fill": {
              "color": "#EBF0F8"
             },
             "line": {
              "color": "white"
             }
            },
            "header": {
             "fill": {
              "color": "#C8D4E3"
             },
             "line": {
              "color": "white"
             }
            },
            "type": "table"
           }
          ]
         },
         "layout": {
          "annotationdefaults": {
           "arrowcolor": "#2a3f5f",
           "arrowhead": 0,
           "arrowwidth": 1
          },
          "autotypenumbers": "strict",
          "coloraxis": {
           "colorbar": {
            "outlinewidth": 0,
            "ticks": ""
           }
          },
          "colorscale": {
           "diverging": [
            [
             0,
             "#8e0152"
            ],
            [
             0.1,
             "#c51b7d"
            ],
            [
             0.2,
             "#de77ae"
            ],
            [
             0.3,
             "#f1b6da"
            ],
            [
             0.4,
             "#fde0ef"
            ],
            [
             0.5,
             "#f7f7f7"
            ],
            [
             0.6,
             "#e6f5d0"
            ],
            [
             0.7,
             "#b8e186"
            ],
            [
             0.8,
             "#7fbc41"
            ],
            [
             0.9,
             "#4d9221"
            ],
            [
             1,
             "#276419"
            ]
           ],
           "sequential": [
            [
             0,
             "#0d0887"
            ],
            [
             0.1111111111111111,
             "#46039f"
            ],
            [
             0.2222222222222222,
             "#7201a8"
            ],
            [
             0.3333333333333333,
             "#9c179e"
            ],
            [
             0.4444444444444444,
             "#bd3786"
            ],
            [
             0.5555555555555556,
             "#d8576b"
            ],
            [
             0.6666666666666666,
             "#ed7953"
            ],
            [
             0.7777777777777778,
             "#fb9f3a"
            ],
            [
             0.8888888888888888,
             "#fdca26"
            ],
            [
             1,
             "#f0f921"
            ]
           ],
           "sequentialminus": [
            [
             0,
             "#0d0887"
            ],
            [
             0.1111111111111111,
             "#46039f"
            ],
            [
             0.2222222222222222,
             "#7201a8"
            ],
            [
             0.3333333333333333,
             "#9c179e"
            ],
            [
             0.4444444444444444,
             "#bd3786"
            ],
            [
             0.5555555555555556,
             "#d8576b"
            ],
            [
             0.6666666666666666,
             "#ed7953"
            ],
            [
             0.7777777777777778,
             "#fb9f3a"
            ],
            [
             0.8888888888888888,
             "#fdca26"
            ],
            [
             1,
             "#f0f921"
            ]
           ]
          },
          "colorway": [
           "#636efa",
           "#EF553B",
           "#00cc96",
           "#ab63fa",
           "#FFA15A",
           "#19d3f3",
           "#FF6692",
           "#B6E880",
           "#FF97FF",
           "#FECB52"
          ],
          "font": {
           "color": "#2a3f5f"
          },
          "geo": {
           "bgcolor": "white",
           "lakecolor": "white",
           "landcolor": "white",
           "showlakes": true,
           "showland": true,
           "subunitcolor": "#C8D4E3"
          },
          "hoverlabel": {
           "align": "left"
          },
          "hovermode": "closest",
          "mapbox": {
           "style": "light"
          },
          "paper_bgcolor": "white",
          "plot_bgcolor": "white",
          "polar": {
           "angularaxis": {
            "gridcolor": "#EBF0F8",
            "linecolor": "#EBF0F8",
            "ticks": ""
           },
           "bgcolor": "white",
           "radialaxis": {
            "gridcolor": "#EBF0F8",
            "linecolor": "#EBF0F8",
            "ticks": ""
           }
          },
          "scene": {
           "xaxis": {
            "backgroundcolor": "white",
            "gridcolor": "#DFE8F3",
            "gridwidth": 2,
            "linecolor": "#EBF0F8",
            "showbackground": true,
            "ticks": "",
            "zerolinecolor": "#EBF0F8"
           },
           "yaxis": {
            "backgroundcolor": "white",
            "gridcolor": "#DFE8F3",
            "gridwidth": 2,
            "linecolor": "#EBF0F8",
            "showbackground": true,
            "ticks": "",
            "zerolinecolor": "#EBF0F8"
           },
           "zaxis": {
            "backgroundcolor": "white",
            "gridcolor": "#DFE8F3",
            "gridwidth": 2,
            "linecolor": "#EBF0F8",
            "showbackground": true,
            "ticks": "",
            "zerolinecolor": "#EBF0F8"
           }
          },
          "shapedefaults": {
           "line": {
            "color": "#2a3f5f"
           }
          },
          "ternary": {
           "aaxis": {
            "gridcolor": "#DFE8F3",
            "linecolor": "#A2B1C6",
            "ticks": ""
           },
           "baxis": {
            "gridcolor": "#DFE8F3",
            "linecolor": "#A2B1C6",
            "ticks": ""
           },
           "bgcolor": "white",
           "caxis": {
            "gridcolor": "#DFE8F3",
            "linecolor": "#A2B1C6",
            "ticks": ""
           }
          },
          "title": {
           "x": 0.05
          },
          "xaxis": {
           "automargin": true,
           "gridcolor": "#EBF0F8",
           "linecolor": "#EBF0F8",
           "ticks": "",
           "title": {
            "standoff": 15
           },
           "zerolinecolor": "#EBF0F8",
           "zerolinewidth": 2
          },
          "yaxis": {
           "automargin": true,
           "gridcolor": "#EBF0F8",
           "linecolor": "#EBF0F8",
           "ticks": "",
           "title": {
            "standoff": 15
           },
           "zerolinecolor": "#EBF0F8",
           "zerolinewidth": 2
          }
         }
        },
        "title": {
         "text": "<b>FScore vs Epoch</b>"
        },
        "width": 900,
        "xaxis": {
         "anchor": "y",
         "domain": [
          0,
          1
         ],
         "title": {
          "text": "<b>Epoch</b>"
         }
        },
        "yaxis": {
         "anchor": "x",
         "domain": [
          0,
          1
         ],
         "title": {
          "text": "Fscore"
         }
        }
       }
      }
     },
     "metadata": {},
     "output_type": "display_data"
    }
   ],
   "source": [
    "import plotly.io as pio\n",
    "import plotly.express as px\n",
    "\n",
    "fig = px.line(df, x='epoch', y='fscore', color='class', \n",
    "              title='<b>FScore vs Epoch</b>', \n",
    "              color_discrete_map={'Politics': 'rgb(152,152,152)',\n",
    "                                    'Health & Medicine': 'rgb(42,90,90)',\n",
    "                                    'Entertainment & Sport': 'rgb(116,170,156)'},\n",
    "              template='plotly_white')\n",
    "\n",
    "fig.update_layout(\n",
    "                  xaxis_title='<b>Epoch</b>', \n",
    "                  yaxis_title='Fscore', \n",
    "                  legend=dict(title='Class', \n",
    "                              title_font=dict(size=18), \n",
    "                              font=dict(size=18)),\n",
    "                  font=dict(family='Arial, sans-serif', size=18),\n",
    "                  width=900, height=600)\n",
    "\n",
    "# 使用 scatter 函数添加标记点\n",
    "markers_data = df[df['epoch'] == 9.0] # 找到 epoch 为 9 的数据\n",
    "scatter0 = px.scatter(\n",
    "    markers_data,\n",
    "    x='epoch',\n",
    "    y='fscore',\n",
    "    color='class',\n",
    "    text=['{}:{}'.format(row['class'], row['fscore']) for i, row in markers_data.iterrows()],\n",
    "    hover_data=['class', 'fscore']\n",
    ")\n",
    "scatter0.update_traces(marker=dict(size=10,color='rgb(42,90,90)'), textposition=['top left', 'bottom left', 'top left'])\n",
    "scatter0.data[2].textposition = 'bottom left'\n",
    "fig.add_trace(scatter0.data[0])\n",
    "fig.add_trace(scatter0.data[1])\n",
    "fig.add_trace(scatter0.data[2])\n",
    "\n",
    "fig.show()\n",
    "pio.write_image(fig, 'images/FScore vs Epoch.png', scale=2, \n",
    "                format='png')"
   ]
  },
  {
   "attachments": {},
   "cell_type": "markdown",
   "metadata": {},
   "source": [
    "## **Model Loading**"
   ]
  },
  {
   "cell_type": "code",
   "execution_count": 29,
   "metadata": {},
   "outputs": [],
   "source": [
    "import torch\n",
    "from transformers import AutoTokenizer\n",
    "\n",
    "tokenizer = AutoTokenizer.from_pretrained('hfl/chinese-bert-wwm-ext')"
   ]
  },
  {
   "cell_type": "code",
   "execution_count": 30,
   "metadata": {},
   "outputs": [],
   "source": [
    "import numpy as np\n",
    "import torch\n",
    "import torch.nn as nn\n",
    "import torch.nn.functional as F\n",
    "from torch.autograd import Function\n",
    "import math\n",
    "\n",
    "class MLP(torch.nn.Module):\n",
    "\n",
    "    def __init__(self, input_dim, embed_dims, dropout, output_layer=True):\n",
    "        super().__init__()\n",
    "        layers = list()\n",
    "        for embed_dim in embed_dims:\n",
    "            layers.append(torch.nn.Linear(input_dim, embed_dim))\n",
    "            layers.append(torch.nn.BatchNorm1d(embed_dim))\n",
    "            layers.append(torch.nn.ReLU())\n",
    "            layers.append(torch.nn.Dropout(p=dropout))\n",
    "            input_dim = embed_dim\n",
    "        if output_layer:\n",
    "            layers.append(torch.nn.Linear(input_dim, 1))\n",
    "        self.mlp = torch.nn.Sequential(*layers)\n",
    "\n",
    "    def forward(self, x):\n",
    "        \"\"\"\n",
    "        :param x: Float tensor of size ``(batch_size, embed_dim)``\n",
    "        \"\"\"\n",
    "        return self.mlp(x)\n",
    "\n",
    "class cnn_extractor(nn.Module):\n",
    "    def __init__(self, feature_kernel, input_size):\n",
    "        super(cnn_extractor, self).__init__()\n",
    "        self.convs = torch.nn.ModuleList(\n",
    "            [torch.nn.Conv1d(input_size, feature_num, kernel)\n",
    "             for kernel, feature_num in feature_kernel.items()])\n",
    "        input_shape = sum([feature_kernel[kernel] for kernel in feature_kernel])\n",
    "\n",
    "    def forward(self, input_data):\n",
    "        share_input_data = input_data.permute(0, 2, 1)\n",
    "        feature = [conv(share_input_data) for conv in self.convs]\n",
    "        feature = [torch.max_pool1d(f, f.shape[-1]) for f in feature]\n",
    "        feature = torch.cat(feature, dim=1)\n",
    "        feature = feature.view([-1, feature.shape[1]])\n",
    "        return feature\n",
    "\n",
    "class MaskAttention(torch.nn.Module):\n",
    "    \"\"\"\n",
    "    Compute attention layer\n",
    "    \"\"\"\n",
    "    def __init__(self, input_shape):\n",
    "        super(MaskAttention, self).__init__()\n",
    "        self.attention_layer = torch.nn.Linear(input_shape, 1)\n",
    "\n",
    "    def forward(self, inputs, mask=None):\n",
    "        scores = self.attention_layer(inputs).view(-1, inputs.size(1))\n",
    "        if mask is not None:\n",
    "            scores = scores.masked_fill(mask == 0, float(\"-inf\"))\n",
    "        scores = torch.softmax(scores, dim=-1).unsqueeze(1)\n",
    "        outputs = torch.matmul(scores, inputs).squeeze(1)\n",
    "        return outputs, scores\n",
    "\n",
    "class Attention(torch.nn.Module):\n",
    "    \"\"\"\n",
    "    Compute 'Scaled Dot Product Attention\n",
    "    \"\"\"\n",
    "\n",
    "    def forward(self, query, key, value, mask=None, dropout=None):\n",
    "        scores = torch.matmul(query, key.transpose(-2, -1)) \\\n",
    "                 / math.sqrt(query.size(-1))\n",
    "\n",
    "        if mask is not None:\n",
    "            scores = scores.masked_fill(mask == 0, float(\"-inf\"))\n",
    "\n",
    "        p_attn = F.softmax(scores, dim=-1)\n",
    "\n",
    "        if dropout is not None:\n",
    "            p_attn = dropout(p_attn)\n",
    "\n",
    "        return torch.matmul(p_attn, value), p_attn\n",
    "\n",
    "class MultiHeadedAttention(torch.nn.Module):\n",
    "    \"\"\"\n",
    "    Take in model size and number of heads.\n",
    "    \"\"\"\n",
    "\n",
    "    def __init__(self, h, d_model, dropout=0.1):\n",
    "        super(MultiHeadedAttention, self).__init__()\n",
    "        assert d_model % h == 0\n",
    "\n",
    "        # We assume d_v always equals d_k\n",
    "        self.d_k = d_model // h\n",
    "        self.h = h\n",
    "\n",
    "        self.linear_layers = torch.nn.ModuleList([torch.nn.Linear(d_model, d_model) for _ in range(3)])\n",
    "        self.output_linear = torch.nn.Linear(d_model, d_model)\n",
    "        self.attention = Attention()\n",
    "\n",
    "        self.dropout = nn.Dropout(p=dropout)\n",
    "\n",
    "    def forward(self, query, key, value, mask=None):\n",
    "        batch_size = query.size(0)\n",
    "        if mask is not None:\n",
    "            mask = mask.repeat(1, self.h, 1, 1)\n",
    "        # 1) Do all the linear projections in batch from d_model => h x d_k\n",
    "        query, key, value = [l(x).view(batch_size, -1, self.h, self.d_k).transpose(1, 2)\n",
    "                             for l, x in zip(self.linear_layers, (query, key, value))]\n",
    "\n",
    "        # 2) Apply attention on all the projected vectors in batch.\n",
    "        x, attn = self.attention(query, key, value, mask=mask, dropout=self.dropout)\n",
    "\n",
    "        # 3) \"Concat\" using a view and apply a final linear.\n",
    "        x = x.transpose(1, 2).contiguous().view(batch_size, -1, self.h * self.d_k)\n",
    "\n",
    "        return self.output_linear(x), attn\n",
    "\n",
    "class SelfAttentionFeatureExtract(torch.nn.Module):\n",
    "    def __init__(self, multi_head_num, input_size, output_size):\n",
    "        super(SelfAttentionFeatureExtract, self).__init__()\n",
    "        self.attention = MultiHeadedAttention(multi_head_num, input_size)\n",
    "        self.out_layer = torch.nn.Linear(input_size, output_size)\n",
    "    def forward(self, inputs, query, mask=None):\n",
    "        mask = mask.view(mask.size(0), 1, 1, mask.size(-1))\n",
    "\n",
    "        feature, attn = self.attention(query=query,\n",
    "                                 value=inputs,\n",
    "                                 key=inputs,\n",
    "                                 mask=mask\n",
    "                                 )\n",
    "        feature = feature.contiguous().view([-1, feature.size(-1)])\n",
    "        out = self.out_layer(feature)\n",
    "        return out, attn\n"
   ]
  },
  {
   "cell_type": "code",
   "execution_count": 31,
   "metadata": {},
   "outputs": [],
   "source": [
    "class MultiDomainFENDModel(torch.nn.Module):\n",
    "    def __init__(self, emb_dim, mlp_dims, domain_num, dropout, dataset):\n",
    "        super(MultiDomainFENDModel, self).__init__()\n",
    "        self.domain_num = domain_num\n",
    "        self.gamma = 10\n",
    "        self.num_expert = 5\n",
    "        self.fea_size =256\n",
    "        if dataset == 'ch':\n",
    "            self.bert = BertModel.from_pretrained('hfl/chinese-bert-wwm-ext').requires_grad_(False)\n",
    "        elif dataset == 'en':\n",
    "            self.bert = RobertaModel.from_pretrained('roberta-base').requires_grad_(False)\n",
    "        \n",
    "        feature_kernel = {1: 64, 2: 64, 3: 64, 5: 64, 10: 64}\n",
    "        expert = []\n",
    "        for i in range(self.num_expert):\n",
    "            expert.append(cnn_extractor(feature_kernel, emb_dim))\n",
    "        self.expert = nn.ModuleList(expert)\n",
    "\n",
    "        self.gate = nn.Sequential(nn.Linear(emb_dim, mlp_dims[-1]),\n",
    "                                      nn.ReLU(),\n",
    "                                      nn.Linear(mlp_dims[-1], self.num_expert),\n",
    "                                      nn.Softmax(dim = 1))\n",
    "\n",
    "        self.attention = MaskAttention(emb_dim)\n",
    "\n",
    "        self.domain_embedder = nn.Embedding(num_embeddings = self.domain_num, embedding_dim = emb_dim)\n",
    "        self.specific_extractor = SelfAttentionFeatureExtract(multi_head_num = 1, input_size=emb_dim, output_size=self.fea_size)\n",
    "        self.classifier = MLP(320, mlp_dims, dropout)\n",
    "        \n",
    "    \n",
    "    def forward(self, **kwargs):\n",
    "        inputs = kwargs['content']\n",
    "        masks = kwargs['content_masks']\n",
    "        category = kwargs['category']\n",
    "        init_feature = self.bert(inputs, attention_mask = masks).last_hidden_state\n",
    "        \n",
    "        feature, _ = self.attention(init_feature, masks)\n",
    "        idxs = torch.tensor([index for index in category]).view(-1, 1).cuda()\n",
    "        domain_embedding = self.domain_embedder(idxs).squeeze(1)\n",
    "\n",
    "        gate_value = self.gate(domain_embedding)\n",
    "\n",
    "        shared_feature = 0\n",
    "        for i in range(self.num_expert):\n",
    "            tmp_feature = self.expert[i](init_feature)\n",
    "            shared_feature += (tmp_feature * gate_value[:, i].unsqueeze(1))\n",
    "\n",
    "        label_pred = self.classifier(shared_feature)\n",
    "\n",
    "        return torch.sigmoid(label_pred.squeeze(1))"
   ]
  },
  {
   "cell_type": "code",
   "execution_count": 32,
   "metadata": {},
   "outputs": [],
   "source": [
    "class Trainer():\n",
    "    def __init__(self,\n",
    "                 emb_dim,\n",
    "                 mlp_dims,\n",
    "                 use_cuda,\n",
    "                 lr,\n",
    "                 dropout,\n",
    "                 train_loader,\n",
    "                 val_loader,\n",
    "                 test_loader,\n",
    "                 category_dict,\n",
    "                 weight_decay,\n",
    "                 save_param_dir,\n",
    "                 dataset,\n",
    "                 early_stop = 5,\n",
    "                 epoches = 100\n",
    "                 ):\n",
    "        self.lr = lr\n",
    "        self.weight_decay = weight_decay\n",
    "        self.train_loader = train_loader\n",
    "        self.test_loader = test_loader\n",
    "        self.val_loader = val_loader\n",
    "        self.early_stop = early_stop\n",
    "        self.epoches = epoches\n",
    "        self.category_dict = category_dict\n",
    "        self.use_cuda = use_cuda\n",
    "        self.dataset = dataset\n",
    "\n",
    "        self.emb_dim = emb_dim\n",
    "        self.mlp_dims = mlp_dims\n",
    "        self.dropout = dropout\n",
    "        \n",
    "        if os.path.exists(save_param_dir):\n",
    "            self.save_param_dir = save_param_dir\n",
    "        else:\n",
    "            self.save_param_dir = save_param_dir\n",
    "            os.makedirs(save_param_dir)\n",
    "        \n",
    "\n",
    "    def train(self, logger = None):\n",
    "        if(logger):\n",
    "            logger.info('start training......')\n",
    "        self.model = MultiDomainFENDModel(self.emb_dim, self.mlp_dims, len(self.category_dict), self.dropout, self.dataset)\n",
    "        if self.use_cuda:\n",
    "            self.model = self.model.cuda()\n",
    "        loss_fn = torch.nn.BCELoss()\n",
    "        optimizer = torch.optim.Adam(params=self.model.parameters(), lr=self.lr, weight_decay=self.weight_decay)\n",
    "        recorder = Recorder(self.early_stop)\n",
    "        scheduler = torch.optim.lr_scheduler.StepLR(optimizer, step_size = 100, gamma = 0.98)\n",
    "        for epoch in range(self.epoches):\n",
    "            self.model.train()\n",
    "            train_data_iter = tqdm.tqdm(self.train_loader)\n",
    "            avg_loss = Averager()\n",
    "\n",
    "            for step_n, batch in enumerate(train_data_iter):\n",
    "                batch_data = data2gpu(batch, self.use_cuda)\n",
    "                label = batch_data['label']\n",
    "                category = batch_data['category']\n",
    "                optimizer.zero_grad()\n",
    "                label_pred = self.model(**batch_data)\n",
    "                loss =  loss_fn(label_pred, label.float()) \n",
    "                optimizer.zero_grad()\n",
    "                loss.backward()\n",
    "                optimizer.step()\n",
    "                if(scheduler is not None):\n",
    "                    scheduler.step()\n",
    "                avg_loss.add(loss.item())\n",
    "                \n",
    "            print('Training Epoch {}; Loss {}; '.format(epoch + 1, avg_loss.item()))\n",
    "            status = '[{0}] lr = {1}; batch_loss = {2}; average_loss = {3}'.format(epoch, str(self.lr), loss.item(), avg_loss.item())\n",
    "\n",
    "            results = self.test(self.val_loader)\n",
    "            mark = recorder.add(results)\n",
    "            if mark == 'save':\n",
    "                torch.save(self.model.state_dict(),\n",
    "                    os.path.join(self.save_param_dir, 'parameter_mdfend.pkl'))\n",
    "                best_metric = results['metric']\n",
    "            elif mark == 'esc':\n",
    "                break\n",
    "            else:\n",
    "                continue\n",
    "        self.model.load_state_dict(torch.load(os.path.join(self.save_param_dir, 'parameter_mdfend.pkl')))\n",
    "        results = self.test(self.test_loader)\n",
    "        if(logger):\n",
    "            logger.info(\"start testing......\")\n",
    "            logger.info(\"test score: {}\\n\\n\".format(results))\n",
    "        print(results)\n",
    "        return results, os.path.join(self.save_param_dir, 'parameter_mdfend.pkl')\n",
    "\n",
    "    def test(self, dataloader):\n",
    "        pred = []\n",
    "        label = []\n",
    "        category = []\n",
    "        self.model.eval()\n",
    "        data_iter = tqdm.tqdm(dataloader)\n",
    "        for step_n, batch in enumerate(data_iter):\n",
    "            with torch.no_grad():\n",
    "                batch_data = data2gpu(batch, self.use_cuda)\n",
    "                batch_label = batch_data['label']\n",
    "                batch_category = batch_data['category']\n",
    "                batch_label_pred = self.model(**batch_data)\n",
    "\n",
    "                label.extend(batch_label.detach().cpu().numpy().tolist())\n",
    "                pred.extend(batch_label_pred.detach().cpu().numpy().tolist())\n",
    "                category.extend(batch_category.detach().cpu().numpy().tolist())\n",
    "        \n",
    "        return metrics(label, pred, category, self.category_dict)"
   ]
  },
  {
   "cell_type": "code",
   "execution_count": 33,
   "metadata": {},
   "outputs": [
    {
     "name": "stderr",
     "output_type": "stream",
     "text": [
      "Some weights of the model checkpoint at hfl/chinese-bert-wwm-ext were not used when initializing BertModel: ['cls.predictions.transform.dense.bias', 'cls.predictions.transform.LayerNorm.bias', 'cls.predictions.bias', 'cls.predictions.decoder.weight', 'cls.predictions.transform.LayerNorm.weight', 'cls.seq_relationship.weight', 'cls.predictions.transform.dense.weight', 'cls.seq_relationship.bias']\n",
      "- This IS expected if you are initializing BertModel from the checkpoint of a model trained on another task or with another architecture (e.g. initializing a BertForSequenceClassification model from a BertForPreTraining model).\n",
      "- This IS NOT expected if you are initializing BertModel from the checkpoint of a model that you expect to be exactly identical (initializing a BertForSequenceClassification model from a BertForSequenceClassification model).\n"
     ]
    },
    {
     "data": {
      "text/plain": [
       "<All keys matched successfully>"
      ]
     },
     "execution_count": 33,
     "metadata": {},
     "output_type": "execute_result"
    }
   ],
   "source": [
    "import os\n",
    "import torch\n",
    "from torch.autograd import Variable\n",
    "import tqdm\n",
    "import torch.nn as nn\n",
    "import numpy as np\n",
    "from sklearn.metrics import *\n",
    "from transformers import BertModel\n",
    "from transformers import RobertaModel\n",
    "from utils.utils import data2gpu, Averager, metrics, Recorder\n",
    "import logging\n",
    "\n",
    "model_test = MultiDomainFENDModel(emb_dim = 768, mlp_dims = [384], domain_num = 3, dropout = 0.2, dataset = 'ch')\n",
    "model_test.use_cuda = True\n",
    "model_test.load_state_dict(torch.load('param_model/mdfend/parameter_mdfend.pkl'))"
   ]
  },
  {
   "attachments": {},
   "cell_type": "markdown",
   "metadata": {},
   "source": [
    "## **Model Perdiction**"
   ]
  },
  {
   "cell_type": "code",
   "execution_count": 34,
   "metadata": {},
   "outputs": [],
   "source": [
    "def pipeline_predict(model_test,text,category_label,pred):\n",
    "    # 将文本标记化为tokens\n",
    "    tokens = tokenizer.tokenize(text)\n",
    "\n",
    "    # 将tokens转换成tokens ID\n",
    "    tokens_ids = tokenizer.convert_tokens_to_ids(tokens)\n",
    "\n",
    "    # 将tokens id 加上特殊的token（[CLS]）和([SEP]） 用于序列分类任务,例如:\n",
    "\n",
    "    input_ids = tokenizer.encode(text, add_special_tokens=True)\n",
    "    max_length = 512\n",
    "\n",
    "    # 如果文本长度超过了最大长度，截断文本\n",
    "    if len(input_ids) > max_length:\n",
    "        input_ids = input_ids[:max_length]\n",
    "\n",
    "    # 如果文本长度不足，则使用填充文本ID（0）填充，使其长度达到最大长度\n",
    "    else:\n",
    "        padding_length = max_length - len(input_ids)\n",
    "        input_ids = input_ids + [0] * padding_length\n",
    "\n",
    "    input_ids = torch.tensor([input_ids])\n",
    "\n",
    "    # 对content进行mask处理\n",
    "    attention_masks = torch.ones_like(input_ids)\n",
    "\n",
    "    # 假设您要对新内容进行预测的类别是1\n",
    "    if category_label == 'International Politics':\n",
    "        category = 0\n",
    "    elif category_label == 'Entertainment & Sport':\n",
    "        category = 2\n",
    "    elif category_label == 'Health & Medicine':\n",
    "        category = 1\n",
    "\n",
    "    # 将输入移动到GPU上（如果可用）\n",
    "\n",
    "    input_ids = input_ids.to('cuda')\n",
    "    attention_masks = attention_masks.to('cuda')\n",
    "    category = torch.tensor([category]).to('cuda')\n",
    "\n",
    "    # 将模型的输入封装为一个字典，以便传递给模型\n",
    "    inputs = dict({'content': input_ids, 'content_masks': attention_masks, 'category': category})\n",
    "\n",
    "    model_test = model_test.cuda()\n",
    "    model_test = model_test.eval()\n",
    "    # 进行预测\n",
    "    with torch.no_grad():\n",
    "        outputs = model_test(**inputs)\n",
    "        pred.append(outputs.detach().cpu().numpy().tolist()[0])"
   ]
  },
  {
   "cell_type": "code",
   "execution_count": 35,
   "metadata": {},
   "outputs": [
    {
     "data": {
      "text/html": [
       "<div>\n",
       "<style scoped>\n",
       "    .dataframe tbody tr th:only-of-type {\n",
       "        vertical-align: middle;\n",
       "    }\n",
       "\n",
       "    .dataframe tbody tr th {\n",
       "        vertical-align: top;\n",
       "    }\n",
       "\n",
       "    .dataframe thead th {\n",
       "        text-align: right;\n",
       "    }\n",
       "</style>\n",
       "<table border=\"1\" class=\"dataframe\">\n",
       "  <thead>\n",
       "    <tr style=\"text-align: right;\">\n",
       "      <th></th>\n",
       "      <th>Category</th>\n",
       "      <th>Media</th>\n",
       "      <th>Fact</th>\n",
       "      <th>Generated News</th>\n",
       "      <th>Subjective Commentry</th>\n",
       "      <th>Basic Faults</th>\n",
       "      <th>Additional Faults</th>\n",
       "    </tr>\n",
       "  </thead>\n",
       "  <tbody>\n",
       "    <tr>\n",
       "      <th>0</th>\n",
       "      <td>International Politics</td>\n",
       "      <td>Hong Kong 01</td>\n",
       "      <td>1</td>\n",
       "      <td>据報導，特朗普支持者从早晨开始集结在國會大厦附近，庞大的人群激动地高喊着口号，不断挑衅警方，...</td>\n",
       "      <td>Yes</td>\n",
       "      <td>Time not mentioned|</td>\n",
       "      <td>NaN</td>\n",
       "    </tr>\n",
       "    <tr>\n",
       "      <th>1</th>\n",
       "      <td>International Politics</td>\n",
       "      <td>Hong Kong 01</td>\n",
       "      <td>1</td>\n",
       "      <td>這場政變的引爆源頭是敗選的總統特朗普和一些支持他的共和黨人，他們指控選舉舞弊，不惜煽動支持者...</td>\n",
       "      <td>Yes</td>\n",
       "      <td>Time not mentioned|特朗普被指控犯有暴動罪|</td>\n",
       "      <td>比爾·巴爾的選舉舞弊指控|</td>\n",
       "    </tr>\n",
       "    <tr>\n",
       "      <th>2</th>\n",
       "      <td>International Politics</td>\n",
       "      <td>Hong Kong 01</td>\n",
       "      <td>1</td>\n",
       "      <td>今日，美國持續發酵的政治危機再度引發全球關注。2020年選舉敗選總統特朗普的支持者，天真地相...</td>\n",
       "      <td>Yes</td>\n",
       "      <td>Time not mentioned|</td>\n",
       "      <td>國民警衛軍緊急出動，發射催淚彈與橡膠子彈鎮壓暴力行動|</td>\n",
       "    </tr>\n",
       "    <tr>\n",
       "      <th>3</th>\n",
       "      <td>International Politics</td>\n",
       "      <td>Hong Kong 01</td>\n",
       "      <td>1</td>\n",
       "      <td>這場突發事件癱瘓了美國的立法機構，不僅讓國會議員們驚恐失措，更讓國際社會大為震驚。\\n\\n自...</td>\n",
       "      <td>No</td>\n",
       "      <td>NaN</td>\n",
       "      <td>白宮發言人表示，總統拜登認為這是一個“暴力攻擊政府”的事件|</td>\n",
       "    </tr>\n",
       "    <tr>\n",
       "      <th>4</th>\n",
       "      <td>International Politics</td>\n",
       "      <td>Hong Kong 01</td>\n",
       "      <td>1</td>\n",
       "      <td>特朗普支持者衝擊國會，美國陷入政變\\n\\n美國時間1月6日，敗選總統特朗普的支持者佔領了國會...</td>\n",
       "      <td>Yes</td>\n",
       "      <td>NaN</td>\n",
       "      <td>美國共和國|</td>\n",
       "    </tr>\n",
       "    <tr>\n",
       "      <th>...</th>\n",
       "      <td>...</td>\n",
       "      <td>...</td>\n",
       "      <td>...</td>\n",
       "      <td>...</td>\n",
       "      <td>...</td>\n",
       "      <td>...</td>\n",
       "      <td>...</td>\n",
       "    </tr>\n",
       "    <tr>\n",
       "      <th>445</th>\n",
       "      <td>Health &amp; Medicine</td>\n",
       "      <td>Xinhua News Agency</td>\n",
       "      <td>15</td>\n",
       "      <td>6月18日，以色列研究人员在预印本网站医学论文档案网上发布最新研究报告称，缺乏维生素D的人如...</td>\n",
       "      <td>Yes</td>\n",
       "      <td>这项研究是由以色列Tel Aviv大学的研究人员和以色列克拉维火炬科技公司展开的|约有50%...</td>\n",
       "      <td>NaN</td>\n",
       "    </tr>\n",
       "    <tr>\n",
       "      <th>446</th>\n",
       "      <td>Health &amp; Medicine</td>\n",
       "      <td>Xinhua News Agency</td>\n",
       "      <td>15</td>\n",
       "      <td>以色列研究人员近日发布了一份有关新冠疫情的医学论文，在该论文中，他们指出缺乏维生素D的人如果...</td>\n",
       "      <td>Yes</td>\n",
       "      <td>这项研究基于约780名新冠肺炎患者的调查|Time Not Mentioned| 研究人员在...</td>\n",
       "      <td>NaN</td>\n",
       "    </tr>\n",
       "    <tr>\n",
       "      <th>447</th>\n",
       "      <td>Health &amp; Medicine</td>\n",
       "      <td>Xinhua News Agency</td>\n",
       "      <td>15</td>\n",
       "      <td>近日，以色列研究人员在美国预印本网站医学论文档案网上发表了一篇报告，称如果缺乏维生素D，感染...</td>\n",
       "      <td>Yes</td>\n",
       "      <td>对以色列南部贝尔谢巴的一组新冠感染者进行了跟踪研究，其中包括了大约780名新冠感染者|仍有超...</td>\n",
       "      <td>NaN</td>\n",
       "    </tr>\n",
       "    <tr>\n",
       "      <th>448</th>\n",
       "      <td>Health &amp; Medicine</td>\n",
       "      <td>Xinhua News Agency</td>\n",
       "      <td>15</td>\n",
       "      <td>随着新冠疫情在全球蔓延，许多科学家和医生都在努力研究影响感染后发展的因素。而以色列研究人员最...</td>\n",
       "      <td>Yes</td>\n",
       "      <td>Time Not Mentioned|</td>\n",
       "      <td>许多专家和医生发起了一项名为“独处日晒计划”的倡议|</td>\n",
       "    </tr>\n",
       "    <tr>\n",
       "      <th>449</th>\n",
       "      <td>Health &amp; Medicine</td>\n",
       "      <td>Xinhua News Agency</td>\n",
       "      <td>15</td>\n",
       "      <td>2021年6月18日，以色列研究人员在美国预印本网站医学论文档案网上发布了一份有关新冠病毒和...</td>\n",
       "      <td>Yes</td>\n",
       "      <td>NaN</td>\n",
       "      <td>NaN</td>\n",
       "    </tr>\n",
       "  </tbody>\n",
       "</table>\n",
       "<p>450 rows × 7 columns</p>\n",
       "</div>"
      ],
      "text/plain": [
       "                   Category               Media  Fact  \\\n",
       "0    International Politics        Hong Kong 01     1   \n",
       "1    International Politics        Hong Kong 01     1   \n",
       "2    International Politics        Hong Kong 01     1   \n",
       "3    International Politics        Hong Kong 01     1   \n",
       "4    International Politics        Hong Kong 01     1   \n",
       "..                      ...                 ...   ...   \n",
       "445       Health & Medicine  Xinhua News Agency    15   \n",
       "446       Health & Medicine  Xinhua News Agency    15   \n",
       "447       Health & Medicine  Xinhua News Agency    15   \n",
       "448       Health & Medicine  Xinhua News Agency    15   \n",
       "449       Health & Medicine  Xinhua News Agency    15   \n",
       "\n",
       "                                        Generated News Subjective Commentry  \\\n",
       "0    据報導，特朗普支持者从早晨开始集结在國會大厦附近，庞大的人群激动地高喊着口号，不断挑衅警方，...                  Yes   \n",
       "1    這場政變的引爆源頭是敗選的總統特朗普和一些支持他的共和黨人，他們指控選舉舞弊，不惜煽動支持者...                  Yes   \n",
       "2    今日，美國持續發酵的政治危機再度引發全球關注。2020年選舉敗選總統特朗普的支持者，天真地相...                  Yes   \n",
       "3    這場突發事件癱瘓了美國的立法機構，不僅讓國會議員們驚恐失措，更讓國際社會大為震驚。\\n\\n自...                   No   \n",
       "4    特朗普支持者衝擊國會，美國陷入政變\\n\\n美國時間1月6日，敗選總統特朗普的支持者佔領了國會...                  Yes   \n",
       "..                                                 ...                  ...   \n",
       "445  6月18日，以色列研究人员在预印本网站医学论文档案网上发布最新研究报告称，缺乏维生素D的人如...                  Yes   \n",
       "446  以色列研究人员近日发布了一份有关新冠疫情的医学论文，在该论文中，他们指出缺乏维生素D的人如果...                  Yes   \n",
       "447  近日，以色列研究人员在美国预印本网站医学论文档案网上发表了一篇报告，称如果缺乏维生素D，感染...                  Yes   \n",
       "448  随着新冠疫情在全球蔓延，许多科学家和医生都在努力研究影响感染后发展的因素。而以色列研究人员最...                  Yes   \n",
       "449  2021年6月18日，以色列研究人员在美国预印本网站医学论文档案网上发布了一份有关新冠病毒和...                  Yes   \n",
       "\n",
       "                                          Basic Faults  \\\n",
       "0                                  Time not mentioned|   \n",
       "1                      Time not mentioned|特朗普被指控犯有暴動罪|   \n",
       "2                                  Time not mentioned|   \n",
       "3                                                  NaN   \n",
       "4                                                  NaN   \n",
       "..                                                 ...   \n",
       "445  这项研究是由以色列Tel Aviv大学的研究人员和以色列克拉维火炬科技公司展开的|约有50%...   \n",
       "446  这项研究基于约780名新冠肺炎患者的调查|Time Not Mentioned| 研究人员在...   \n",
       "447  对以色列南部贝尔谢巴的一组新冠感染者进行了跟踪研究，其中包括了大约780名新冠感染者|仍有超...   \n",
       "448                                Time Not Mentioned|   \n",
       "449                                                NaN   \n",
       "\n",
       "                  Additional Faults  \n",
       "0                               NaN  \n",
       "1                     比爾·巴爾的選舉舞弊指控|  \n",
       "2       國民警衛軍緊急出動，發射催淚彈與橡膠子彈鎮壓暴力行動|  \n",
       "3    白宮發言人表示，總統拜登認為這是一個“暴力攻擊政府”的事件|  \n",
       "4                            美國共和國|  \n",
       "..                              ...  \n",
       "445                             NaN  \n",
       "446                             NaN  \n",
       "447                             NaN  \n",
       "448      许多专家和医生发起了一项名为“独处日晒计划”的倡议|  \n",
       "449                             NaN  \n",
       "\n",
       "[450 rows x 7 columns]"
      ]
     },
     "execution_count": 35,
     "metadata": {},
     "output_type": "execute_result"
    }
   ],
   "source": [
    "df_generate = pd.read_csv('dataset/news_generated_data_final.csv')\n",
    "df_generate"
   ]
  },
  {
   "cell_type": "code",
   "execution_count": 36,
   "metadata": {},
   "outputs": [
    {
     "name": "stdout",
     "output_type": "stream",
     "text": [
      "[0.27055487036705017, 0.10012651234865189, 0.7557228803634644, 0.059726398438215256, 0.12758107483386993, 0.6848713755607605, 0.07645699381828308, 0.03800411522388458, 0.031607240438461304, 0.09099628031253815, 0.29936692118644714, 0.022602660581469536, 0.38221997022628784, 0.004182247910648584, 0.22546769678592682, 0.04069480299949646, 0.015923358500003815, 0.1269039362668991, 0.01976020634174347, 0.026314057409763336, 0.06034594774246216, 0.020908020436763763, 0.03304491564631462, 0.1104198768734932, 0.09116523712873459, 0.11934942752122879, 0.03490137308835983, 0.1184963658452034, 0.9348914623260498, 0.10208331048488617, 0.13673511147499084, 0.049245450645685196, 0.1547461748123169, 0.05090382322669029, 0.033004578202962875, 0.1329602599143982, 0.03783788904547691, 0.015191418118774891, 0.08119356632232666, 0.039182934910058975, 0.8914437890052795, 0.8805675506591797, 0.16914963722229004, 0.855522871017456, 0.2535132169723511, 0.06919129937887192, 0.10310370475053787, 0.1804322451353073, 0.14127591252326965, 0.738839328289032, 0.04636887460947037, 0.10675126314163208, 0.11636762320995331, 0.6992644667625427, 0.0811040922999382, 0.14843545854091644, 0.031024077907204628, 0.017264235764741898, 0.020951751619577408, 0.05527894198894501, 0.012926623225212097, 0.016969535499811172, 0.13603992760181427, 0.05278269574046135, 0.0980074480175972, 0.024165205657482147, 0.12358255684375763, 0.03472454473376274, 0.24707145988941193, 0.03281751647591591, 0.06121257320046425, 0.08058764785528183, 0.2028181254863739, 0.04451592266559601, 0.05600249394774437, 0.011498361825942993, 0.05258262902498245, 0.015459943562746048, 0.04741373658180237, 0.019119078293442726, 0.6532736420631409, 0.8751829862594604, 0.36838874220848083, 0.649685263633728, 0.6279063820838928, 0.9877933859825134, 0.7900224328041077, 0.3562120199203491, 0.9210747480392456, 0.5652267336845398, 0.6607925891876221, 0.12350302189588547, 0.06948781758546829, 0.20577393472194672, 0.2188902497291565, 0.7695977091789246, 0.33322983980178833, 0.39711710810661316, 0.41693753004074097, 0.11500996351242065, 0.3148708939552307, 0.13418754935264587, 0.08760827034711838, 0.1647336483001709, 0.22724802792072296, 0.3064315915107727, 0.3463667631149292, 0.3910380005836487, 0.0864853486418724, 0.15378698706626892, 0.2765631079673767, 0.23210430145263672, 0.46672213077545166, 0.5082436800003052, 0.3016212582588196, 0.21379169821739197, 0.18783393502235413, 0.1560484766960144, 0.3374019265174866, 0.09893494099378586, 0.19731929898262024, 0.10552824288606644, 0.024521861225366592, 0.06875316053628922, 0.03789670392870903, 0.08965955674648285, 0.09065530449151993, 0.059719134122133255, 0.2300540953874588, 0.02852189913392067, 0.02202765829861164, 0.038267120718955994, 0.029852082952857018, 0.011908949352800846, 0.03450951352715492, 0.05624179542064667, 0.010151922702789307, 0.01609857566654682, 0.014719247817993164, 0.015059423632919788, 0.00971115380525589, 0.004314798396080732, 0.0024063040036708117, 0.005962385330349207, 0.006851641461253166, 0.008993576280772686, 0.0158558189868927, 0.02224361151456833, 0.004465029574930668, 0.02491515502333641, 0.16332314908504486, 0.31370994448661804, 0.10738871991634369, 0.15724027156829834, 0.04248330369591713, 0.08834558725357056, 0.06301091611385345, 0.2474430650472641, 0.36887407302856445, 0.10816233605146408, 0.04628295451402664, 0.18979257345199585, 0.06891544163227081, 0.20425458252429962, 0.22312511503696442, 0.19330544769763947, 0.14604981243610382, 0.11999313533306122, 0.2172408550977707, 0.16219228506088257, 0.2994820475578308, 0.07728520780801773, 0.2994064390659332, 0.06047898903489113, 0.135557621717453, 0.23174501955509186, 0.07391144335269928, 0.09717578440904617, 0.09039691835641861, 0.20089799165725708, 0.035979121923446655, 0.16757318377494812, 0.26907193660736084, 0.13542908430099487, 0.07215125113725662, 0.05172925442457199, 0.08400552719831467, 0.06951183825731277, 0.2048710584640503, 0.2473904937505722, 0.08022598177194595, 0.06134619191288948, 0.0366421714425087, 0.05035789683461189, 0.02565550059080124, 0.03289804607629776, 0.10780312865972519, 0.07290656864643097, 0.017152030020952225, 0.14246819913387299, 0.1177721917629242, 0.06300847977399826, 0.02293258160352707, 0.12104915827512741, 0.06877731531858444, 0.1191645935177803, 0.08687863498926163, 0.08255105465650558, 0.11243358999490738, 0.1530400961637497, 0.29546812176704407, 0.34412500262260437, 0.2234216034412384, 0.4747379422187805, 0.3384532332420349, 0.45763924717903137, 0.4422591030597687, 0.4600782096385956, 0.20496197044849396, 0.5080132484436035, 0.646056592464447, 0.07538381218910217, 0.233420729637146, 0.6126111149787903, 0.43498918414115906, 0.19697266817092896, 0.35410839319229126, 0.2055279165506363, 0.546227753162384, 0.32928717136383057, 0.28326940536499023, 0.16305524110794067, 0.13102956116199493, 0.2265111356973648, 0.21127581596374512, 0.23122861981391907, 0.29077818989753723, 0.2605564296245575, 0.12132252007722855, 0.2878437638282776, 0.006834345869719982, 0.3136008679866791, 0.0050743622705340385, 0.020993778482079506, 0.6224902868270874, 0.6041651964187622, 0.4824773073196411, 0.021731149405241013, 0.05326447635889053, 0.007043293211609125, 0.3779560625553131, 0.013804508373141289, 0.4106460213661194, 0.1554623246192932, 0.2402065396308899, 0.18026494979858398, 0.04621325805783272, 0.047549374401569366, 0.2934475839138031, 0.6090396046638489, 0.050001077353954315, 0.04413643479347229, 0.005848970729857683, 0.034919142723083496, 0.10299675911664963, 0.10305242985486984, 0.018370872363448143, 0.07669283449649811, 0.08035898208618164, 0.31265348196029663, 0.28865447640419006, 0.17314031720161438, 0.3542412221431732, 0.20479212701320648, 0.13909199833869934, 0.20140354335308075, 0.2856130003929138, 0.37581244111061096, 0.3249515891075134, 0.23252347111701965, 0.046304840594530106, 0.04497228562831879, 0.07899452745914459, 0.05188712477684021, 0.042716044932603836, 0.05357877165079117, 0.024627121165394783, 0.022882727906107903, 0.046831853687763214, 0.06286342442035675, 0.16560137271881104, 0.05770285055041313, 0.08709942549467087, 0.046143144369125366, 0.13500924408435822, 0.051552556455135345, 0.0603279210627079, 0.07522948086261749, 0.10079888254404068, 0.22710567712783813, 0.009006819687783718, 0.010643810033798218, 0.016989467665553093, 0.002618520287796855, 0.016345668584108353, 0.0058403462171554565, 0.0111931674182415, 0.03188324347138405, 0.009214757941663265, 0.009768873453140259, 0.01291260588914156, 0.029977180063724518, 0.0827014148235321, 0.06742206960916519, 0.003496736055240035, 0.09352556616067886, 0.0028674013447016478, 0.013008154928684235, 0.026814376935362816, 0.06263979524374008, 0.0008444560808129609, 0.0034396578557789326, 0.012116311118006706, 0.06280524283647537, 0.029482442885637283, 0.014725195243954659, 0.0068441699258983135, 0.004350260365754366, 0.011746487580239773, 0.005845663603395224, 0.030189020559191704, 0.008776731789112091, 0.0037167102564126253, 0.004639577120542526, 0.034599870443344116, 0.01111149787902832, 0.003966755233705044, 0.06177238002419472, 0.02904503233730793, 0.02584194764494896, 0.042786452919244766, 0.04722348973155022, 0.05700260400772095, 0.01817120984196663, 0.050007984042167664, 0.011562583968043327, 0.04309665784239769, 0.13477519154548645, 0.015568258240818977, 0.0469820499420166, 0.09357403218746185, 0.056485116481781006, 0.003990401513874531, 0.014409717172384262, 0.029916951432824135, 0.0571453794836998, 0.015031145885586739, 0.021350199356675148, 0.04622592404484749, 0.02739052101969719, 0.0235223900526762, 0.08154039084911346, 0.002234612125903368, 0.01394385751336813, 0.02532855235040188, 0.06510915607213974, 0.00685806293040514, 0.04795962944626808, 0.005117913242429495, 0.012451371178030968, 0.01749356836080551, 0.02377326600253582, 0.007243748754262924, 0.02276906929910183, 0.006580669432878494, 0.018891716375947, 0.05103355646133423, 0.011757934466004372, 0.017296042293310165, 0.01791606843471527, 0.013011950999498367, 0.0068416777066886425, 0.05079571157693863, 0.05396490544080734, 0.016959430649876595, 0.012517483904957771, 0.0072408150881528854, 0.04377095028758049, 0.016769632697105408, 0.006355600897222757, 0.04045438393950462, 0.02855357713997364, 0.06170199066400528, 0.0448441356420517, 0.015318871475756168, 0.023933596909046173, 0.004271694924682379, 0.026134995743632317, 0.026134995743632317, 0.1199260726571083, 0.0017674789996817708, 0.05506822094321251, 0.004516150802373886, 0.0034245294518768787, 0.007460449822247028, 0.017210889607667923, 0.004077791236341, 0.03563455119729042, 0.004229432437568903, 0.010096946731209755, 0.022197725251317024, 0.0028153453022241592, 0.008074615150690079, 0.0023425293620675802, 0.002283877693116665, 0.0037317026872187853, 0.002490631304681301, 0.012003499083220959, 0.015871623530983925, 0.0006947118090465665, 0.00354053289629519, 0.0035071878228336573, 0.0007660919800400734, 0.0072651817463338375, 0.003054287750273943, 0.0028223537374287844, 0.002770576858893037, 0.0031229862943291664, 0.0015917517011985183, 0.0021797979716211557, 0.004612331744283438, 0.006941087078303099, 0.0027857916429638863, 0.0027627411764115095, 0.008959331549704075, 0.011849597096443176, 0.009118999354541302, 0.006025135051459074, 0.016526425257325172, 0.011791770346462727, 0.0037972701247781515, 0.00715113990008831, 0.014045153744518757, 0.00394520815461874, 0.0047202748246490955, 0.005338883958756924, 0.014650598168373108, 0.0051255179569125175, 0.008084406144917011, 0.020433880388736725]\n"
     ]
    }
   ],
   "source": [
    "pred=[]\n",
    "for i in range(0,len(df_generate)):\n",
    "    pipeline_predict(model_test,df_generate['Generated News'][i],df_generate['Category'][i],pred)\n",
    "print(pred)"
   ]
  },
  {
   "cell_type": "code",
   "execution_count": 37,
   "metadata": {},
   "outputs": [
    {
     "data": {
      "text/html": [
       "<div>\n",
       "<style scoped>\n",
       "    .dataframe tbody tr th:only-of-type {\n",
       "        vertical-align: middle;\n",
       "    }\n",
       "\n",
       "    .dataframe tbody tr th {\n",
       "        vertical-align: top;\n",
       "    }\n",
       "\n",
       "    .dataframe thead th {\n",
       "        text-align: right;\n",
       "    }\n",
       "</style>\n",
       "<table border=\"1\" class=\"dataframe\">\n",
       "  <thead>\n",
       "    <tr style=\"text-align: right;\">\n",
       "      <th></th>\n",
       "      <th>Category</th>\n",
       "      <th>Media</th>\n",
       "      <th>Fact</th>\n",
       "      <th>Generated News</th>\n",
       "      <th>Subjective Commentry</th>\n",
       "      <th>Basic Faults</th>\n",
       "      <th>Additional Faults</th>\n",
       "      <th>Predicted Score</th>\n",
       "    </tr>\n",
       "  </thead>\n",
       "  <tbody>\n",
       "    <tr>\n",
       "      <th>0</th>\n",
       "      <td>International Politics</td>\n",
       "      <td>Hong Kong 01</td>\n",
       "      <td>1</td>\n",
       "      <td>据報導，特朗普支持者从早晨开始集结在國會大厦附近，庞大的人群激动地高喊着口号，不断挑衅警方，...</td>\n",
       "      <td>Yes</td>\n",
       "      <td>Time not mentioned|</td>\n",
       "      <td>NaN</td>\n",
       "      <td>0.270555</td>\n",
       "    </tr>\n",
       "    <tr>\n",
       "      <th>1</th>\n",
       "      <td>International Politics</td>\n",
       "      <td>Hong Kong 01</td>\n",
       "      <td>1</td>\n",
       "      <td>這場政變的引爆源頭是敗選的總統特朗普和一些支持他的共和黨人，他們指控選舉舞弊，不惜煽動支持者...</td>\n",
       "      <td>Yes</td>\n",
       "      <td>Time not mentioned|特朗普被指控犯有暴動罪|</td>\n",
       "      <td>比爾·巴爾的選舉舞弊指控|</td>\n",
       "      <td>0.100127</td>\n",
       "    </tr>\n",
       "    <tr>\n",
       "      <th>2</th>\n",
       "      <td>International Politics</td>\n",
       "      <td>Hong Kong 01</td>\n",
       "      <td>1</td>\n",
       "      <td>今日，美國持續發酵的政治危機再度引發全球關注。2020年選舉敗選總統特朗普的支持者，天真地相...</td>\n",
       "      <td>Yes</td>\n",
       "      <td>Time not mentioned|</td>\n",
       "      <td>國民警衛軍緊急出動，發射催淚彈與橡膠子彈鎮壓暴力行動|</td>\n",
       "      <td>0.755723</td>\n",
       "    </tr>\n",
       "    <tr>\n",
       "      <th>3</th>\n",
       "      <td>International Politics</td>\n",
       "      <td>Hong Kong 01</td>\n",
       "      <td>1</td>\n",
       "      <td>這場突發事件癱瘓了美國的立法機構，不僅讓國會議員們驚恐失措，更讓國際社會大為震驚。\\n\\n自...</td>\n",
       "      <td>No</td>\n",
       "      <td>NaN</td>\n",
       "      <td>白宮發言人表示，總統拜登認為這是一個“暴力攻擊政府”的事件|</td>\n",
       "      <td>0.059726</td>\n",
       "    </tr>\n",
       "    <tr>\n",
       "      <th>4</th>\n",
       "      <td>International Politics</td>\n",
       "      <td>Hong Kong 01</td>\n",
       "      <td>1</td>\n",
       "      <td>特朗普支持者衝擊國會，美國陷入政變\\n\\n美國時間1月6日，敗選總統特朗普的支持者佔領了國會...</td>\n",
       "      <td>Yes</td>\n",
       "      <td>NaN</td>\n",
       "      <td>美國共和國|</td>\n",
       "      <td>0.127581</td>\n",
       "    </tr>\n",
       "    <tr>\n",
       "      <th>...</th>\n",
       "      <td>...</td>\n",
       "      <td>...</td>\n",
       "      <td>...</td>\n",
       "      <td>...</td>\n",
       "      <td>...</td>\n",
       "      <td>...</td>\n",
       "      <td>...</td>\n",
       "      <td>...</td>\n",
       "    </tr>\n",
       "    <tr>\n",
       "      <th>445</th>\n",
       "      <td>Health &amp; Medicine</td>\n",
       "      <td>Xinhua News Agency</td>\n",
       "      <td>15</td>\n",
       "      <td>6月18日，以色列研究人员在预印本网站医学论文档案网上发布最新研究报告称，缺乏维生素D的人如...</td>\n",
       "      <td>Yes</td>\n",
       "      <td>这项研究是由以色列Tel Aviv大学的研究人员和以色列克拉维火炬科技公司展开的|约有50%...</td>\n",
       "      <td>NaN</td>\n",
       "      <td>0.005339</td>\n",
       "    </tr>\n",
       "    <tr>\n",
       "      <th>446</th>\n",
       "      <td>Health &amp; Medicine</td>\n",
       "      <td>Xinhua News Agency</td>\n",
       "      <td>15</td>\n",
       "      <td>以色列研究人员近日发布了一份有关新冠疫情的医学论文，在该论文中，他们指出缺乏维生素D的人如果...</td>\n",
       "      <td>Yes</td>\n",
       "      <td>这项研究基于约780名新冠肺炎患者的调查|Time Not Mentioned| 研究人员在...</td>\n",
       "      <td>NaN</td>\n",
       "      <td>0.014651</td>\n",
       "    </tr>\n",
       "    <tr>\n",
       "      <th>447</th>\n",
       "      <td>Health &amp; Medicine</td>\n",
       "      <td>Xinhua News Agency</td>\n",
       "      <td>15</td>\n",
       "      <td>近日，以色列研究人员在美国预印本网站医学论文档案网上发表了一篇报告，称如果缺乏维生素D，感染...</td>\n",
       "      <td>Yes</td>\n",
       "      <td>对以色列南部贝尔谢巴的一组新冠感染者进行了跟踪研究，其中包括了大约780名新冠感染者|仍有超...</td>\n",
       "      <td>NaN</td>\n",
       "      <td>0.005126</td>\n",
       "    </tr>\n",
       "    <tr>\n",
       "      <th>448</th>\n",
       "      <td>Health &amp; Medicine</td>\n",
       "      <td>Xinhua News Agency</td>\n",
       "      <td>15</td>\n",
       "      <td>随着新冠疫情在全球蔓延，许多科学家和医生都在努力研究影响感染后发展的因素。而以色列研究人员最...</td>\n",
       "      <td>Yes</td>\n",
       "      <td>Time Not Mentioned|</td>\n",
       "      <td>许多专家和医生发起了一项名为“独处日晒计划”的倡议|</td>\n",
       "      <td>0.008084</td>\n",
       "    </tr>\n",
       "    <tr>\n",
       "      <th>449</th>\n",
       "      <td>Health &amp; Medicine</td>\n",
       "      <td>Xinhua News Agency</td>\n",
       "      <td>15</td>\n",
       "      <td>2021年6月18日，以色列研究人员在美国预印本网站医学论文档案网上发布了一份有关新冠病毒和...</td>\n",
       "      <td>Yes</td>\n",
       "      <td>NaN</td>\n",
       "      <td>NaN</td>\n",
       "      <td>0.020434</td>\n",
       "    </tr>\n",
       "  </tbody>\n",
       "</table>\n",
       "<p>450 rows × 8 columns</p>\n",
       "</div>"
      ],
      "text/plain": [
       "                   Category               Media  Fact  \\\n",
       "0    International Politics        Hong Kong 01     1   \n",
       "1    International Politics        Hong Kong 01     1   \n",
       "2    International Politics        Hong Kong 01     1   \n",
       "3    International Politics        Hong Kong 01     1   \n",
       "4    International Politics        Hong Kong 01     1   \n",
       "..                      ...                 ...   ...   \n",
       "445       Health & Medicine  Xinhua News Agency    15   \n",
       "446       Health & Medicine  Xinhua News Agency    15   \n",
       "447       Health & Medicine  Xinhua News Agency    15   \n",
       "448       Health & Medicine  Xinhua News Agency    15   \n",
       "449       Health & Medicine  Xinhua News Agency    15   \n",
       "\n",
       "                                        Generated News Subjective Commentry  \\\n",
       "0    据報導，特朗普支持者从早晨开始集结在國會大厦附近，庞大的人群激动地高喊着口号，不断挑衅警方，...                  Yes   \n",
       "1    這場政變的引爆源頭是敗選的總統特朗普和一些支持他的共和黨人，他們指控選舉舞弊，不惜煽動支持者...                  Yes   \n",
       "2    今日，美國持續發酵的政治危機再度引發全球關注。2020年選舉敗選總統特朗普的支持者，天真地相...                  Yes   \n",
       "3    這場突發事件癱瘓了美國的立法機構，不僅讓國會議員們驚恐失措，更讓國際社會大為震驚。\\n\\n自...                   No   \n",
       "4    特朗普支持者衝擊國會，美國陷入政變\\n\\n美國時間1月6日，敗選總統特朗普的支持者佔領了國會...                  Yes   \n",
       "..                                                 ...                  ...   \n",
       "445  6月18日，以色列研究人员在预印本网站医学论文档案网上发布最新研究报告称，缺乏维生素D的人如...                  Yes   \n",
       "446  以色列研究人员近日发布了一份有关新冠疫情的医学论文，在该论文中，他们指出缺乏维生素D的人如果...                  Yes   \n",
       "447  近日，以色列研究人员在美国预印本网站医学论文档案网上发表了一篇报告，称如果缺乏维生素D，感染...                  Yes   \n",
       "448  随着新冠疫情在全球蔓延，许多科学家和医生都在努力研究影响感染后发展的因素。而以色列研究人员最...                  Yes   \n",
       "449  2021年6月18日，以色列研究人员在美国预印本网站医学论文档案网上发布了一份有关新冠病毒和...                  Yes   \n",
       "\n",
       "                                          Basic Faults  \\\n",
       "0                                  Time not mentioned|   \n",
       "1                      Time not mentioned|特朗普被指控犯有暴動罪|   \n",
       "2                                  Time not mentioned|   \n",
       "3                                                  NaN   \n",
       "4                                                  NaN   \n",
       "..                                                 ...   \n",
       "445  这项研究是由以色列Tel Aviv大学的研究人员和以色列克拉维火炬科技公司展开的|约有50%...   \n",
       "446  这项研究基于约780名新冠肺炎患者的调查|Time Not Mentioned| 研究人员在...   \n",
       "447  对以色列南部贝尔谢巴的一组新冠感染者进行了跟踪研究，其中包括了大约780名新冠感染者|仍有超...   \n",
       "448                                Time Not Mentioned|   \n",
       "449                                                NaN   \n",
       "\n",
       "                  Additional Faults  Predicted Score  \n",
       "0                               NaN         0.270555  \n",
       "1                     比爾·巴爾的選舉舞弊指控|         0.100127  \n",
       "2       國民警衛軍緊急出動，發射催淚彈與橡膠子彈鎮壓暴力行動|         0.755723  \n",
       "3    白宮發言人表示，總統拜登認為這是一個“暴力攻擊政府”的事件|         0.059726  \n",
       "4                            美國共和國|         0.127581  \n",
       "..                              ...              ...  \n",
       "445                             NaN         0.005339  \n",
       "446                             NaN         0.014651  \n",
       "447                             NaN         0.005126  \n",
       "448      许多专家和医生发起了一项名为“独处日晒计划”的倡议|         0.008084  \n",
       "449                             NaN         0.020434  \n",
       "\n",
       "[450 rows x 8 columns]"
      ]
     },
     "execution_count": 37,
     "metadata": {},
     "output_type": "execute_result"
    }
   ],
   "source": [
    "df_generate['Predicted Score'] = pred\n",
    "df_generate"
   ]
  },
  {
   "cell_type": "code",
   "execution_count": 38,
   "metadata": {},
   "outputs": [],
   "source": [
    "df_generate.to_csv('dataset/news_generated_data_final.csv',index=False)"
   ]
  }
 ],
 "metadata": {
  "kernelspec": {
   "display_name": "kidul",
   "language": "python",
   "name": "python3"
  },
  "language_info": {
   "codemirror_mode": {
    "name": "ipython",
    "version": 3
   },
   "file_extension": ".py",
   "mimetype": "text/x-python",
   "name": "python",
   "nbconvert_exporter": "python",
   "pygments_lexer": "ipython3",
   "version": "3.10.6"
  },
  "orig_nbformat": 4
 },
 "nbformat": 4,
 "nbformat_minor": 2
}
